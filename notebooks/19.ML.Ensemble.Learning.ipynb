{
 "cells": [
  {
   "cell_type": "code",
   "execution_count": 130,
   "id": "cb0e1215",
   "metadata": {},
   "outputs": [],
   "source": [
    "import numpy as np\n",
    "import pandas as pd\n",
    "from matplotlib import pyplot as plt\n",
    "import seaborn as sns"
   ]
  },
  {
   "cell_type": "code",
   "execution_count": 146,
   "id": "0fca0b73",
   "metadata": {},
   "outputs": [],
   "source": [
    "#Datasets for learning\n",
    "titanic = sns.load_dataset(\"titanic\")"
   ]
  },
  {
   "cell_type": "markdown",
   "id": "5e764d31",
   "metadata": {},
   "source": [
    "# Pre process data\n",
    "- We intend to predict who will survive from the titanic"
   ]
  },
  {
   "cell_type": "code",
   "execution_count": 149,
   "id": "b9e8aa8a",
   "metadata": {},
   "outputs": [
    {
     "data": {
      "text/plain": [
       "(891, 15)"
      ]
     },
     "execution_count": 149,
     "metadata": {},
     "output_type": "execute_result"
    }
   ],
   "source": [
    "titanic.shape"
   ]
  },
  {
   "cell_type": "code",
   "execution_count": null,
   "id": "2e169321",
   "metadata": {},
   "outputs": [],
   "source": [
    "#Explore for missingness\n",
    "titanic.isnull().sum()"
   ]
  },
  {
   "cell_type": "code",
   "execution_count": 154,
   "id": "41a5c911",
   "metadata": {},
   "outputs": [],
   "source": [
    "#titanic.drop('deck', axis=1, inplace=True) #remove deck too many missing\n",
    "titanic = titanic.loc[~titanic['age'].isna()] \n",
    "titanic = titanic.loc[~titanic['embarked'].isna()] \n",
    "titanic = titanic.loc[~titanic['embark_town'].isna()] "
   ]
  },
  {
   "cell_type": "code",
   "execution_count": 366,
   "id": "aa126df1",
   "metadata": {},
   "outputs": [],
   "source": [
    "#See if missingess is fixed\n",
    "titanic.isnull().sum()"
   ]
  },
  {
   "cell_type": "code",
   "execution_count": 159,
   "id": "ef6b6b30",
   "metadata": {},
   "outputs": [
    {
     "data": {
      "text/html": [
       "<div>\n",
       "<style scoped>\n",
       "    .dataframe tbody tr th:only-of-type {\n",
       "        vertical-align: middle;\n",
       "    }\n",
       "\n",
       "    .dataframe tbody tr th {\n",
       "        vertical-align: top;\n",
       "    }\n",
       "\n",
       "    .dataframe thead th {\n",
       "        text-align: right;\n",
       "    }\n",
       "</style>\n",
       "<table border=\"1\" class=\"dataframe\">\n",
       "  <thead>\n",
       "    <tr style=\"text-align: right;\">\n",
       "      <th></th>\n",
       "      <th>survived</th>\n",
       "      <th>pclass</th>\n",
       "      <th>age</th>\n",
       "      <th>sibsp</th>\n",
       "      <th>parch</th>\n",
       "      <th>fare</th>\n",
       "      <th>adult_male</th>\n",
       "      <th>alone</th>\n",
       "    </tr>\n",
       "  </thead>\n",
       "  <tbody>\n",
       "    <tr>\n",
       "      <th>survived</th>\n",
       "      <td>1.000000</td>\n",
       "      <td>-0.356462</td>\n",
       "      <td>-0.082446</td>\n",
       "      <td>-0.015523</td>\n",
       "      <td>0.095265</td>\n",
       "      <td>0.266100</td>\n",
       "      <td>-0.551151</td>\n",
       "      <td>-0.199741</td>\n",
       "    </tr>\n",
       "    <tr>\n",
       "      <th>pclass</th>\n",
       "      <td>-0.356462</td>\n",
       "      <td>1.000000</td>\n",
       "      <td>-0.365902</td>\n",
       "      <td>0.065187</td>\n",
       "      <td>0.023666</td>\n",
       "      <td>-0.552893</td>\n",
       "      <td>0.094635</td>\n",
       "      <td>0.150576</td>\n",
       "    </tr>\n",
       "    <tr>\n",
       "      <th>age</th>\n",
       "      <td>-0.082446</td>\n",
       "      <td>-0.365902</td>\n",
       "      <td>1.000000</td>\n",
       "      <td>-0.307351</td>\n",
       "      <td>-0.187896</td>\n",
       "      <td>0.093143</td>\n",
       "      <td>0.286543</td>\n",
       "      <td>0.195766</td>\n",
       "    </tr>\n",
       "    <tr>\n",
       "      <th>sibsp</th>\n",
       "      <td>-0.015523</td>\n",
       "      <td>0.065187</td>\n",
       "      <td>-0.307351</td>\n",
       "      <td>1.000000</td>\n",
       "      <td>0.383338</td>\n",
       "      <td>0.139860</td>\n",
       "      <td>-0.313016</td>\n",
       "      <td>-0.629408</td>\n",
       "    </tr>\n",
       "    <tr>\n",
       "      <th>parch</th>\n",
       "      <td>0.095265</td>\n",
       "      <td>0.023666</td>\n",
       "      <td>-0.187896</td>\n",
       "      <td>0.383338</td>\n",
       "      <td>1.000000</td>\n",
       "      <td>0.206624</td>\n",
       "      <td>-0.365580</td>\n",
       "      <td>-0.577109</td>\n",
       "    </tr>\n",
       "    <tr>\n",
       "      <th>fare</th>\n",
       "      <td>0.266100</td>\n",
       "      <td>-0.552893</td>\n",
       "      <td>0.093143</td>\n",
       "      <td>0.139860</td>\n",
       "      <td>0.206624</td>\n",
       "      <td>1.000000</td>\n",
       "      <td>-0.177446</td>\n",
       "      <td>-0.262799</td>\n",
       "    </tr>\n",
       "    <tr>\n",
       "      <th>adult_male</th>\n",
       "      <td>-0.551151</td>\n",
       "      <td>0.094635</td>\n",
       "      <td>0.286543</td>\n",
       "      <td>-0.313016</td>\n",
       "      <td>-0.365580</td>\n",
       "      <td>-0.177446</td>\n",
       "      <td>1.000000</td>\n",
       "      <td>0.400718</td>\n",
       "    </tr>\n",
       "    <tr>\n",
       "      <th>alone</th>\n",
       "      <td>-0.199741</td>\n",
       "      <td>0.150576</td>\n",
       "      <td>0.195766</td>\n",
       "      <td>-0.629408</td>\n",
       "      <td>-0.577109</td>\n",
       "      <td>-0.262799</td>\n",
       "      <td>0.400718</td>\n",
       "      <td>1.000000</td>\n",
       "    </tr>\n",
       "  </tbody>\n",
       "</table>\n",
       "</div>"
      ],
      "text/plain": [
       "            survived    pclass       age     sibsp     parch      fare  \\\n",
       "survived    1.000000 -0.356462 -0.082446 -0.015523  0.095265  0.266100   \n",
       "pclass     -0.356462  1.000000 -0.365902  0.065187  0.023666 -0.552893   \n",
       "age        -0.082446 -0.365902  1.000000 -0.307351 -0.187896  0.093143   \n",
       "sibsp      -0.015523  0.065187 -0.307351  1.000000  0.383338  0.139860   \n",
       "parch       0.095265  0.023666 -0.187896  0.383338  1.000000  0.206624   \n",
       "fare        0.266100 -0.552893  0.093143  0.139860  0.206624  1.000000   \n",
       "adult_male -0.551151  0.094635  0.286543 -0.313016 -0.365580 -0.177446   \n",
       "alone      -0.199741  0.150576  0.195766 -0.629408 -0.577109 -0.262799   \n",
       "\n",
       "            adult_male     alone  \n",
       "survived     -0.551151 -0.199741  \n",
       "pclass        0.094635  0.150576  \n",
       "age           0.286543  0.195766  \n",
       "sibsp        -0.313016 -0.629408  \n",
       "parch        -0.365580 -0.577109  \n",
       "fare         -0.177446 -0.262799  \n",
       "adult_male    1.000000  0.400718  \n",
       "alone         0.400718  1.000000  "
      ]
     },
     "execution_count": 159,
     "metadata": {},
     "output_type": "execute_result"
    }
   ],
   "source": [
    "#Explore for numeric predictors using correlation\n",
    "r = titanic.corr()\n",
    "r"
   ]
  },
  {
   "cell_type": "code",
   "execution_count": 160,
   "id": "8c87d712",
   "metadata": {},
   "outputs": [
    {
     "data": {
      "text/html": [
       "<div>\n",
       "<style scoped>\n",
       "    .dataframe tbody tr th:only-of-type {\n",
       "        vertical-align: middle;\n",
       "    }\n",
       "\n",
       "    .dataframe tbody tr th {\n",
       "        vertical-align: top;\n",
       "    }\n",
       "\n",
       "    .dataframe thead th {\n",
       "        text-align: right;\n",
       "    }\n",
       "</style>\n",
       "<table border=\"1\" class=\"dataframe\">\n",
       "  <thead>\n",
       "    <tr style=\"text-align: right;\">\n",
       "      <th></th>\n",
       "      <th>survived</th>\n",
       "      <th>pclass</th>\n",
       "      <th>age</th>\n",
       "      <th>sibsp</th>\n",
       "      <th>parch</th>\n",
       "      <th>fare</th>\n",
       "      <th>adult_male</th>\n",
       "      <th>alone</th>\n",
       "    </tr>\n",
       "  </thead>\n",
       "  <tbody>\n",
       "    <tr>\n",
       "      <th>survived</th>\n",
       "      <td>1.000000</td>\n",
       "      <td>0.127065</td>\n",
       "      <td>0.006797</td>\n",
       "      <td>0.000241</td>\n",
       "      <td>0.009075</td>\n",
       "      <td>0.070809</td>\n",
       "      <td>0.303767</td>\n",
       "      <td>0.039897</td>\n",
       "    </tr>\n",
       "    <tr>\n",
       "      <th>pclass</th>\n",
       "      <td>0.127065</td>\n",
       "      <td>1.000000</td>\n",
       "      <td>0.133884</td>\n",
       "      <td>0.004249</td>\n",
       "      <td>0.000560</td>\n",
       "      <td>0.305691</td>\n",
       "      <td>0.008956</td>\n",
       "      <td>0.022673</td>\n",
       "    </tr>\n",
       "    <tr>\n",
       "      <th>age</th>\n",
       "      <td>0.006797</td>\n",
       "      <td>0.133884</td>\n",
       "      <td>1.000000</td>\n",
       "      <td>0.094465</td>\n",
       "      <td>0.035305</td>\n",
       "      <td>0.008676</td>\n",
       "      <td>0.082107</td>\n",
       "      <td>0.038324</td>\n",
       "    </tr>\n",
       "    <tr>\n",
       "      <th>sibsp</th>\n",
       "      <td>0.000241</td>\n",
       "      <td>0.004249</td>\n",
       "      <td>0.094465</td>\n",
       "      <td>1.000000</td>\n",
       "      <td>0.146948</td>\n",
       "      <td>0.019561</td>\n",
       "      <td>0.097979</td>\n",
       "      <td>0.396155</td>\n",
       "    </tr>\n",
       "    <tr>\n",
       "      <th>parch</th>\n",
       "      <td>0.009075</td>\n",
       "      <td>0.000560</td>\n",
       "      <td>0.035305</td>\n",
       "      <td>0.146948</td>\n",
       "      <td>1.000000</td>\n",
       "      <td>0.042693</td>\n",
       "      <td>0.133648</td>\n",
       "      <td>0.333055</td>\n",
       "    </tr>\n",
       "    <tr>\n",
       "      <th>fare</th>\n",
       "      <td>0.070809</td>\n",
       "      <td>0.305691</td>\n",
       "      <td>0.008676</td>\n",
       "      <td>0.019561</td>\n",
       "      <td>0.042693</td>\n",
       "      <td>1.000000</td>\n",
       "      <td>0.031487</td>\n",
       "      <td>0.069063</td>\n",
       "    </tr>\n",
       "    <tr>\n",
       "      <th>adult_male</th>\n",
       "      <td>0.303767</td>\n",
       "      <td>0.008956</td>\n",
       "      <td>0.082107</td>\n",
       "      <td>0.097979</td>\n",
       "      <td>0.133648</td>\n",
       "      <td>0.031487</td>\n",
       "      <td>1.000000</td>\n",
       "      <td>0.160575</td>\n",
       "    </tr>\n",
       "    <tr>\n",
       "      <th>alone</th>\n",
       "      <td>0.039897</td>\n",
       "      <td>0.022673</td>\n",
       "      <td>0.038324</td>\n",
       "      <td>0.396155</td>\n",
       "      <td>0.333055</td>\n",
       "      <td>0.069063</td>\n",
       "      <td>0.160575</td>\n",
       "      <td>1.000000</td>\n",
       "    </tr>\n",
       "  </tbody>\n",
       "</table>\n",
       "</div>"
      ],
      "text/plain": [
       "            survived    pclass       age     sibsp     parch      fare  \\\n",
       "survived    1.000000  0.127065  0.006797  0.000241  0.009075  0.070809   \n",
       "pclass      0.127065  1.000000  0.133884  0.004249  0.000560  0.305691   \n",
       "age         0.006797  0.133884  1.000000  0.094465  0.035305  0.008676   \n",
       "sibsp       0.000241  0.004249  0.094465  1.000000  0.146948  0.019561   \n",
       "parch       0.009075  0.000560  0.035305  0.146948  1.000000  0.042693   \n",
       "fare        0.070809  0.305691  0.008676  0.019561  0.042693  1.000000   \n",
       "adult_male  0.303767  0.008956  0.082107  0.097979  0.133648  0.031487   \n",
       "alone       0.039897  0.022673  0.038324  0.396155  0.333055  0.069063   \n",
       "\n",
       "            adult_male     alone  \n",
       "survived      0.303767  0.039897  \n",
       "pclass        0.008956  0.022673  \n",
       "age           0.082107  0.038324  \n",
       "sibsp         0.097979  0.396155  \n",
       "parch         0.133648  0.333055  \n",
       "fare          0.031487  0.069063  \n",
       "adult_male    1.000000  0.160575  \n",
       "alone         0.160575  1.000000  "
      ]
     },
     "execution_count": 160,
     "metadata": {},
     "output_type": "execute_result"
    }
   ],
   "source": [
    "r2 = np.square(r)\n",
    "r2"
   ]
  },
  {
   "cell_type": "code",
   "execution_count": 370,
   "id": "00fc52b0",
   "metadata": {},
   "outputs": [],
   "source": [
    "plt.figure(figsize=(8, 6))\n",
    "sns.heatmap(r2, cmap=sns.cm.rocket_r)\n",
    "plt.show"
   ]
  },
  {
   "cell_type": "code",
   "execution_count": 373,
   "id": "9a728c46",
   "metadata": {},
   "outputs": [],
   "source": [
    "titanic_final = titanic[['alive', 'pclass', 'fare', 'adult_male', 'alone']]"
   ]
  },
  {
   "cell_type": "code",
   "execution_count": 371,
   "id": "4e7b686c",
   "metadata": {},
   "outputs": [],
   "source": [
    "#Exploring for categotical variables - first identify them\n",
    "titanic.select_dtypes(exclude='number').columns"
   ]
  },
  {
   "cell_type": "code",
   "execution_count": 372,
   "id": "bcfbb8e4",
   "metadata": {},
   "outputs": [],
   "source": [
    "#Explore for association with categorical variables\n",
    "for var in titanic.select_dtypes(exclude='number'):\n",
    "    if var != 'alive':\n",
    "        sns.countplot(data=titanic, x=var, hue='alive')\n",
    "        plt.show()"
   ]
  },
  {
   "cell_type": "code",
   "execution_count": 374,
   "id": "82c0b156",
   "metadata": {},
   "outputs": [],
   "source": [
    "#update the final data set \n",
    "titanic_final = titanic[['alive', 'pclass', 'fare', 'adult_male', 'alone', 'sex', 'embarked', 'class', 'who', 'adult_male', 'embark_town']]"
   ]
  },
  {
   "cell_type": "code",
   "execution_count": 375,
   "id": "7ed5b297",
   "metadata": {},
   "outputs": [],
   "source": [
    "#create dummy variables\n",
    "dummies = pd.get_dummies(titanic_final[['sex', 'embarked', 'class', 'who', 'embark_town']], drop_first=True)"
   ]
  },
  {
   "cell_type": "code",
   "execution_count": 173,
   "id": "8cf631d8",
   "metadata": {},
   "outputs": [],
   "source": [
    "#put dummy variables back with the numeric\n",
    "titanic_analytical = pd.concat([titanic_final[['alive', 'pclass', 'fare', 'adult_male', 'alone']], dummies], axis=1)"
   ]
  },
  {
   "cell_type": "code",
   "execution_count": 192,
   "id": "0eb864c9",
   "metadata": {},
   "outputs": [],
   "source": [
    "#removing duplicate variables - may not be necessary in other datasets\n",
    "titanic_analytical = pd.concat([titanic_analytical.iloc[:, 0:4], titanic_analytical.iloc[:, 5:]], axis=1)"
   ]
  },
  {
   "cell_type": "code",
   "execution_count": 376,
   "id": "6d943599",
   "metadata": {},
   "outputs": [],
   "source": [
    "titanic_analytical"
   ]
  },
  {
   "cell_type": "markdown",
   "id": "4ffab962",
   "metadata": {},
   "source": [
    "# Split Data"
   ]
  },
  {
   "cell_type": "code",
   "execution_count": 83,
   "id": "3e4db3a5",
   "metadata": {},
   "outputs": [],
   "source": [
    "from sklearn.model_selection import train_test_split"
   ]
  },
  {
   "cell_type": "code",
   "execution_count": 194,
   "id": "1796cec4",
   "metadata": {},
   "outputs": [],
   "source": [
    "label = titanic_analytical['alive']\n",
    "features = titanic_analytical.drop('alive', axis=1)"
   ]
  },
  {
   "cell_type": "code",
   "execution_count": 397,
   "id": "ffee208e",
   "metadata": {},
   "outputs": [],
   "source": [
    "feat_train, feat_test, lab_train, lab_test = train_test_split(features, label, test_size=0.2, random_state=101)"
   ]
  },
  {
   "cell_type": "markdown",
   "id": "6c2c76e7",
   "metadata": {},
   "source": [
    "# Random Forest (Ensemble using the bagging method)\n",
    "- This method works by creating multiple trees that will all predict and then vote"
   ]
  },
  {
   "cell_type": "code",
   "execution_count": 398,
   "id": "7f3a36f0",
   "metadata": {},
   "outputs": [],
   "source": [
    "from sklearn.ensemble import RandomForestClassifier"
   ]
  },
  {
   "cell_type": "code",
   "execution_count": 399,
   "id": "e3e6952f",
   "metadata": {},
   "outputs": [],
   "source": [
    "rfc = RandomForestClassifier(n_estimators=100) #using 100 trees"
   ]
  },
  {
   "cell_type": "code",
   "execution_count": 400,
   "id": "62ac7502",
   "metadata": {},
   "outputs": [
    {
     "data": {
      "text/plain": [
       "RandomForestClassifier()"
      ]
     },
     "execution_count": 400,
     "metadata": {},
     "output_type": "execute_result"
    }
   ],
   "source": [
    "rfc.fit(feat_train, lab_train) # train"
   ]
  },
  {
   "cell_type": "code",
   "execution_count": 401,
   "id": "8dff2457",
   "metadata": {},
   "outputs": [],
   "source": [
    "predicted = rfc.predict(feat_test) #predict"
   ]
  },
  {
   "cell_type": "code",
   "execution_count": 402,
   "id": "52259e69",
   "metadata": {},
   "outputs": [],
   "source": [
    "#predicted"
   ]
  },
  {
   "cell_type": "code",
   "execution_count": 403,
   "id": "f8f2942e",
   "metadata": {},
   "outputs": [],
   "source": [
    "#create a matrix for a quick assessment\n",
    "prediction_matrix = pd.DataFrame({'actual': lab_test, 'predicted':predicted})"
   ]
  },
  {
   "cell_type": "code",
   "execution_count": 404,
   "id": "c9a4205f",
   "metadata": {},
   "outputs": [
    {
     "data": {
      "text/html": [
       "<div>\n",
       "<style scoped>\n",
       "    .dataframe tbody tr th:only-of-type {\n",
       "        vertical-align: middle;\n",
       "    }\n",
       "\n",
       "    .dataframe tbody tr th {\n",
       "        vertical-align: top;\n",
       "    }\n",
       "\n",
       "    .dataframe thead th {\n",
       "        text-align: right;\n",
       "    }\n",
       "</style>\n",
       "<table border=\"1\" class=\"dataframe\">\n",
       "  <thead>\n",
       "    <tr style=\"text-align: right;\">\n",
       "      <th>predicted</th>\n",
       "      <th>0</th>\n",
       "      <th>1</th>\n",
       "    </tr>\n",
       "    <tr>\n",
       "      <th>actual</th>\n",
       "      <th></th>\n",
       "      <th></th>\n",
       "    </tr>\n",
       "  </thead>\n",
       "  <tbody>\n",
       "    <tr>\n",
       "      <th>0</th>\n",
       "      <td>64</td>\n",
       "      <td>20</td>\n",
       "    </tr>\n",
       "    <tr>\n",
       "      <th>1</th>\n",
       "      <td>14</td>\n",
       "      <td>45</td>\n",
       "    </tr>\n",
       "  </tbody>\n",
       "</table>\n",
       "</div>"
      ],
      "text/plain": [
       "predicted   0   1\n",
       "actual           \n",
       "0          64  20\n",
       "1          14  45"
      ]
     },
     "execution_count": 404,
     "metadata": {},
     "output_type": "execute_result"
    }
   ],
   "source": [
    "#Cross table to see actual against predicted\n",
    "pd.crosstab(prediction_matrix['actual'], prediction_matrix['predicted'])"
   ]
  },
  {
   "cell_type": "markdown",
   "id": "accb388c",
   "metadata": {},
   "source": [
    "# Evaluate model"
   ]
  },
  {
   "cell_type": "code",
   "execution_count": 405,
   "id": "429ef099",
   "metadata": {},
   "outputs": [],
   "source": [
    "from sklearn.metrics import classification_report, confusion_matrix"
   ]
  },
  {
   "cell_type": "code",
   "execution_count": 406,
   "id": "b0c53c88",
   "metadata": {},
   "outputs": [
    {
     "name": "stdout",
     "output_type": "stream",
     "text": [
      "              precision    recall  f1-score   support\n",
      "\n",
      "           0       0.82      0.76      0.79        84\n",
      "           1       0.69      0.76      0.73        59\n",
      "\n",
      "    accuracy                           0.76       143\n",
      "   macro avg       0.76      0.76      0.76       143\n",
      "weighted avg       0.77      0.76      0.76       143\n",
      "\n"
     ]
    }
   ],
   "source": [
    "print(classification_report(lab_test, predicted))"
   ]
  },
  {
   "cell_type": "markdown",
   "id": "71ed908d",
   "metadata": {},
   "source": [
    "# Compare to other algorithms for making this prediction"
   ]
  },
  {
   "cell_type": "markdown",
   "id": "62a1eb24",
   "metadata": {},
   "source": [
    "# KNN"
   ]
  },
  {
   "cell_type": "code",
   "execution_count": 407,
   "id": "558b34e9",
   "metadata": {},
   "outputs": [],
   "source": [
    "from sklearn.neighbors import KNeighborsClassifier"
   ]
  },
  {
   "cell_type": "code",
   "execution_count": 408,
   "id": "d9ee8ecc",
   "metadata": {},
   "outputs": [],
   "source": [
    "knn = KNeighborsClassifier(n_neighbors=27)"
   ]
  },
  {
   "cell_type": "code",
   "execution_count": 409,
   "id": "f536644a",
   "metadata": {},
   "outputs": [
    {
     "data": {
      "text/plain": [
       "KNeighborsClassifier(n_neighbors=27)"
      ]
     },
     "execution_count": 409,
     "metadata": {},
     "output_type": "execute_result"
    }
   ],
   "source": [
    "knn.fit(feat_train, lab_train)"
   ]
  },
  {
   "cell_type": "code",
   "execution_count": 410,
   "id": "755b41f4",
   "metadata": {},
   "outputs": [],
   "source": [
    "kpred = knn.predict(feat_test)"
   ]
  },
  {
   "cell_type": "code",
   "execution_count": 411,
   "id": "ada6c818",
   "metadata": {},
   "outputs": [
    {
     "name": "stdout",
     "output_type": "stream",
     "text": [
      "              precision    recall  f1-score   support\n",
      "\n",
      "           0       0.77      0.82      0.79        84\n",
      "           1       0.72      0.64      0.68        59\n",
      "\n",
      "    accuracy                           0.75       143\n",
      "   macro avg       0.74      0.73      0.74       143\n",
      "weighted avg       0.75      0.75      0.75       143\n",
      "\n"
     ]
    }
   ],
   "source": [
    "print(classification_report(lab_test, kpred))"
   ]
  },
  {
   "cell_type": "markdown",
   "id": "6e58ac2d",
   "metadata": {},
   "source": [
    "# Support Vector Classifier"
   ]
  },
  {
   "cell_type": "code",
   "execution_count": 412,
   "id": "4353db06",
   "metadata": {},
   "outputs": [],
   "source": [
    "from sklearn.svm import SVC"
   ]
  },
  {
   "cell_type": "code",
   "execution_count": 413,
   "id": "7aa22b51",
   "metadata": {},
   "outputs": [],
   "source": [
    "svc = SVC()"
   ]
  },
  {
   "cell_type": "code",
   "execution_count": 414,
   "id": "7f1e8099",
   "metadata": {},
   "outputs": [
    {
     "data": {
      "text/plain": [
       "SVC()"
      ]
     },
     "execution_count": 414,
     "metadata": {},
     "output_type": "execute_result"
    }
   ],
   "source": [
    "svc.fit(feat_train, lab_train)"
   ]
  },
  {
   "cell_type": "code",
   "execution_count": 415,
   "id": "9f24bbf3",
   "metadata": {},
   "outputs": [],
   "source": [
    "spred = svc.predict(feat_test)"
   ]
  },
  {
   "cell_type": "code",
   "execution_count": 416,
   "id": "b958d9a7",
   "metadata": {},
   "outputs": [
    {
     "name": "stdout",
     "output_type": "stream",
     "text": [
      "              precision    recall  f1-score   support\n",
      "\n",
      "           0       0.69      0.96      0.81        84\n",
      "           1       0.88      0.39      0.54        59\n",
      "\n",
      "    accuracy                           0.73       143\n",
      "   macro avg       0.79      0.68      0.67       143\n",
      "weighted avg       0.77      0.73      0.70       143\n",
      "\n"
     ]
    }
   ],
   "source": [
    "print(classification_report(lab_test, spred))"
   ]
  },
  {
   "cell_type": "markdown",
   "id": "f22c956c",
   "metadata": {},
   "source": [
    "# Decision Tree Classisifer"
   ]
  },
  {
   "cell_type": "code",
   "execution_count": 417,
   "id": "e2b5aaec",
   "metadata": {},
   "outputs": [],
   "source": [
    "from sklearn.tree import DecisionTreeClassifier"
   ]
  },
  {
   "cell_type": "code",
   "execution_count": 418,
   "id": "d72e1736",
   "metadata": {},
   "outputs": [],
   "source": [
    "dtc = DecisionTreeClassifier()"
   ]
  },
  {
   "cell_type": "code",
   "execution_count": 419,
   "id": "4e717736",
   "metadata": {},
   "outputs": [
    {
     "data": {
      "text/plain": [
       "DecisionTreeClassifier()"
      ]
     },
     "execution_count": 419,
     "metadata": {},
     "output_type": "execute_result"
    }
   ],
   "source": [
    "dtc.fit(feat_train, lab_train)"
   ]
  },
  {
   "cell_type": "code",
   "execution_count": 420,
   "id": "947a4a11",
   "metadata": {},
   "outputs": [],
   "source": [
    "dpred = dtc.predict(feat_test)"
   ]
  },
  {
   "cell_type": "code",
   "execution_count": 421,
   "id": "7c48e519",
   "metadata": {},
   "outputs": [
    {
     "name": "stdout",
     "output_type": "stream",
     "text": [
      "              precision    recall  f1-score   support\n",
      "\n",
      "           0       0.79      0.76      0.78        84\n",
      "           1       0.68      0.71      0.69        59\n",
      "\n",
      "    accuracy                           0.74       143\n",
      "   macro avg       0.73      0.74      0.73       143\n",
      "weighted avg       0.74      0.74      0.74       143\n",
      "\n"
     ]
    }
   ],
   "source": [
    "print(classification_report(lab_test, dpred))"
   ]
  },
  {
   "cell_type": "code",
   "execution_count": null,
   "id": "36b72996",
   "metadata": {},
   "outputs": [],
   "source": []
  },
  {
   "cell_type": "code",
   "execution_count": 453,
   "id": "aea4b679",
   "metadata": {},
   "outputs": [],
   "source": [
    "label = titanic['survived']\n",
    "features = titanic_analytical.drop('alive', axis=1)"
   ]
  },
  {
   "cell_type": "code",
   "execution_count": 454,
   "id": "11a98218",
   "metadata": {},
   "outputs": [],
   "source": [
    "feat_train, feat_test, lab_train, lab_test = train_test_split(features, label, test_size=0.2, random_state=101)"
   ]
  },
  {
   "cell_type": "code",
   "execution_count": null,
   "id": "d94e413e",
   "metadata": {},
   "outputs": [],
   "source": []
  },
  {
   "cell_type": "markdown",
   "id": "ddbb955b",
   "metadata": {},
   "source": [
    "# XGBoost (Ensemble using the Boosting Method)\n",
    "- This algorithm acts by trying to improve on the predictive accuracy"
   ]
  },
  {
   "cell_type": "code",
   "execution_count": 455,
   "id": "6c0384ec",
   "metadata": {},
   "outputs": [],
   "source": [
    "from xgboost import XGBClassifier"
   ]
  },
  {
   "cell_type": "code",
   "execution_count": 456,
   "id": "2cf5a157",
   "metadata": {},
   "outputs": [],
   "source": [
    "xgb = XGBClassifier()"
   ]
  },
  {
   "cell_type": "code",
   "execution_count": 457,
   "id": "7bb5aca2",
   "metadata": {},
   "outputs": [
    {
     "data": {
      "text/plain": [
       "XGBClassifier(base_score=0.5, booster='gbtree', callbacks=None,\n",
       "              colsample_bylevel=1, colsample_bynode=1, colsample_bytree=1,\n",
       "              early_stopping_rounds=None, enable_categorical=False,\n",
       "              eval_metric=None, gamma=0, gpu_id=-1, grow_policy='depthwise',\n",
       "              importance_type=None, interaction_constraints='',\n",
       "              learning_rate=0.300000012, max_bin=256, max_cat_to_onehot=4,\n",
       "              max_delta_step=0, max_depth=6, max_leaves=0, min_child_weight=1,\n",
       "              missing=nan, monotone_constraints='()', n_estimators=100,\n",
       "              n_jobs=0, num_parallel_tree=1, predictor='auto', random_state=0,\n",
       "              reg_alpha=0, reg_lambda=1, ...)"
      ]
     },
     "execution_count": 457,
     "metadata": {},
     "output_type": "execute_result"
    }
   ],
   "source": [
    "xgb.fit(feat_train, lab_train)"
   ]
  },
  {
   "cell_type": "code",
   "execution_count": 458,
   "id": "df69ff69",
   "metadata": {},
   "outputs": [],
   "source": [
    "xpred = xgb.predict(feat_test)"
   ]
  },
  {
   "cell_type": "code",
   "execution_count": 459,
   "id": "e7c4c9c5",
   "metadata": {},
   "outputs": [
    {
     "name": "stdout",
     "output_type": "stream",
     "text": [
      "              precision    recall  f1-score   support\n",
      "\n",
      "           0       0.81      0.79      0.80        84\n",
      "           1       0.71      0.75      0.73        59\n",
      "\n",
      "    accuracy                           0.77       143\n",
      "   macro avg       0.76      0.77      0.76       143\n",
      "weighted avg       0.77      0.77      0.77       143\n",
      "\n"
     ]
    }
   ],
   "source": [
    "print(classification_report(lab_test, xpred))"
   ]
  },
  {
   "cell_type": "markdown",
   "id": "4d5ce34e",
   "metadata": {},
   "source": [
    "# Logistic Regression"
   ]
  },
  {
   "cell_type": "code",
   "execution_count": 443,
   "id": "c0c302ca",
   "metadata": {},
   "outputs": [],
   "source": [
    "from sklearn.linear_model import LogisticRegression"
   ]
  },
  {
   "cell_type": "code",
   "execution_count": 444,
   "id": "6a325c8e",
   "metadata": {},
   "outputs": [],
   "source": [
    "logit = LogisticRegression(max_iter=1000)"
   ]
  },
  {
   "cell_type": "code",
   "execution_count": 445,
   "id": "1636e74d",
   "metadata": {},
   "outputs": [
    {
     "data": {
      "text/plain": [
       "LogisticRegression(max_iter=1000)"
      ]
     },
     "execution_count": 445,
     "metadata": {},
     "output_type": "execute_result"
    }
   ],
   "source": [
    "logit.fit(feat_train, lab_train)"
   ]
  },
  {
   "cell_type": "code",
   "execution_count": 446,
   "id": "4661cc87",
   "metadata": {},
   "outputs": [],
   "source": [
    "lpred = logit.predict(feat_test)"
   ]
  },
  {
   "cell_type": "code",
   "execution_count": 447,
   "id": "7f7e2e47",
   "metadata": {},
   "outputs": [
    {
     "name": "stdout",
     "output_type": "stream",
     "text": [
      "              precision    recall  f1-score   support\n",
      "\n",
      "           0       0.81      0.79      0.80        84\n",
      "           1       0.71      0.75      0.73        59\n",
      "\n",
      "    accuracy                           0.77       143\n",
      "   macro avg       0.76      0.77      0.76       143\n",
      "weighted avg       0.77      0.77      0.77       143\n",
      "\n"
     ]
    }
   ],
   "source": [
    "print(classification_report(lab_test, lpred))"
   ]
  },
  {
   "cell_type": "markdown",
   "id": "c45a7624",
   "metadata": {},
   "source": [
    "# Ranking of the models for predicting survival from this dataset\n",
    "1. XGBoost (83%)\n",
    "2. Logistic Regression (80%)\n",
    "3. Random Forest (76%) \n",
    "4. K Nearest Neighbors (75%) \n",
    "5. Decision Tree Classification (74%)\n",
    "6. Support Vector Machine Classification (73%)"
   ]
  },
  {
   "cell_type": "code",
   "execution_count": null,
   "id": "80d36d63",
   "metadata": {},
   "outputs": [],
   "source": []
  },
  {
   "cell_type": "code",
   "execution_count": null,
   "id": "00e9fa56",
   "metadata": {},
   "outputs": [],
   "source": []
  }
 ],
 "metadata": {
  "kernelspec": {
   "display_name": "Python 3 (ipykernel)",
   "language": "python",
   "name": "python3"
  },
  "language_info": {
   "codemirror_mode": {
    "name": "ipython",
    "version": 3
   },
   "file_extension": ".py",
   "mimetype": "text/x-python",
   "name": "python",
   "nbconvert_exporter": "python",
   "pygments_lexer": "ipython3",
   "version": "3.9.7"
  }
 },
 "nbformat": 4,
 "nbformat_minor": 5
}
