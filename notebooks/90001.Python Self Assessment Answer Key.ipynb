{
 "cells": [
  {
   "cell_type": "markdown",
   "id": "3b480ccb",
   "metadata": {},
   "source": [
    "# Review of python self assmessment "
   ]
  },
  {
   "cell_type": "code",
   "execution_count": 24,
   "id": "4401cbf2",
   "metadata": {},
   "outputs": [],
   "source": [
    "### some set values for testing\n",
    "x = 3 \n",
    "y = 4\n",
    "items = ['foo', 'bar', 'baz']"
   ]
  },
  {
   "cell_type": "markdown",
   "id": "2163ce22",
   "metadata": {},
   "source": [
    "### 1. Which of these are python data types"
   ]
  },
  {
   "cell_type": "code",
   "execution_count": null,
   "id": "aa71ab7a",
   "metadata": {},
   "outputs": [],
   "source": [
    "#Integer \n",
    "#String"
   ]
  },
  {
   "cell_type": "markdown",
   "id": "d0438e48",
   "metadata": {},
   "source": [
    "### 2. Which of these are python operators?"
   ]
  },
  {
   "cell_type": "code",
   "execution_count": 1,
   "id": "16746429",
   "metadata": {},
   "outputs": [],
   "source": [
    "# = \n",
    "# == \n",
    "# in \n",
    "# !="
   ]
  },
  {
   "cell_type": "markdown",
   "id": "d2da1353",
   "metadata": {},
   "source": [
    "### 3. Which of these is a valid ternary?"
   ]
  },
  {
   "cell_type": "code",
   "execution_count": 4,
   "id": "58073968",
   "metadata": {},
   "outputs": [],
   "source": [
    "print(True) if x == y else print(False)"
   ]
  },
  {
   "cell_type": "markdown",
   "id": "ad704b9e",
   "metadata": {},
   "source": [
    "### 4. Which of these is a tuple? "
   ]
  },
  {
   "cell_type": "code",
   "execution_count": null,
   "id": "6eef1754",
   "metadata": {},
   "outputs": [],
   "source": [
    "#it was created with round brackets\n",
    "(2, 5, 2, 7, 8)\n",
    "\n",
    "#technically the one with no brackets also qualifies which is why it is used for unpacking\n",
    "2,3,3,7,8 \n"
   ]
  },
  {
   "cell_type": "markdown",
   "id": "e6074c36",
   "metadata": {},
   "source": [
    "### 5. Which of the following statements are true?"
   ]
  },
  {
   "cell_type": "code",
   "execution_count": 7,
   "id": "04d2f8bd",
   "metadata": {},
   "outputs": [],
   "source": [
    "#Tuples are defined by roud brackets \n",
    "#Sets contain only unique values"
   ]
  },
  {
   "cell_type": "markdown",
   "id": "9130f367",
   "metadata": {},
   "source": [
    "### Q.6-10"
   ]
  },
  {
   "cell_type": "code",
   "execution_count": 6,
   "id": "71bba3a0",
   "metadata": {},
   "outputs": [],
   "source": [
    "fruits = ['mango', 'orange', 'guava', 'banana', 'pawpaw', 'lemon', 'grape', 'pineapple']"
   ]
  },
  {
   "cell_type": "markdown",
   "id": "4bde486a",
   "metadata": {},
   "source": [
    "### 6. How would you write a comprehension that gives you a list of the fruits with the first letter in uppercase (that is capitalized)?"
   ]
  },
  {
   "cell_type": "code",
   "execution_count": 8,
   "id": "4cf6bda1",
   "metadata": {},
   "outputs": [
    {
     "data": {
      "text/plain": [
       "['Mango', 'Orange', 'Guava', 'Banana', 'Pawpaw', 'Lemon', 'Grape', 'Pineapple']"
      ]
     },
     "execution_count": 8,
     "metadata": {},
     "output_type": "execute_result"
    }
   ],
   "source": [
    "[fruit.capitalize() for fruit in fruits]"
   ]
  },
  {
   "cell_type": "markdown",
   "id": "d7de345b",
   "metadata": {},
   "source": [
    "### 7. Using the same list above how would you get those fruits that have only five (5) letters in their name? Write the comprehension below."
   ]
  },
  {
   "cell_type": "code",
   "execution_count": 9,
   "id": "f1d27cfd",
   "metadata": {},
   "outputs": [
    {
     "data": {
      "text/plain": [
       "['mango', 'guava', 'lemon', 'grape']"
      ]
     },
     "execution_count": 9,
     "metadata": {},
     "output_type": "execute_result"
    }
   ],
   "source": [
    "[fruit for fruit in fruits if len(fruit) == 5]"
   ]
  },
  {
   "cell_type": "markdown",
   "id": "6b8d804a",
   "metadata": {},
   "source": [
    "### 8. Using the same list of fruits above, write a comprehension that gives you the fruits whose names end in 'e' "
   ]
  },
  {
   "cell_type": "code",
   "execution_count": 10,
   "id": "38bb1f1b",
   "metadata": {},
   "outputs": [
    {
     "data": {
      "text/plain": [
       "['orange', 'grape', 'pineapple']"
      ]
     },
     "execution_count": 10,
     "metadata": {},
     "output_type": "execute_result"
    }
   ],
   "source": [
    "[fruit for fruit in fruits if fruit[-1] == 'e']"
   ]
  },
  {
   "cell_type": "markdown",
   "id": "16f86c30",
   "metadata": {},
   "source": [
    "### 9. how would you slice to get ['orange', 'banana', 'pawpaw']? Write the code below."
   ]
  },
  {
   "cell_type": "code",
   "execution_count": 15,
   "id": "f32c6751",
   "metadata": {},
   "outputs": [
    {
     "data": {
      "text/plain": [
       "['orange', 'banana', 'pawpaw']"
      ]
     },
     "execution_count": 15,
     "metadata": {},
     "output_type": "execute_result"
    }
   ],
   "source": [
    "fruits[1:2] + fruits[3:5]"
   ]
  },
  {
   "cell_type": "markdown",
   "id": "0c6aa414",
   "metadata": {},
   "source": [
    "### 10. Using the list of fruits above, how would you get ['lemon', 'grape', 'pineapple']?"
   ]
  },
  {
   "cell_type": "code",
   "execution_count": 16,
   "id": "a6f66e71",
   "metadata": {},
   "outputs": [
    {
     "data": {
      "text/plain": [
       "['lemon', 'grape', 'pineapple']"
      ]
     },
     "execution_count": 16,
     "metadata": {},
     "output_type": "execute_result"
    }
   ],
   "source": [
    "fruits[-3:]"
   ]
  },
  {
   "cell_type": "markdown",
   "id": "899acdc4",
   "metadata": {},
   "source": [
    "### 11. Which of these is a valid lambda function?"
   ]
  },
  {
   "cell_type": "code",
   "execution_count": 18,
   "id": "55f2ee4d",
   "metadata": {},
   "outputs": [],
   "source": [
    "lambda x: x-3"
   ]
  },
  {
   "cell_type": "markdown",
   "id": "35c77cdc",
   "metadata": {},
   "source": [
    "### 12. Which of these python data types map to categorical in data science?"
   ]
  },
  {
   "cell_type": "code",
   "execution_count": 19,
   "id": "76d588f7",
   "metadata": {},
   "outputs": [],
   "source": [
    "#'Hello World'"
   ]
  },
  {
   "cell_type": "markdown",
   "id": "38daf5c4",
   "metadata": {},
   "source": [
    "### 13. Which of these python data types map to numeric in data science?"
   ]
  },
  {
   "cell_type": "code",
   "execution_count": 20,
   "id": "daa67f43",
   "metadata": {},
   "outputs": [],
   "source": [
    "#88\n",
    "#19.2"
   ]
  },
  {
   "cell_type": "markdown",
   "id": "dfefd5a6",
   "metadata": {},
   "source": [
    "### 14. Which of these map to missing data?"
   ]
  },
  {
   "cell_type": "code",
   "execution_count": 21,
   "id": "538325f7",
   "metadata": {},
   "outputs": [],
   "source": [
    "#None"
   ]
  },
  {
   "cell_type": "markdown",
   "id": "a962f6fb",
   "metadata": {},
   "source": [
    "### 15. Which of these will evaluate to a Boolean True?"
   ]
  },
  {
   "cell_type": "code",
   "execution_count": 22,
   "id": "395f9808",
   "metadata": {},
   "outputs": [],
   "source": [
    "# True and True \n",
    "# True or False \n",
    "# False or True"
   ]
  },
  {
   "cell_type": "markdown",
   "id": "65b09710",
   "metadata": {},
   "source": [
    "### 16. How would you check for equality with python?"
   ]
  },
  {
   "cell_type": "code",
   "execution_count": 23,
   "id": "60dee859",
   "metadata": {},
   "outputs": [
    {
     "data": {
      "text/plain": [
       "False"
      ]
     },
     "execution_count": 23,
     "metadata": {},
     "output_type": "execute_result"
    }
   ],
   "source": [
    "x == y"
   ]
  },
  {
   "cell_type": "markdown",
   "id": "10d5c1a8",
   "metadata": {},
   "source": [
    "### 17. In a for loop for a list which of these will give you access to the indexes and values?"
   ]
  },
  {
   "cell_type": "code",
   "execution_count": 27,
   "id": "2e88db06",
   "metadata": {},
   "outputs": [
    {
     "name": "stdout",
     "output_type": "stream",
     "text": [
      "0 foo\n",
      "1 bar\n",
      "2 baz\n"
     ]
    }
   ],
   "source": [
    "for i, item in enumerate(items):\n",
    "    print(i, item)"
   ]
  },
  {
   "cell_type": "markdown",
   "id": "d8579bf3",
   "metadata": {},
   "source": [
    "### 18. How would you in a for loop get both keys and values?"
   ]
  },
  {
   "cell_type": "code",
   "execution_count": 28,
   "id": "5037678a",
   "metadata": {},
   "outputs": [],
   "source": [
    "items = dict(foo=51515, bar=2118, baz=2126)"
   ]
  },
  {
   "cell_type": "code",
   "execution_count": 29,
   "id": "e0136516",
   "metadata": {},
   "outputs": [
    {
     "name": "stdout",
     "output_type": "stream",
     "text": [
      "foo 51515\n",
      "bar 2118\n",
      "baz 2126\n"
     ]
    }
   ],
   "source": [
    "for k,v in items.items():\n",
    "    print(k, v)"
   ]
  },
  {
   "cell_type": "markdown",
   "id": "35dc4ed7",
   "metadata": {},
   "source": [
    "### 19. If you got stuck and with no internet how would you find information about an inbuilt python function or module?"
   ]
  },
  {
   "cell_type": "code",
   "execution_count": 30,
   "id": "04da41fe",
   "metadata": {},
   "outputs": [
    {
     "name": "stdout",
     "output_type": "stream",
     "text": [
      "Help on built-in function len in module builtins:\n",
      "\n",
      "len(obj, /)\n",
      "    Return the number of items in a container.\n",
      "\n"
     ]
    }
   ],
   "source": [
    "help(len)"
   ]
  },
  {
   "cell_type": "code",
   "execution_count": 33,
   "id": "540b0b39",
   "metadata": {},
   "outputs": [
    {
     "data": {
      "text/plain": [
       "['__call__',\n",
       " '__class__',\n",
       " '__delattr__',\n",
       " '__dir__',\n",
       " '__doc__',\n",
       " '__eq__',\n",
       " '__format__',\n",
       " '__ge__',\n",
       " '__getattribute__',\n",
       " '__gt__',\n",
       " '__hash__',\n",
       " '__init__',\n",
       " '__init_subclass__',\n",
       " '__le__',\n",
       " '__lt__',\n",
       " '__module__',\n",
       " '__name__',\n",
       " '__ne__',\n",
       " '__new__',\n",
       " '__qualname__',\n",
       " '__reduce__',\n",
       " '__reduce_ex__',\n",
       " '__repr__',\n",
       " '__self__',\n",
       " '__setattr__',\n",
       " '__sizeof__',\n",
       " '__str__',\n",
       " '__subclasshook__',\n",
       " '__text_signature__']"
      ]
     },
     "execution_count": 33,
     "metadata": {},
     "output_type": "execute_result"
    }
   ],
   "source": [
    "dir(len)"
   ]
  },
  {
   "cell_type": "markdown",
   "id": "67e0c321",
   "metadata": {},
   "source": [
    "### 20. Which of these are atributes of the object?"
   ]
  },
  {
   "cell_type": "code",
   "execution_count": 34,
   "id": "3cfcb23f",
   "metadata": {},
   "outputs": [],
   "source": [
    "#object.name\n",
    "#object.laugh\n",
    "#object.sleep"
   ]
  },
  {
   "cell_type": "markdown",
   "id": "6ff109d4",
   "metadata": {},
   "source": [
    "### 21. Which of these are methods of the object?"
   ]
  },
  {
   "cell_type": "code",
   "execution_count": 35,
   "id": "c733ac96",
   "metadata": {},
   "outputs": [],
   "source": [
    "#object.shout()\n",
    "#object.jump()\n",
    "#object.laugh()\n",
    "#object.sit()"
   ]
  },
  {
   "cell_type": "markdown",
   "id": "d8a5a181",
   "metadata": {},
   "source": [
    "### 22. How would you import mean from the statistics module?"
   ]
  },
  {
   "cell_type": "code",
   "execution_count": 36,
   "id": "1a2175b1",
   "metadata": {},
   "outputs": [],
   "source": [
    "from statistics import mean"
   ]
  },
  {
   "cell_type": "markdown",
   "id": "a681c720",
   "metadata": {},
   "source": [
    "### 23. How would you import Pandas and alias it?"
   ]
  },
  {
   "cell_type": "code",
   "execution_count": 37,
   "id": "0c6943ec",
   "metadata": {},
   "outputs": [],
   "source": [
    "import pandas as pd"
   ]
  },
  {
   "cell_type": "markdown",
   "id": "bae61577",
   "metadata": {},
   "source": [
    "### 24. Bonus Question"
   ]
  },
  {
   "cell_type": "code",
   "execution_count": 38,
   "id": "3e3498fc",
   "metadata": {},
   "outputs": [],
   "source": [
    "#Whatever answer is correct"
   ]
  },
  {
   "cell_type": "markdown",
   "id": "ca4d98c7",
   "metadata": {},
   "source": [
    "### 25. Course Evaluation"
   ]
  },
  {
   "cell_type": "code",
   "execution_count": 39,
   "id": "a7ed6270",
   "metadata": {},
   "outputs": [],
   "source": [
    "#Whatever you answer is correct"
   ]
  },
  {
   "cell_type": "code",
   "execution_count": null,
   "id": "e18d7e18",
   "metadata": {},
   "outputs": [],
   "source": []
  },
  {
   "cell_type": "code",
   "execution_count": null,
   "id": "f242f429",
   "metadata": {},
   "outputs": [],
   "source": []
  }
 ],
 "metadata": {
  "kernelspec": {
   "display_name": "Python 3 (ipykernel)",
   "language": "python",
   "name": "python3"
  },
  "language_info": {
   "codemirror_mode": {
    "name": "ipython",
    "version": 3
   },
   "file_extension": ".py",
   "mimetype": "text/x-python",
   "name": "python",
   "nbconvert_exporter": "python",
   "pygments_lexer": "ipython3",
   "version": "3.9.7"
  }
 },
 "nbformat": 4,
 "nbformat_minor": 5
}
