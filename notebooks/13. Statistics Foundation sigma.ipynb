{
 "cells": [
  {
   "cell_type": "markdown",
   "id": "a1341075",
   "metadata": {},
   "source": [
    "# Statistics"
   ]
  },
  {
   "cell_type": "code",
   "execution_count": 199,
   "id": "b145ff2c",
   "metadata": {},
   "outputs": [],
   "source": [
    "#import pandas as pd"
   ]
  },
  {
   "cell_type": "code",
   "execution_count": 200,
   "id": "fe40d990",
   "metadata": {},
   "outputs": [],
   "source": [
    "#diseases = pd.read_csv(\"meningitis_dataset.csv\")\n",
    "#nhanes = pd.read_csv(\"nhanes.csv\")"
   ]
  },
  {
   "cell_type": "code",
   "execution_count": 201,
   "id": "b1c984d9",
   "metadata": {},
   "outputs": [],
   "source": [
    "#diseases.info()"
   ]
  },
  {
   "cell_type": "code",
   "execution_count": 202,
   "id": "536958ed",
   "metadata": {},
   "outputs": [],
   "source": [
    "#nhanes.info()"
   ]
  },
  {
   "cell_type": "markdown",
   "id": "e0390be4",
   "metadata": {},
   "source": [
    "## Univariate Analysis"
   ]
  },
  {
   "cell_type": "markdown",
   "id": "d21e5bef",
   "metadata": {},
   "source": [
    "### Univariate analysis for Numeric Data"
   ]
  },
  {
   "cell_type": "code",
   "execution_count": 203,
   "id": "d9605136",
   "metadata": {},
   "outputs": [],
   "source": [
    "#dmin = diseases['age'].min()\n",
    "#dmean = diseases['age'].mean()\n",
    "#dmedian = diseases['age'].median()\n",
    "#dmax = diseases['age'].max()\n",
    "#dQ1 = diseases['age'].quantile(0.25)\n",
    "#dQ3 = diseases['age'].quantile(0.75)\n",
    "#drange = dmax - dmin\n",
    "#dIQR = Q3 - Q1\n",
    "#dSD = diseases['age'].std()\n",
    "#five_number_summary = diseases['age'].quantile([0, 0.25, 0.5, 0.75, 1])\n"
   ]
  },
  {
   "cell_type": "code",
   "execution_count": 126,
   "id": "dcb9a43a",
   "metadata": {},
   "outputs": [],
   "source": [
    "#Build function"
   ]
  },
  {
   "cell_type": "code",
   "execution_count": 204,
   "id": "6fb9d399",
   "metadata": {},
   "outputs": [],
   "source": [
    "#uninum(diseases, 'age')"
   ]
  },
  {
   "cell_type": "code",
   "execution_count": 205,
   "id": "8b177955",
   "metadata": {},
   "outputs": [],
   "source": [
    "#uninum(nhanes, 'Age')"
   ]
  },
  {
   "cell_type": "markdown",
   "id": "5c5d08b8",
   "metadata": {},
   "source": [
    "### Univariate Analysis for Categorical Data "
   ]
  },
  {
   "cell_type": "code",
   "execution_count": 206,
   "id": "cd205797",
   "metadata": {},
   "outputs": [],
   "source": [
    "#gender = diseases['gender'].value_counts()\n",
    "#gender = pd.DataFrame(gender)\n",
    "#gender['prop'] = gender['gender']/sum(gender['gender'])\n",
    "#gender['percent'] = gender['prop']*100"
   ]
  },
  {
   "cell_type": "code",
   "execution_count": 96,
   "id": "47d9219e",
   "metadata": {},
   "outputs": [],
   "source": [
    "#define function"
   ]
  },
  {
   "cell_type": "code",
   "execution_count": 207,
   "id": "f71638a1",
   "metadata": {},
   "outputs": [],
   "source": [
    "#unicat(diseases, 'gender')"
   ]
  },
  {
   "cell_type": "code",
   "execution_count": 208,
   "id": "5b26bdc0",
   "metadata": {},
   "outputs": [],
   "source": [
    "#unicat(nhanes, 'Race1')"
   ]
  },
  {
   "cell_type": "markdown",
   "id": "0deadafe",
   "metadata": {},
   "source": [
    "## Bivariate Analysis"
   ]
  },
  {
   "cell_type": "markdown",
   "id": "e9a1eed3",
   "metadata": {},
   "source": [
    "### Categorical vs Categorical "
   ]
  },
  {
   "cell_type": "code",
   "execution_count": 209,
   "id": "9dd30846",
   "metadata": {},
   "outputs": [],
   "source": [
    "#crosstable = pd.crosstab(diseases['gender'], diseases['settlement'])\n",
    "#crosstable"
   ]
  },
  {
   "cell_type": "code",
   "execution_count": 210,
   "id": "292b27d7",
   "metadata": {},
   "outputs": [],
   "source": [
    "#tablesum = crosstable.sum().sum()\n",
    "#tablesum"
   ]
  },
  {
   "cell_type": "code",
   "execution_count": 211,
   "id": "36f05fe0",
   "metadata": {},
   "outputs": [],
   "source": [
    "#proptable = crosstable/tablesum\n",
    "#proptable"
   ]
  },
  {
   "cell_type": "code",
   "execution_count": 212,
   "id": "a0832d05",
   "metadata": {},
   "outputs": [],
   "source": [
    "#percentable = proptable*100\n",
    "#percentable"
   ]
  },
  {
   "cell_type": "code",
   "execution_count": 180,
   "id": "d0d1b583",
   "metadata": {},
   "outputs": [],
   "source": [
    "#define function"
   ]
  },
  {
   "cell_type": "code",
   "execution_count": 213,
   "id": "37b2245d",
   "metadata": {},
   "outputs": [],
   "source": [
    "#summary = bicat('Gender', 'Race1', nhanes)"
   ]
  },
  {
   "cell_type": "code",
   "execution_count": 214,
   "id": "bab96e76",
   "metadata": {},
   "outputs": [],
   "source": [
    "#summary['frequencies']"
   ]
  },
  {
   "cell_type": "code",
   "execution_count": 215,
   "id": "7e864efd",
   "metadata": {},
   "outputs": [],
   "source": [
    "#summary['proportions']"
   ]
  },
  {
   "cell_type": "code",
   "execution_count": 216,
   "id": "13205186",
   "metadata": {},
   "outputs": [],
   "source": [
    "#summary['percentages']"
   ]
  },
  {
   "cell_type": "markdown",
   "id": "b9022ed0",
   "metadata": {},
   "source": [
    "### Categorical vs Numeric"
   ]
  },
  {
   "cell_type": "code",
   "execution_count": 217,
   "id": "b79f8de7",
   "metadata": {},
   "outputs": [],
   "source": [
    "#diseases[['age', 'gender']].groupby('gender').quantile([0, 0.25, 0.5, 0.75, 1])"
   ]
  },
  {
   "cell_type": "code",
   "execution_count": 218,
   "id": "987551ef",
   "metadata": {},
   "outputs": [],
   "source": [
    "#diseases[['age', 'gender']].groupby('gender').mean()"
   ]
  },
  {
   "cell_type": "code",
   "execution_count": 219,
   "id": "deb10e64",
   "metadata": {},
   "outputs": [],
   "source": [
    "#diseases[['age', 'gender']].groupby('gender').std()"
   ]
  },
  {
   "cell_type": "markdown",
   "id": "e8d4d5ce",
   "metadata": {},
   "source": [
    "### Numeric vs Numeric"
   ]
  },
  {
   "cell_type": "code",
   "execution_count": 198,
   "id": "c8228129",
   "metadata": {},
   "outputs": [],
   "source": [
    "#nhanes[['Age', 'Weight']].corr()"
   ]
  }
 ],
 "metadata": {
  "kernelspec": {
   "display_name": "Python 3 (ipykernel)",
   "language": "python",
   "name": "python3"
  },
  "language_info": {
   "codemirror_mode": {
    "name": "ipython",
    "version": 3
   },
   "file_extension": ".py",
   "mimetype": "text/x-python",
   "name": "python",
   "nbconvert_exporter": "python",
   "pygments_lexer": "ipython3",
   "version": "3.9.7"
  }
 },
 "nbformat": 4,
 "nbformat_minor": 5
}
