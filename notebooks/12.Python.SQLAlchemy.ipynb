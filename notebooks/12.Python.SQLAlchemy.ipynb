{
 "cells": [
  {
   "cell_type": "code",
   "execution_count": 2,
   "id": "73cd38ae",
   "metadata": {},
   "outputs": [],
   "source": [
    "from sqlalchemy import create_engine\n",
    "import pandas as pd"
   ]
  },
  {
   "cell_type": "markdown",
   "id": "fa10e937",
   "metadata": {},
   "source": [
    "**I have set up a server online for you to practice with. The credentials are:**\n",
    "- RDBMS = postgresql\n",
    "- server = djynnius.com\n",
    "- username = admin \n",
    "- password = 3ikakkeMuSigmaPassword\n",
    "- database = musigma \n",
    "- port = 5444\n",
    "\n",
    "**The database has 3 tables:**\n",
    "1. students \n",
    "2. nhanes \n",
    "3. diseases (note this is a very large table with a quarter fo a million records so when grabbing data from it you may want to limit it to just a few thousands at a time)"
   ]
  },
  {
   "cell_type": "code",
   "execution_count": 3,
   "id": "0c499995",
   "metadata": {},
   "outputs": [],
   "source": [
    "rdbms = 'postgresql'\n",
    "server = 'djynnius.com'\n",
    "username = 'admin' \n",
    "password = '3ikakkeMuSigmaPassword'\n",
    "database = 'musigma'\n",
    "port = 5444\n",
    "\n",
    "engine = create_engine(f\"{rdbms}://{username}:{password}@{server}:{port}/{database}\")"
   ]
  },
  {
   "cell_type": "markdown",
   "id": "3e45b052",
   "metadata": {},
   "source": [
    "**Getting data from the students table**"
   ]
  },
  {
   "cell_type": "code",
   "execution_count": 4,
   "id": "c922f8e1",
   "metadata": {},
   "outputs": [],
   "source": [
    "nhanes = pd.read_sql(\"SELECT * FROM nhanes\", engine)"
   ]
  },
  {
   "cell_type": "markdown",
   "id": "0a2a0f7d",
   "metadata": {},
   "source": [
    "**Now you can proceed to carry out pandas data manipulation on the nhanes dataset**"
   ]
  },
  {
   "cell_type": "code",
   "execution_count": 8,
   "id": "478082cb",
   "metadata": {},
   "outputs": [
    {
     "data": {
      "text/html": [
       "<div>\n",
       "<style scoped>\n",
       "    .dataframe tbody tr th:only-of-type {\n",
       "        vertical-align: middle;\n",
       "    }\n",
       "\n",
       "    .dataframe tbody tr th {\n",
       "        vertical-align: top;\n",
       "    }\n",
       "\n",
       "    .dataframe thead th {\n",
       "        text-align: right;\n",
       "    }\n",
       "</style>\n",
       "<table border=\"1\" class=\"dataframe\">\n",
       "  <thead>\n",
       "    <tr style=\"text-align: right;\">\n",
       "      <th></th>\n",
       "      <th>SurveyYr</th>\n",
       "      <th>Age</th>\n",
       "      <th>Race1</th>\n",
       "      <th>Education</th>\n",
       "      <th>Gender</th>\n",
       "    </tr>\n",
       "  </thead>\n",
       "  <tbody>\n",
       "    <tr>\n",
       "      <th>0</th>\n",
       "      <td>2009_10</td>\n",
       "      <td>34</td>\n",
       "      <td>White</td>\n",
       "      <td>High School</td>\n",
       "      <td>male</td>\n",
       "    </tr>\n",
       "    <tr>\n",
       "      <th>1</th>\n",
       "      <td>2009_10</td>\n",
       "      <td>4</td>\n",
       "      <td>Other</td>\n",
       "      <td>None</td>\n",
       "      <td>male</td>\n",
       "    </tr>\n",
       "    <tr>\n",
       "      <th>2</th>\n",
       "      <td>2009_10</td>\n",
       "      <td>16</td>\n",
       "      <td>Black</td>\n",
       "      <td>None</td>\n",
       "      <td>male</td>\n",
       "    </tr>\n",
       "    <tr>\n",
       "      <th>3</th>\n",
       "      <td>2009_10</td>\n",
       "      <td>10</td>\n",
       "      <td>Black</td>\n",
       "      <td>None</td>\n",
       "      <td>male</td>\n",
       "    </tr>\n",
       "    <tr>\n",
       "      <th>4</th>\n",
       "      <td>2009_10</td>\n",
       "      <td>60</td>\n",
       "      <td>Black</td>\n",
       "      <td>High School</td>\n",
       "      <td>female</td>\n",
       "    </tr>\n",
       "    <tr>\n",
       "      <th>5</th>\n",
       "      <td>2009_10</td>\n",
       "      <td>26</td>\n",
       "      <td>Mexican</td>\n",
       "      <td>9 - 11th Grade</td>\n",
       "      <td>male</td>\n",
       "    </tr>\n",
       "    <tr>\n",
       "      <th>6</th>\n",
       "      <td>2009_10</td>\n",
       "      <td>49</td>\n",
       "      <td>White</td>\n",
       "      <td>Some College</td>\n",
       "      <td>female</td>\n",
       "    </tr>\n",
       "    <tr>\n",
       "      <th>7</th>\n",
       "      <td>2009_10</td>\n",
       "      <td>1</td>\n",
       "      <td>White</td>\n",
       "      <td>None</td>\n",
       "      <td>female</td>\n",
       "    </tr>\n",
       "    <tr>\n",
       "      <th>8</th>\n",
       "      <td>2009_10</td>\n",
       "      <td>10</td>\n",
       "      <td>Hispanic</td>\n",
       "      <td>None</td>\n",
       "      <td>male</td>\n",
       "    </tr>\n",
       "    <tr>\n",
       "      <th>9</th>\n",
       "      <td>2009_10</td>\n",
       "      <td>80</td>\n",
       "      <td>White</td>\n",
       "      <td>Some College</td>\n",
       "      <td>male</td>\n",
       "    </tr>\n",
       "    <tr>\n",
       "      <th>10</th>\n",
       "      <td>2009_10</td>\n",
       "      <td>10</td>\n",
       "      <td>Mexican</td>\n",
       "      <td>None</td>\n",
       "      <td>male</td>\n",
       "    </tr>\n",
       "  </tbody>\n",
       "</table>\n",
       "</div>"
      ],
      "text/plain": [
       "   SurveyYr  Age     Race1       Education  Gender\n",
       "0   2009_10   34     White     High School    male\n",
       "1   2009_10    4     Other            None    male\n",
       "2   2009_10   16     Black            None    male\n",
       "3   2009_10   10     Black            None    male\n",
       "4   2009_10   60     Black     High School  female\n",
       "5   2009_10   26   Mexican  9 - 11th Grade    male\n",
       "6   2009_10   49     White    Some College  female\n",
       "7   2009_10    1     White            None  female\n",
       "8   2009_10   10  Hispanic            None    male\n",
       "9   2009_10   80     White    Some College    male\n",
       "10  2009_10   10   Mexican            None    male"
      ]
     },
     "execution_count": 8,
     "metadata": {},
     "output_type": "execute_result"
    }
   ],
   "source": [
    "#Looking at the first 10 records, and limiting the fields to Survey Year, Age, Race, Educational Level, and Sex\n",
    "nhanes.loc[0:10, ['SurveyYr', 'Age', 'Race1', 'Education', 'Gender']]"
   ]
  },
  {
   "cell_type": "code",
   "execution_count": null,
   "id": "340fcaa8",
   "metadata": {},
   "outputs": [],
   "source": []
  }
 ],
 "metadata": {
  "kernelspec": {
   "display_name": "Python 3 (ipykernel)",
   "language": "python",
   "name": "python3"
  },
  "language_info": {
   "codemirror_mode": {
    "name": "ipython",
    "version": 3
   },
   "file_extension": ".py",
   "mimetype": "text/x-python",
   "name": "python",
   "nbconvert_exporter": "python",
   "pygments_lexer": "ipython3",
   "version": "3.9.7"
  }
 },
 "nbformat": 4,
 "nbformat_minor": 5
}
