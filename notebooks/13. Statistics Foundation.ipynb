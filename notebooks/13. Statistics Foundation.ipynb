{
 "cells": [
  {
   "cell_type": "markdown",
   "id": "a1341075",
   "metadata": {},
   "source": [
    "# Statistics"
   ]
  },
  {
   "cell_type": "code",
   "execution_count": 109,
   "id": "b145ff2c",
   "metadata": {},
   "outputs": [],
   "source": [
    "import pandas as pd"
   ]
  },
  {
   "cell_type": "code",
   "execution_count": 110,
   "id": "fe40d990",
   "metadata": {},
   "outputs": [],
   "source": [
    "nhanes = pd.read_csv(\"nhanes.csv\")"
   ]
  },
  {
   "cell_type": "code",
   "execution_count": 112,
   "id": "536958ed",
   "metadata": {},
   "outputs": [],
   "source": [
    "nhanes.info()"
   ]
  },
  {
   "cell_type": "markdown",
   "id": "e0390be4",
   "metadata": {},
   "source": [
    "## Univariate Analysis"
   ]
  },
  {
   "cell_type": "markdown",
   "id": "d21e5bef",
   "metadata": {},
   "source": [
    "### Univariate analysis for Numeric Data"
   ]
  },
  {
   "cell_type": "code",
   "execution_count": 132,
   "id": "d9605136",
   "metadata": {},
   "outputs": [],
   "source": [
    "summary = nhanes['Age'].describe()\n",
    "Age_range = summary['max'] - summary['min']\n",
    "Age_IQR = summary['75%'] - summary['25%']"
   ]
  },
  {
   "cell_type": "code",
   "execution_count": 137,
   "id": "debc9d0a",
   "metadata": {},
   "outputs": [],
   "source": [
    "summary"
   ]
  },
  {
   "cell_type": "code",
   "execution_count": 138,
   "id": "e04d50b9",
   "metadata": {},
   "outputs": [],
   "source": [
    "Age_range"
   ]
  },
  {
   "cell_type": "code",
   "execution_count": 139,
   "id": "485294eb",
   "metadata": {},
   "outputs": [],
   "source": [
    "Age_IQR"
   ]
  },
  {
   "cell_type": "markdown",
   "id": "5c5d08b8",
   "metadata": {},
   "source": [
    "### Univariate Analysis for Categorical Data "
   ]
  },
  {
   "cell_type": "code",
   "execution_count": 140,
   "id": "cd205797",
   "metadata": {},
   "outputs": [],
   "source": [
    "frequencies = nhanes['Race1'].value_counts()\n",
    "proportions = frequencies/frequencies.sum()\n",
    "percentages = proportions*100"
   ]
  },
  {
   "cell_type": "code",
   "execution_count": 141,
   "id": "47d9219e",
   "metadata": {},
   "outputs": [],
   "source": [
    "frequencies"
   ]
  },
  {
   "cell_type": "code",
   "execution_count": 142,
   "id": "f71638a1",
   "metadata": {},
   "outputs": [],
   "source": [
    "proportions"
   ]
  },
  {
   "cell_type": "code",
   "execution_count": 143,
   "id": "5b26bdc0",
   "metadata": {},
   "outputs": [],
   "source": [
    "percentages"
   ]
  },
  {
   "cell_type": "markdown",
   "id": "0deadafe",
   "metadata": {},
   "source": [
    "## Bivariate Analysis"
   ]
  },
  {
   "cell_type": "markdown",
   "id": "839ab286",
   "metadata": {},
   "source": [
    "### Numeric vs Numeric"
   ]
  },
  {
   "cell_type": "code",
   "execution_count": 144,
   "id": "dec53b81",
   "metadata": {},
   "outputs": [],
   "source": [
    "nhanes[['Weight', 'Height']].corr()"
   ]
  },
  {
   "cell_type": "markdown",
   "id": "e9a1eed3",
   "metadata": {},
   "source": [
    "### Categorical vs Categorical "
   ]
  },
  {
   "cell_type": "code",
   "execution_count": 145,
   "id": "9dd30846",
   "metadata": {},
   "outputs": [],
   "source": [
    "crosstable = pd.crosstab(nhanes['Gender'], nhanes['Race1'])\n",
    "proportions = crosstable/crosstable.sum().sum()\n",
    "percentages = proportions*100"
   ]
  },
  {
   "cell_type": "code",
   "execution_count": 146,
   "id": "292b27d7",
   "metadata": {},
   "outputs": [],
   "source": [
    "crosstable"
   ]
  },
  {
   "cell_type": "code",
   "execution_count": 147,
   "id": "36f05fe0",
   "metadata": {},
   "outputs": [],
   "source": [
    "proportions"
   ]
  },
  {
   "cell_type": "code",
   "execution_count": 148,
   "id": "a0832d05",
   "metadata": {},
   "outputs": [],
   "source": [
    "percentages"
   ]
  },
  {
   "cell_type": "markdown",
   "id": "b9022ed0",
   "metadata": {},
   "source": [
    "### Categorical vs Numeric"
   ]
  },
  {
   "cell_type": "code",
   "execution_count": 163,
   "id": "013517f1",
   "metadata": {},
   "outputs": [],
   "source": [
    "summary = nhanes[['Age', 'Race1']].groupby('Race1').describe()\n",
    "group_means = nhanes[['Age', 'Race1']].groupby('Race1').mean()\n",
    "group_sd = nhanes[['Age', 'Race1']].groupby('Race1').std()"
   ]
  },
  {
   "cell_type": "code",
   "execution_count": 194,
   "id": "461caf37",
   "metadata": {},
   "outputs": [],
   "source": [
    "summary"
   ]
  },
  {
   "cell_type": "code",
   "execution_count": 195,
   "id": "7118f725",
   "metadata": {},
   "outputs": [],
   "source": [
    "group_means"
   ]
  },
  {
   "cell_type": "code",
   "execution_count": 196,
   "id": "a88ed13d",
   "metadata": {},
   "outputs": [],
   "source": [
    "group_sd"
   ]
  }
 ],
 "metadata": {
  "kernelspec": {
   "display_name": "Python 3 (ipykernel)",
   "language": "python",
   "name": "python3"
  },
  "language_info": {
   "codemirror_mode": {
    "name": "ipython",
    "version": 3
   },
   "file_extension": ".py",
   "mimetype": "text/x-python",
   "name": "python",
   "nbconvert_exporter": "python",
   "pygments_lexer": "ipython3",
   "version": "3.9.7"
  }
 },
 "nbformat": 4,
 "nbformat_minor": 5
}
