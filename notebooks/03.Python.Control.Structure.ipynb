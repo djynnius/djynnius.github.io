{
 "cells": [
  {
   "cell_type": "code",
   "execution_count": 22,
   "id": "26a071ad",
   "metadata": {},
   "outputs": [],
   "source": [
    "#Assigning values to user defined variables  \n",
    "\n",
    "i = 1 \n",
    "j = 1 \n",
    "x = 2 \n",
    "y = 3 \n",
    "firstname = 'Tchala'  \n",
    "nation = 'Wakanda'  \n",
    "alias = 'Black Panther' \n",
    "avengers = [\"Captain America\", \"Iron Man\", \"Hulk\", \"Thor\"]"
   ]
  },
  {
   "cell_type": "markdown",
   "id": "390f3e00",
   "metadata": {},
   "source": [
    "## The **if** statement"
   ]
  },
  {
   "cell_type": "code",
   "execution_count": 23,
   "id": "cdba8576",
   "metadata": {},
   "outputs": [],
   "source": [
    "#Respects white space \n",
    "if x != y: print(\"Same!\")"
   ]
  },
  {
   "cell_type": "code",
   "execution_count": 24,
   "id": "827cdc90",
   "metadata": {},
   "outputs": [],
   "source": [
    "#For more complex situations where more than one line of action is required then:  \n",
    "\n",
    "if firstname == 'Tchala':\n",
    "    print(\"It is Tchala\") \n",
    "    print(f\"I think he is from {nation}\")\n",
    "    print(f\"He is the {alias}!\")"
   ]
  },
  {
   "cell_type": "markdown",
   "id": "34d6adcf",
   "metadata": {},
   "source": [
    "## The if-else statement "
   ]
  },
  {
   "cell_type": "code",
   "execution_count": 26,
   "id": "68edb444",
   "metadata": {},
   "outputs": [],
   "source": [
    "## The else statement  \n",
    "\n",
    "if x == y:\n",
    "    print(\"They are the same\")\n",
    "else:\n",
    "    print(\"They are different\")\n"
   ]
  },
  {
   "cell_type": "markdown",
   "id": "fdc5bac2",
   "metadata": {},
   "source": [
    "## The if-elif-else statement"
   ]
  },
  {
   "cell_type": "code",
   "execution_count": 27,
   "id": "d36d0712",
   "metadata": {},
   "outputs": [],
   "source": [
    "## The elif construct  \n",
    "#Where there are more than 2 conditions under test \n",
    "#then we need to use the else is abbreviated as elif construct \n",
    "\n",
    "#The control structure evaluates in sequence and \n",
    "#stops where it finds Truth if not \n",
    "#it continues to till it gets to the \n",
    "#else block and evaluates the else block\n",
    "\n",
    "if firstname == 'Steve':\n",
    "    print(f\"Wow its {avengers[0]}\")\n",
    "elif firstname == 'Tony':\n",
    "    print(f\"Wow its the {avengers[1]}\") \n",
    "elif firstname == 'Bruce':\n",
    "    print(f\"Wow its the {avengers[2]}\") \n",
    "else:\n",
    "    print(\"I don't know if he is an avenger\")"
   ]
  },
  {
   "cell_type": "markdown",
   "id": "c6723421",
   "metadata": {},
   "source": [
    "## The ternary statement "
   ]
  },
  {
   "cell_type": "code",
   "execution_count": 28,
   "id": "ea06c291",
   "metadata": {},
   "outputs": [],
   "source": [
    "## The ternary  \n",
    "#simple if-else statements in a single line  \n",
    "\n",
    "print(\"I am from Wakanda!\") if firstname == 'Tchala' else print(\"I am from Asgaard!\")\n"
   ]
  }
 ],
 "metadata": {
  "kernelspec": {
   "display_name": "Python 3 (ipykernel)",
   "language": "python",
   "name": "python3"
  },
  "language_info": {
   "codemirror_mode": {
    "name": "ipython",
    "version": 3
   },
   "file_extension": ".py",
   "mimetype": "text/x-python",
   "name": "python",
   "nbconvert_exporter": "python",
   "pygments_lexer": "ipython3",
   "version": "3.9.7"
  }
 },
 "nbformat": 4,
 "nbformat_minor": 5
}
