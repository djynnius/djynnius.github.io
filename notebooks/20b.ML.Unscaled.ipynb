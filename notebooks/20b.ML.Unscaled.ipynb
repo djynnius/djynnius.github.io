{
 "cells": [
  {
   "cell_type": "markdown",
   "id": "02d11d44",
   "metadata": {},
   "source": [
    "# Multiple models - unscaled"
   ]
  },
  {
   "cell_type": "code",
   "execution_count": 1,
   "id": "1575e32a",
   "metadata": {},
   "outputs": [],
   "source": [
    "import numpy as np\n",
    "import pandas as pd\n",
    "\n",
    "from matplotlib import pyplot as plt \n",
    "import seaborn as sns\n",
    "\n",
    "import cufflinks as cf"
   ]
  },
  {
   "cell_type": "code",
   "execution_count": 2,
   "id": "02e43594",
   "metadata": {},
   "outputs": [],
   "source": [
    "#cf.go_offline()"
   ]
  },
  {
   "cell_type": "code",
   "execution_count": 3,
   "id": "ee1e7eb0",
   "metadata": {},
   "outputs": [],
   "source": [
    "titanic = sns.load_dataset('titanic')"
   ]
  },
  {
   "cell_type": "code",
   "execution_count": 7,
   "id": "d69dfb9f",
   "metadata": {},
   "outputs": [],
   "source": [
    "titanic.isnull().sum()"
   ]
  },
  {
   "cell_type": "code",
   "execution_count": 5,
   "id": "e122f72b",
   "metadata": {},
   "outputs": [],
   "source": [
    "titanic.drop(columns=['deck'], inplace=True)\n",
    "titanic.age = titanic.age.fillna(titanic.age.mean())\n",
    "titanic.dropna(inplace=True)"
   ]
  },
  {
   "cell_type": "code",
   "execution_count": 8,
   "id": "43513662",
   "metadata": {},
   "outputs": [],
   "source": [
    "unlabelled  = titanic.drop(['survived', 'alive'], axis=1)"
   ]
  },
  {
   "cell_type": "code",
   "execution_count": 9,
   "id": "f6c6e881",
   "metadata": {},
   "outputs": [],
   "source": [
    "unlabelled = pd.get_dummies(unlabelled, drop_first=True)"
   ]
  },
  {
   "cell_type": "code",
   "execution_count": 11,
   "id": "3c6edb64",
   "metadata": {},
   "outputs": [],
   "source": [
    "#unlabelled"
   ]
  },
  {
   "cell_type": "code",
   "execution_count": 54,
   "id": "6b385f7d",
   "metadata": {},
   "outputs": [],
   "source": []
  },
  {
   "cell_type": "code",
   "execution_count": 55,
   "id": "69b75a2f",
   "metadata": {},
   "outputs": [],
   "source": []
  },
  {
   "cell_type": "code",
   "execution_count": 56,
   "id": "2da980a9",
   "metadata": {},
   "outputs": [],
   "source": [
    "#scaled = scaler.transform(unlabelled)"
   ]
  },
  {
   "cell_type": "code",
   "execution_count": 57,
   "id": "d5cd2e6c",
   "metadata": {},
   "outputs": [],
   "source": [
    "#xscaled = pd.DataFrame(scaled)"
   ]
  },
  {
   "cell_type": "code",
   "execution_count": 59,
   "id": "226f439d",
   "metadata": {},
   "outputs": [],
   "source": [
    "xscaled"
   ]
  },
  {
   "cell_type": "code",
   "execution_count": 13,
   "id": "42331637",
   "metadata": {},
   "outputs": [],
   "source": [
    "from sklearn.model_selection import train_test_split"
   ]
  },
  {
   "cell_type": "code",
   "execution_count": 14,
   "id": "e5bf3c66",
   "metadata": {},
   "outputs": [],
   "source": [
    "feat_train, feat_test, lab_train, lab_test = train_test_split(unlabelled, titanic.survived, test_size=0.2, random_state=101)"
   ]
  },
  {
   "cell_type": "code",
   "execution_count": 15,
   "id": "adda8c71",
   "metadata": {},
   "outputs": [],
   "source": [
    "from sklearn.neighbors import KNeighborsClassifier\n",
    "from sklearn.tree import DecisionTreeClassifier\n",
    "from sklearn.svm import SVC\n",
    "from sklearn.ensemble import RandomForestClassifier\n",
    "from sklearn.linear_model import LogisticRegression\n",
    "from xgboost import XGBClassifier"
   ]
  },
  {
   "cell_type": "code",
   "execution_count": 16,
   "id": "030ba7c2",
   "metadata": {},
   "outputs": [],
   "source": [
    "knn = KNeighborsClassifier(n_neighbors=7)\n",
    "knn.fit(feat_train, lab_train)\n",
    "kpred = knn.predict(feat_test)"
   ]
  },
  {
   "cell_type": "code",
   "execution_count": 17,
   "id": "addd7608",
   "metadata": {},
   "outputs": [],
   "source": [
    "dtc = DecisionTreeClassifier()\n",
    "dtc.fit(feat_train, lab_train)\n",
    "dpred = dtc.predict(feat_test)"
   ]
  },
  {
   "cell_type": "code",
   "execution_count": 18,
   "id": "7bade3bc",
   "metadata": {},
   "outputs": [],
   "source": [
    "svc = SVC()\n",
    "svc.fit(feat_train, lab_train)\n",
    "spred = svc.predict(feat_test)"
   ]
  },
  {
   "cell_type": "code",
   "execution_count": 19,
   "id": "3e1509d0",
   "metadata": {},
   "outputs": [],
   "source": [
    "rfc = RandomForestClassifier(n_estimators=500)\n",
    "rfc.fit(feat_train, lab_train)\n",
    "rpred = rfc.predict(feat_test)"
   ]
  },
  {
   "cell_type": "code",
   "execution_count": 23,
   "id": "5f1f5524",
   "metadata": {},
   "outputs": [
    {
     "name": "stderr",
     "output_type": "stream",
     "text": [
      "/Users/sikpe/opt/anaconda3/envs/cobra/lib/python3.9/site-packages/sklearn/linear_model/_logistic.py:814: ConvergenceWarning: lbfgs failed to converge (status=1):\n",
      "STOP: TOTAL NO. of ITERATIONS REACHED LIMIT.\n",
      "\n",
      "Increase the number of iterations (max_iter) or scale the data as shown in:\n",
      "    https://scikit-learn.org/stable/modules/preprocessing.html\n",
      "Please also refer to the documentation for alternative solver options:\n",
      "    https://scikit-learn.org/stable/modules/linear_model.html#logistic-regression\n",
      "  n_iter_i = _check_optimize_result(\n"
     ]
    }
   ],
   "source": [
    "logit = LogisticRegression(n_jobs=1000)\n",
    "logit.fit(feat_train, lab_train)\n",
    "lpred = logit.predict(feat_test)"
   ]
  },
  {
   "cell_type": "code",
   "execution_count": 24,
   "id": "9b39b27e",
   "metadata": {},
   "outputs": [],
   "source": [
    "xgb = XGBClassifier()\n",
    "xgb.fit(feat_train, lab_train)\n",
    "xpred = xgb.predict(feat_test)"
   ]
  },
  {
   "cell_type": "code",
   "execution_count": 25,
   "id": "25f0ba04",
   "metadata": {},
   "outputs": [],
   "source": [
    "from sklearn.metrics import classification_report"
   ]
  },
  {
   "cell_type": "code",
   "execution_count": 26,
   "id": "11f0a0eb",
   "metadata": {},
   "outputs": [
    {
     "name": "stdout",
     "output_type": "stream",
     "text": [
      "              precision    recall  f1-score   support\n",
      "\n",
      "           0       0.80      0.78      0.79       110\n",
      "           1       0.66      0.69      0.68        68\n",
      "\n",
      "    accuracy                           0.75       178\n",
      "   macro avg       0.73      0.74      0.73       178\n",
      "weighted avg       0.75      0.75      0.75       178\n",
      "\n"
     ]
    }
   ],
   "source": [
    "print(classification_report(kpred, lab_test))"
   ]
  },
  {
   "cell_type": "code",
   "execution_count": 27,
   "id": "4bc49085",
   "metadata": {},
   "outputs": [
    {
     "name": "stdout",
     "output_type": "stream",
     "text": [
      "              precision    recall  f1-score   support\n",
      "\n",
      "           0       0.90      0.68      0.77       141\n",
      "           1       0.37      0.70      0.48        37\n",
      "\n",
      "    accuracy                           0.69       178\n",
      "   macro avg       0.63      0.69      0.63       178\n",
      "weighted avg       0.79      0.69      0.71       178\n",
      "\n"
     ]
    }
   ],
   "source": [
    "print(classification_report(spred, lab_test))"
   ]
  },
  {
   "cell_type": "code",
   "execution_count": 28,
   "id": "3f9883f8",
   "metadata": {},
   "outputs": [
    {
     "name": "stdout",
     "output_type": "stream",
     "text": [
      "              precision    recall  f1-score   support\n",
      "\n",
      "           0       0.82      0.79      0.81       111\n",
      "           1       0.68      0.72      0.70        67\n",
      "\n",
      "    accuracy                           0.76       178\n",
      "   macro avg       0.75      0.75      0.75       178\n",
      "weighted avg       0.77      0.76      0.77       178\n",
      "\n"
     ]
    }
   ],
   "source": [
    "print(classification_report(dpred, lab_test))"
   ]
  },
  {
   "cell_type": "code",
   "execution_count": 29,
   "id": "8fca6927",
   "metadata": {},
   "outputs": [
    {
     "name": "stdout",
     "output_type": "stream",
     "text": [
      "              precision    recall  f1-score   support\n",
      "\n",
      "           0       0.89      0.83      0.86       115\n",
      "           1       0.72      0.81      0.76        63\n",
      "\n",
      "    accuracy                           0.82       178\n",
      "   macro avg       0.80      0.82      0.81       178\n",
      "weighted avg       0.83      0.82      0.82       178\n",
      "\n"
     ]
    }
   ],
   "source": [
    "print(classification_report(rpred, lab_test))"
   ]
  },
  {
   "cell_type": "code",
   "execution_count": 30,
   "id": "7db4b293",
   "metadata": {},
   "outputs": [
    {
     "name": "stdout",
     "output_type": "stream",
     "text": [
      "              precision    recall  f1-score   support\n",
      "\n",
      "           0       0.92      0.82      0.86       120\n",
      "           1       0.69      0.84      0.76        58\n",
      "\n",
      "    accuracy                           0.83       178\n",
      "   macro avg       0.80      0.83      0.81       178\n",
      "weighted avg       0.84      0.83      0.83       178\n",
      "\n"
     ]
    }
   ],
   "source": [
    "print(classification_report(lpred, lab_test))"
   ]
  },
  {
   "cell_type": "code",
   "execution_count": 31,
   "id": "7af63d2d",
   "metadata": {},
   "outputs": [
    {
     "name": "stdout",
     "output_type": "stream",
     "text": [
      "              precision    recall  f1-score   support\n",
      "\n",
      "           0       0.88      0.84      0.86       112\n",
      "           1       0.75      0.80      0.77        66\n",
      "\n",
      "    accuracy                           0.83       178\n",
      "   macro avg       0.81      0.82      0.82       178\n",
      "weighted avg       0.83      0.83      0.83       178\n",
      "\n"
     ]
    }
   ],
   "source": [
    "print(classification_report(xpred, lab_test))"
   ]
  },
  {
   "cell_type": "markdown",
   "id": "77071967",
   "metadata": {},
   "source": [
    "# Performance\n",
    "1. Logistic regression - 83%\n",
    "2. XGBoot - 83%\n",
    "3. Random Forest - 82%\n",
    "4. Decision tree 76% \n",
    "5. K-Nearest Neighbor - 75%\n",
    "6. Support Vector Machine 69%"
   ]
  },
  {
   "cell_type": "code",
   "execution_count": null,
   "id": "432bbe6a",
   "metadata": {},
   "outputs": [],
   "source": []
  }
 ],
 "metadata": {
  "kernelspec": {
   "display_name": "Python 3 (ipykernel)",
   "language": "python",
   "name": "python3"
  },
  "language_info": {
   "codemirror_mode": {
    "name": "ipython",
    "version": 3
   },
   "file_extension": ".py",
   "mimetype": "text/x-python",
   "name": "python",
   "nbconvert_exporter": "python",
   "pygments_lexer": "ipython3",
   "version": "3.9.7"
  }
 },
 "nbformat": 4,
 "nbformat_minor": 5
}
