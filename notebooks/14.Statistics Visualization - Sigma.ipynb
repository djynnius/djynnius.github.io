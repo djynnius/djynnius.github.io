{
 "cells": [
  {
   "cell_type": "markdown",
   "id": "03537bdd",
   "metadata": {},
   "source": [
    "# Statistics Visualization"
   ]
  },
  {
   "cell_type": "code",
   "execution_count": 2,
   "id": "5b1ddae9",
   "metadata": {},
   "outputs": [],
   "source": [
    "import pandas as pd\n",
    "from matplotlib import pyplot as plt #New module introduced\n",
    "import seaborn as sns #New module introduced"
   ]
  },
  {
   "cell_type": "code",
   "execution_count": 3,
   "id": "9a0bab61",
   "metadata": {},
   "outputs": [
    {
     "name": "stderr",
     "output_type": "stream",
     "text": [
      "/var/folders/fp/dx68ktm14f9cqfl3v_hz71_c0000gp/T/ipykernel_10401/2578987972.py:2: DtypeWarning: Columns (6,20,52,53) have mixed types. Specify dtype option on import or set low_memory=False.\n",
      "  nhanes = pd.read_csv(\"nhanes.csv\")\n"
     ]
    }
   ],
   "source": [
    "#Import data\n",
    "nhanes = pd.read_csv(\"nhanes.csv\")"
   ]
  },
  {
   "cell_type": "code",
   "execution_count": 8,
   "id": "1704fb1a",
   "metadata": {},
   "outputs": [
    {
     "name": "stdout",
     "output_type": "stream",
     "text": [
      "<class 'pandas.core.frame.DataFrame'>\n",
      "RangeIndex: 20293 entries, 0 to 20292\n",
      "Data columns (total 78 columns):\n",
      " #   Column            Non-Null Count  Dtype  \n",
      "---  ------            --------------  -----  \n",
      " 0   ID                20293 non-null  int64  \n",
      " 1   SurveyYr          20293 non-null  object \n",
      " 2   Gender            20293 non-null  object \n",
      " 3   Age               20293 non-null  int64  \n",
      " 4   AgeMonths         10738 non-null  float64\n",
      " 5   Race1             20293 non-null  object \n",
      " 6   Race3             9756 non-null   object \n",
      " 7   Education         11758 non-null  object \n",
      " 8   MaritalStatus     11767 non-null  object \n",
      " 9   HHIncome          18217 non-null  object \n",
      " 10  HHIncomeMid       18217 non-null  float64\n",
      " 11  Poverty           18457 non-null  float64\n",
      " 12  HomeRooms         20148 non-null  float64\n",
      " 13  HomeOwn           20156 non-null  object \n",
      " 14  Work              13060 non-null  object \n",
      " 15  Weight            19405 non-null  float64\n",
      " 16  Length            2285 non-null   float64\n",
      " 17  HeadCirc          474 non-null    float64\n",
      " 18  Height            18035 non-null  float64\n",
      " 19  BMI               18014 non-null  float64\n",
      " 20  BMICatUnder20yrs  3355 non-null   object \n",
      " 21  BMI_WHO           17947 non-null  object \n",
      " 22  Pulse             14896 non-null  float64\n",
      " 23  BPSysAve          14867 non-null  float64\n",
      " 24  BPDiaAve          14867 non-null  float64\n",
      " 25  BPSys1            14285 non-null  float64\n",
      " 26  BPDia1            14285 non-null  float64\n",
      " 27  BPSys2            14481 non-null  float64\n",
      " 28  BPDia2            14481 non-null  float64\n",
      " 29  BPSys3            14505 non-null  float64\n",
      " 30  BPDia3            14505 non-null  float64\n",
      " 31  Testosterone      6826 non-null   float64\n",
      " 32  DirectChol        14835 non-null  float64\n",
      " 33  TotChol           14834 non-null  float64\n",
      " 34  UrineVol1         16083 non-null  float64\n",
      " 35  UrineFlow1        14690 non-null  float64\n",
      " 36  UrineVol2         2708 non-null   float64\n",
      " 37  UrineFlow2        2697 non-null   float64\n",
      " 38  Diabetes          19460 non-null  object \n",
      " 39  DiabetesAge       1437 non-null   float64\n",
      " 40  HealthGen         12449 non-null  object \n",
      " 41  DaysPhysHlthBad   12431 non-null  float64\n",
      " 42  DaysMentHlthBad   12426 non-null  float64\n",
      " 43  LittleInterest    10508 non-null  object \n",
      " 44  Depressed         10514 non-null  object \n",
      " 45  nPregnancies      4202 non-null   float64\n",
      " 46  nBabies           3939 non-null   float64\n",
      " 47  Age1stBaby        3158 non-null   float64\n",
      " 48  SleepHrsNight     13032 non-null  float64\n",
      " 49  SleepTrouble      13058 non-null  object \n",
      " 50  PhysActive        14278 non-null  object \n",
      " 51  PhysActiveDays    7375 non-null   float64\n",
      " 52  TVHrsDay          9065 non-null   object \n",
      " 53  CompHrsDay        9074 non-null   object \n",
      " 54  TVHrsDayChild     2228 non-null   float64\n",
      " 55  CompHrsDayChild   2228 non-null   float64\n",
      " 56  Alcohol12PlusYr   10303 non-null  object \n",
      " 57  AlcoholDay        6993 non-null   float64\n",
      " 58  AlcoholYear       8831 non-null   float64\n",
      " 59  SmokeNow          5233 non-null   object \n",
      " 60  Smoke100          11771 non-null  object \n",
      " 61  SmokeAge          5049 non-null   float64\n",
      " 62  Marijuana         7072 non-null   object \n",
      " 63  AgeFirstMarij     3714 non-null   float64\n",
      " 64  RegularMarij      3712 non-null   object \n",
      " 65  AgeRegMarij       1820 non-null   float64\n",
      " 66  HardDrugs         8641 non-null   object \n",
      " 67  SexEver           8638 non-null   object \n",
      " 68  SexAge            8136 non-null   float64\n",
      " 69  SexNumPartnLife   8532 non-null   float64\n",
      " 70  SexNumPartYear    7040 non-null   float64\n",
      " 71  SameSex           8636 non-null   object \n",
      " 72  SexOrientation    6847 non-null   object \n",
      " 73  WTINT2YR          20293 non-null  float64\n",
      " 74  WTMEC2YR          20293 non-null  float64\n",
      " 75  SDMVPSU           20293 non-null  int64  \n",
      " 76  SDMVSTRA          20293 non-null  int64  \n",
      " 77  PregnantNow       2613 non-null   object \n",
      "dtypes: float64(45), int64(4), object(29)\n",
      "memory usage: 12.1+ MB\n"
     ]
    }
   ],
   "source": [
    "nhanes.info()"
   ]
  },
  {
   "cell_type": "markdown",
   "id": "8d0b74e1",
   "metadata": {},
   "source": [
    "##### Histogram"
   ]
  },
  {
   "cell_type": "code",
   "execution_count": 4,
   "id": "7c8814d9",
   "metadata": {},
   "outputs": [
    {
     "data": {
      "text/plain": [
       "count    20293.000000\n",
       "mean        32.024343\n",
       "std         24.757537\n",
       "min          0.000000\n",
       "25%         10.000000\n",
       "50%         28.000000\n",
       "75%         53.000000\n",
       "max         80.000000\n",
       "Name: Age, dtype: float64"
      ]
     },
     "execution_count": 4,
     "metadata": {},
     "output_type": "execute_result"
    }
   ],
   "source": [
    "nhanes['Age'].describe()"
   ]
  },
  {
   "cell_type": "code",
   "execution_count": 5,
   "id": "0829a77f",
   "metadata": {},
   "outputs": [
    {
     "data": {
      "image/png": "[encoded data removed]",
      "text/plain": [
       "<Figure size 432x288 with 1 Axes>"
      ]
     },
     "metadata": {
      "needs_background": "light"
     },
     "output_type": "display_data"
    }
   ],
   "source": [
    "sns.histplot(x='Age', data=nhanes)\n",
    "plt.show()"
   ]
  },
  {
   "cell_type": "code",
   "execution_count": 7,
   "id": "197f281f",
   "metadata": {},
   "outputs": [
    {
     "data": {
      "text/plain": [
       "count    14867.000000\n",
       "mean        65.598910\n",
       "std         15.629173\n",
       "min          0.000000\n",
       "25%         58.000000\n",
       "50%         67.000000\n",
       "75%         75.000000\n",
       "max        131.000000\n",
       "Name: BPDiaAve, dtype: float64"
      ]
     },
     "execution_count": 7,
     "metadata": {},
     "output_type": "execute_result"
    }
   ],
   "source": [
    "nhanes['BPDiaAve'].describe()"
   ]
  },
  {
   "cell_type": "code",
   "execution_count": 12,
   "id": "9eeebe13",
   "metadata": {},
   "outputs": [
    {
     "data": {
      "image/png": "[encoded data removed]",
      "text/plain": [
       "<Figure size 432x288 with 1 Axes>"
      ]
     },
     "metadata": {
      "needs_background": "light"
     },
     "output_type": "display_data"
    }
   ],
   "source": [
    "sns.histplot(data=nhanes, x='BPDiaAve')\n",
    "plt.show()"
   ]
  },
  {
   "cell_type": "markdown",
   "id": "f8f501a2",
   "metadata": {},
   "source": [
    "##### Boxplots"
   ]
  },
  {
   "cell_type": "code",
   "execution_count": 13,
   "id": "fe4e3711",
   "metadata": {},
   "outputs": [
    {
     "data": {
      "text/plain": [
       "count    20293.000000\n",
       "mean        32.024343\n",
       "std         24.757537\n",
       "min          0.000000\n",
       "25%         10.000000\n",
       "50%         28.000000\n",
       "75%         53.000000\n",
       "max         80.000000\n",
       "Name: Age, dtype: float64"
      ]
     },
     "execution_count": 13,
     "metadata": {},
     "output_type": "execute_result"
    }
   ],
   "source": [
    "nhanes['Age'].describe()"
   ]
  },
  {
   "cell_type": "code",
   "execution_count": 14,
   "id": "f15e0f54",
   "metadata": {},
   "outputs": [
    {
     "data": {
      "image/png": "[encoded data removed]",
      "text/plain": [
       "<Figure size 432x288 with 1 Axes>"
      ]
     },
     "metadata": {
      "needs_background": "light"
     },
     "output_type": "display_data"
    }
   ],
   "source": [
    "sns.boxplot(data=nhanes, x='Age')\n",
    "plt.show()"
   ]
  },
  {
   "cell_type": "markdown",
   "id": "5ac08775",
   "metadata": {},
   "source": [
    "### Categorical"
   ]
  },
  {
   "cell_type": "markdown",
   "id": "8b894f85",
   "metadata": {},
   "source": [
    "##### Barplot (countplot)"
   ]
  },
  {
   "cell_type": "code",
   "execution_count": 15,
   "id": "5187458a",
   "metadata": {},
   "outputs": [
    {
     "data": {
      "text/plain": [
       "White       7393\n",
       "Black       4640\n",
       "Mexican     3739\n",
       "Other       2312\n",
       "Hispanic    2209\n",
       "Name: Race1, dtype: int64"
      ]
     },
     "execution_count": 15,
     "metadata": {},
     "output_type": "execute_result"
    }
   ],
   "source": [
    "nhanes['Race1'].value_counts()"
   ]
  },
  {
   "cell_type": "code",
   "execution_count": 16,
   "id": "c674908b",
   "metadata": {},
   "outputs": [
    {
     "data": {
      "image/png": "[encoded data removed]",
      "text/plain": [
       "<Figure size 432x288 with 1 Axes>"
      ]
     },
     "metadata": {
      "needs_background": "light"
     },
     "output_type": "display_data"
    }
   ],
   "source": [
    "sns.countplot(data=nhanes, x='Race1')\n",
    "plt.show()"
   ]
  },
  {
   "cell_type": "markdown",
   "id": "e950ef5e",
   "metadata": {},
   "source": [
    "## Bivariate"
   ]
  },
  {
   "cell_type": "markdown",
   "id": "eeb6657b",
   "metadata": {},
   "source": [
    "##### Scatterplots (numeric vs numeric) - graphic representation of correlation"
   ]
  },
  {
   "cell_type": "code",
   "execution_count": 17,
   "id": "f659dc7e",
   "metadata": {},
   "outputs": [
    {
     "data": {
      "text/html": [
       "<div>\n",
       "<style scoped>\n",
       "    .dataframe tbody tr th:only-of-type {\n",
       "        vertical-align: middle;\n",
       "    }\n",
       "\n",
       "    .dataframe tbody tr th {\n",
       "        vertical-align: top;\n",
       "    }\n",
       "\n",
       "    .dataframe thead th {\n",
       "        text-align: right;\n",
       "    }\n",
       "</style>\n",
       "<table border=\"1\" class=\"dataframe\">\n",
       "  <thead>\n",
       "    <tr style=\"text-align: right;\">\n",
       "      <th></th>\n",
       "      <th>BMI</th>\n",
       "      <th>Weight</th>\n",
       "    </tr>\n",
       "  </thead>\n",
       "  <tbody>\n",
       "    <tr>\n",
       "      <th>BMI</th>\n",
       "      <td>1.000000</td>\n",
       "      <td>0.911194</td>\n",
       "    </tr>\n",
       "    <tr>\n",
       "      <th>Weight</th>\n",
       "      <td>0.911194</td>\n",
       "      <td>1.000000</td>\n",
       "    </tr>\n",
       "  </tbody>\n",
       "</table>\n",
       "</div>"
      ],
      "text/plain": [
       "             BMI    Weight\n",
       "BMI     1.000000  0.911194\n",
       "Weight  0.911194  1.000000"
      ]
     },
     "execution_count": 17,
     "metadata": {},
     "output_type": "execute_result"
    }
   ],
   "source": [
    "nhanes[['BMI', 'Weight']].corr()"
   ]
  },
  {
   "cell_type": "code",
   "execution_count": 18,
   "id": "2d52f99b",
   "metadata": {},
   "outputs": [
    {
     "data": {
      "image/png": "[encoded data removed]",
      "text/plain": [
       "<Figure size 432x288 with 1 Axes>"
      ]
     },
     "metadata": {
      "needs_background": "light"
     },
     "output_type": "display_data"
    }
   ],
   "source": [
    "sns.scatterplot(data=nhanes, x='BMI', y='Weight')\n",
    "plt.show()"
   ]
  },
  {
   "cell_type": "markdown",
   "id": "421667ee",
   "metadata": {},
   "source": [
    "##### Grouped countplots (2 categorical variables)"
   ]
  },
  {
   "cell_type": "code",
   "execution_count": 23,
   "id": "b41f8253",
   "metadata": {},
   "outputs": [
    {
     "data": {
      "image/png": "[encoded data removed]",
      "text/plain": [
       "<Figure size 432x288 with 1 Axes>"
      ]
     },
     "metadata": {
      "needs_background": "light"
     },
     "output_type": "display_data"
    }
   ],
   "source": [
    "sns.countplot(data=nhanes, x='Education', hue='Race1')\n",
    "plt.show()"
   ]
  },
  {
   "cell_type": "markdown",
   "id": "59ac7955",
   "metadata": {},
   "source": [
    "##### Grouped Boxplots (numeric vs categorical)"
   ]
  },
  {
   "cell_type": "code",
   "execution_count": 41,
   "id": "9c64da20",
   "metadata": {},
   "outputs": [
    {
     "data": {
      "image/png": "[encoded data removed]",
      "text/plain": [
       "<Figure size 432x288 with 1 Axes>"
      ]
     },
     "metadata": {
      "needs_background": "light"
     },
     "output_type": "display_data"
    }
   ],
   "source": [
    "sns.boxplot(data=nhanes, y='Age', x='Race1')\n",
    "plt.show()"
   ]
  },
  {
   "cell_type": "markdown",
   "id": "5609abff",
   "metadata": {},
   "source": [
    "### Styling plots"
   ]
  },
  {
   "cell_type": "code",
   "execution_count": 38,
   "id": "b462c220",
   "metadata": {},
   "outputs": [
    {
     "data": {
      "image/png": "[encoded data removed]",
      "text/plain": [
       "<Figure size 288x288 with 1 Axes>"
      ]
     },
     "metadata": {
      "needs_background": "light"
     },
     "output_type": "display_data"
    }
   ],
   "source": [
    "plt.figure(figsize=(4, 4)) #should come first\n",
    "sns.boxplot(x='Age', y='Race1', data=nhanes)\n",
    "plt.xlabel('Age (in years)')\n",
    "plt.ylabel('Racial groups')\n",
    "plt.title('Distribution of Age by Race')\n",
    "plt.show()"
   ]
  },
  {
   "cell_type": "code",
   "execution_count": null,
   "id": "b4a482c3",
   "metadata": {},
   "outputs": [],
   "source": []
  }
 ],
 "metadata": {
  "kernelspec": {
   "display_name": "Python 3 (ipykernel)",
   "language": "python",
   "name": "python3"
  },
  "language_info": {
   "codemirror_mode": {
    "name": "ipython",
    "version": 3
   },
   "file_extension": ".py",
   "mimetype": "text/x-python",
   "name": "python",
   "nbconvert_exporter": "python",
   "pygments_lexer": "ipython3",
   "version": "3.9.7"
  }
 },
 "nbformat": 4,
 "nbformat_minor": 5
}
