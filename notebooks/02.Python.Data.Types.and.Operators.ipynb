{
 "cells": [
  {
   "cell_type": "markdown",
   "id": "5398f38b",
   "metadata": {},
   "source": [
    "## 02. Python Introduction - Data Types and Operators"
   ]
  },
  {
   "cell_type": "markdown",
   "id": "6deefbeb",
   "metadata": {},
   "source": [
    "### A few \"need to know\" things"
   ]
  },
  {
   "cell_type": "code",
   "execution_count": 22,
   "id": "7f0f2f4e",
   "metadata": {},
   "outputs": [],
   "source": [
    "## This is a comment\n",
    "#Variables - discuss"
   ]
  },
  {
   "cell_type": "markdown",
   "id": "c81cf6ac",
   "metadata": {},
   "source": [
    "### Some functions"
   ]
  },
  {
   "cell_type": "code",
   "execution_count": 58,
   "id": "05565f73",
   "metadata": {},
   "outputs": [],
   "source": [
    "#print('Something')\n",
    "#type('Something')"
   ]
  },
  {
   "cell_type": "markdown",
   "id": "cae52ab2",
   "metadata": {},
   "source": [
    "### Strings"
   ]
  },
  {
   "cell_type": "code",
   "execution_count": 59,
   "id": "0b4caa5d",
   "metadata": {},
   "outputs": [],
   "source": [
    "#Single or double quotes dont matter, just be consistent\n",
    "#print(\"Hello world\")\n",
    "#print('Hello world')"
   ]
  },
  {
   "cell_type": "markdown",
   "id": "25544c95",
   "metadata": {},
   "source": [
    "### String methods"
   ]
  },
  {
   "cell_type": "code",
   "execution_count": 60,
   "id": "95da373d",
   "metadata": {},
   "outputs": [],
   "source": [
    "#\"Hello world\".lower()\n",
    "#\"Hello world\".upper()\n",
    "#\"hello world\".capitalize()"
   ]
  },
  {
   "cell_type": "code",
   "execution_count": 61,
   "id": "d388adc2",
   "metadata": {},
   "outputs": [],
   "source": [
    "#type('anything')"
   ]
  },
  {
   "cell_type": "markdown",
   "id": "d9bd9aed",
   "metadata": {},
   "source": [
    "### Integers "
   ]
  },
  {
   "cell_type": "code",
   "execution_count": 62,
   "id": "47c1d488",
   "metadata": {},
   "outputs": [],
   "source": [
    "#print(1)\n",
    "#print(4)\n",
    "#print(27)\n",
    "\n",
    "#type(25)"
   ]
  },
  {
   "cell_type": "markdown",
   "id": "632aada3",
   "metadata": {},
   "source": [
    "### Floats"
   ]
  },
  {
   "cell_type": "code",
   "execution_count": 63,
   "id": "4ec7a315",
   "metadata": {},
   "outputs": [],
   "source": [
    "#print(0.3)\n",
    "#print(4.6)\n",
    "#print(7.0)\n",
    "#print(14.00)\n",
    "\n",
    "#type(0.5)"
   ]
  },
  {
   "cell_type": "markdown",
   "id": "dd4f600c",
   "metadata": {},
   "source": [
    "### Booleans"
   ]
  },
  {
   "cell_type": "code",
   "execution_count": 64,
   "id": "604f3824",
   "metadata": {},
   "outputs": [],
   "source": [
    "#print(True)\n",
    "#print(False)\n",
    "\n",
    "#type(True)\n",
    "#type('True')"
   ]
  },
  {
   "cell_type": "markdown",
   "id": "ee75816a",
   "metadata": {},
   "source": [
    "### The None type"
   ]
  },
  {
   "cell_type": "code",
   "execution_count": 65,
   "id": "c6eee4dd",
   "metadata": {},
   "outputs": [],
   "source": [
    "#print(None)\n",
    "#type(None)\n",
    "#type('None')"
   ]
  },
  {
   "cell_type": "markdown",
   "id": "836135fa",
   "metadata": {},
   "source": [
    "## Collections"
   ]
  },
  {
   "cell_type": "code",
   "execution_count": 82,
   "id": "b42619a4",
   "metadata": {},
   "outputs": [],
   "source": [
    "#tuple\n",
    "days = ('monday', 'tuesday', 'wednesday', 'thursday', 'friday', 'saturday', 'sunday')   \n",
    "#list  \n",
    "basket = ['mango', 'banana', 'guava', 'orange', 'guava', 'pineapple', 'guava'] \n",
    "#set\n",
    "fruits = {'mango', 'banana', 'guava', 'orange', 'pineapple'} "
   ]
  },
  {
   "cell_type": "code",
   "execution_count": 67,
   "id": "87fc360e",
   "metadata": {},
   "outputs": [],
   "source": [
    "#type(days)\n",
    "#type(basket)\n",
    "#type(fruits)"
   ]
  },
  {
   "cell_type": "code",
   "execution_count": 68,
   "id": "f0b277f5",
   "metadata": {},
   "outputs": [],
   "source": [
    "#print(days)\n",
    "#print(basket)\n",
    "#print(fruits)"
   ]
  },
  {
   "cell_type": "code",
   "execution_count": 70,
   "id": "084c9053",
   "metadata": {},
   "outputs": [],
   "source": [
    "#pull out collection data by index\n",
    "#square brackets are used to index all types of collections\n",
    "#days[0]\n",
    "#basket[1]\n",
    "\n",
    "#type(days[0])"
   ]
  },
  {
   "cell_type": "code",
   "execution_count": 83,
   "id": "403f5b3c",
   "metadata": {},
   "outputs": [],
   "source": [
    "#dictionary\n",
    "details = {'name': 'Adamu Okechuckwu Adewumi', 'age': 35, 'sex': 'male'}\n",
    "\n",
    "#print(details)\n",
    "#type(details)"
   ]
  },
  {
   "cell_type": "code",
   "execution_count": 73,
   "id": "039b39ed",
   "metadata": {},
   "outputs": [],
   "source": [
    "#pull out collection data by key\n",
    "#details['name']\n",
    "#details['age']\n",
    "#details['sex']\n",
    "\n",
    "#type(details['name'])"
   ]
  },
  {
   "cell_type": "markdown",
   "id": "393b48cb",
   "metadata": {},
   "source": [
    "## Operators"
   ]
  },
  {
   "cell_type": "markdown",
   "id": "e56e7ede",
   "metadata": {},
   "source": [
    "### The assignment operator"
   ]
  },
  {
   "cell_type": "code",
   "execution_count": 74,
   "id": "6d9c2ddc",
   "metadata": {},
   "outputs": [],
   "source": [
    "i = 1 \n",
    "j = 1 \n",
    "x = 2\n",
    "y = 3 \n",
    "z = x \n",
    "\n",
    "greet = 'Hello'\n",
    "firstname = 'Danladi'  \n",
    "fruits = ['guava', 'orange', 'banana'] \n",
    "\n",
    "#print(greet, firstname, fruits)"
   ]
  },
  {
   "cell_type": "markdown",
   "id": "02ab89b9",
   "metadata": {},
   "source": [
    "### Mathematical operators"
   ]
  },
  {
   "cell_type": "code",
   "execution_count": 75,
   "id": "fd0db3fa",
   "metadata": {},
   "outputs": [],
   "source": [
    "#x + y #addition\n",
    "#x - y #subtraction\n",
    "#x / y #division\n",
    "#x * y #multiplication \n",
    "#x ** y #exponent \n",
    "#y % x #modulus(remainder)"
   ]
  },
  {
   "cell_type": "code",
   "execution_count": 77,
   "id": "5f32b49a",
   "metadata": {},
   "outputs": [],
   "source": [
    "#PEDMAS\n",
    "#(x + y)**z - (i + j)/z*y"
   ]
  },
  {
   "cell_type": "markdown",
   "id": "5b6b14c1",
   "metadata": {},
   "source": [
    "### The concatenation operator + "
   ]
  },
  {
   "cell_type": "code",
   "execution_count": 78,
   "id": "a7dd6f10",
   "metadata": {},
   "outputs": [],
   "source": [
    "#print(greet + firstname) \n",
    "#print(greet + ' ' + firstname)"
   ]
  },
  {
   "cell_type": "markdown",
   "id": "1f8e5a62",
   "metadata": {},
   "source": [
    "### Comparison operators (==, >, <, >=, <=, !=, is, is not, in, not in)"
   ]
  },
  {
   "cell_type": "code",
   "execution_count": 79,
   "id": "629c2244",
   "metadata": {},
   "outputs": [],
   "source": [
    "#x == y \n",
    "#i == j\n",
    "#x > y \n",
    "#x < y \n",
    "#x >= y \n",
    "#x <= y \n",
    "#x != y \n",
    "#x is y \n",
    "#x is not y \n",
    "#i is j\n",
    "#i is not j \n",
    "#x is z\n",
    "\n",
    "#'mango' in fruits\n",
    "#'mango' not in fruits \n",
    "#'pineapple' in fruits \n",
    "#'pineapple' not in fruits"
   ]
  },
  {
   "cell_type": "markdown",
   "id": "0d2e49da",
   "metadata": {},
   "source": [
    "### Logical operators (and, or)  "
   ]
  },
  {
   "cell_type": "code",
   "execution_count": 80,
   "id": "ec6a2e65",
   "metadata": {},
   "outputs": [],
   "source": [
    "#True and True\n",
    "#True and False \n",
    "#False and False\n",
    "#True or True\n",
    "#True or False \n",
    "#False or False\n",
    "\n",
    "#(True and True) or (True or False) \n",
    "\n",
    "#((x == y) and ('mango' in fruits)) or (z > y)"
   ]
  },
  {
   "cell_type": "markdown",
   "id": "ec8c8c05",
   "metadata": {},
   "source": [
    "### Extras"
   ]
  },
  {
   "cell_type": "code",
   "execution_count": 81,
   "id": "d2aaeb4d",
   "metadata": {},
   "outputs": [],
   "source": [
    "#f-strings\n",
    "#print(f\"{greet} {firstname}\")"
   ]
  }
 ],
 "metadata": {
  "kernelspec": {
   "display_name": "Python 3 (ipykernel)",
   "language": "python",
   "name": "python3"
  },
  "language_info": {
   "codemirror_mode": {
    "name": "ipython",
    "version": 3
   },
   "file_extension": ".py",
   "mimetype": "text/x-python",
   "name": "python",
   "nbconvert_exporter": "python",
   "pygments_lexer": "ipython3",
   "version": "3.9.7"
  }
 },
 "nbformat": 4,
 "nbformat_minor": 5
}
