{
 "cells": [
  {
   "cell_type": "markdown",
   "id": "0356bde3",
   "metadata": {},
   "source": [
    "# AB Testing"
   ]
  },
  {
   "cell_type": "code",
   "execution_count": 1,
   "id": "d353d068",
   "metadata": {},
   "outputs": [],
   "source": [
    "import pandas as pd"
   ]
  },
  {
   "cell_type": "code",
   "execution_count": 3,
   "id": "dcd2b3fb",
   "metadata": {},
   "outputs": [],
   "source": [
    "nhanes = pd.read_csv(\"nhanes.csv\")"
   ]
  },
  {
   "cell_type": "markdown",
   "id": "c71d961d",
   "metadata": {},
   "source": [
    "### Categorical vs Categorical"
   ]
  },
  {
   "cell_type": "code",
   "execution_count": 4,
   "id": "baf9b0c4",
   "metadata": {},
   "outputs": [],
   "source": [
    "from scipy.stats import chi2_contingency"
   ]
  },
  {
   "cell_type": "code",
   "execution_count": 8,
   "id": "14ac0a94",
   "metadata": {},
   "outputs": [],
   "source": [
    "compare = pd.crosstab(nhanes['Gender'], nhanes['Education'])"
   ]
  },
  {
   "cell_type": "code",
   "execution_count": 9,
   "id": "c14f120b",
   "metadata": {},
   "outputs": [],
   "source": [
    "chi, pvalue, df, expected = chi2_contingency(compare)"
   ]
  },
  {
   "cell_type": "code",
   "execution_count": 17,
   "id": "2931e17c",
   "metadata": {},
   "outputs": [
    {
     "data": {
      "text/plain": [
       "6.3004421754863765e-06"
      ]
     },
     "execution_count": 17,
     "metadata": {},
     "output_type": "execute_result"
    }
   ],
   "source": [
    "pvalue"
   ]
  },
  {
   "cell_type": "markdown",
   "id": "999f9195",
   "metadata": {},
   "source": [
    "##### Single Categorical variable"
   ]
  },
  {
   "cell_type": "code",
   "execution_count": 19,
   "id": "eb8566c8",
   "metadata": {},
   "outputs": [],
   "source": [
    "from scipy.stats import chisquare"
   ]
  },
  {
   "cell_type": "code",
   "execution_count": 21,
   "id": "22e0485b",
   "metadata": {},
   "outputs": [
    {
     "data": {
      "text/plain": [
       "Power_divergenceResult(statistic=1118.3276067358395, pvalue=8.064190145620248e-241)"
      ]
     },
     "execution_count": 21,
     "metadata": {},
     "output_type": "execute_result"
    }
   ],
   "source": [
    "chisquare(nhanes['Education'].value_counts())"
   ]
  },
  {
   "cell_type": "markdown",
   "id": "f8ed85a7",
   "metadata": {},
   "source": [
    "### Binary vs Numeric"
   ]
  },
  {
   "cell_type": "code",
   "execution_count": 22,
   "id": "3f3b7967",
   "metadata": {},
   "outputs": [],
   "source": [
    "from scipy.stats import ttest_ind"
   ]
  },
  {
   "cell_type": "code",
   "execution_count": 23,
   "id": "509b848b",
   "metadata": {},
   "outputs": [],
   "source": [
    "male_age = nhanes.loc[nhanes['Gender'] == 'male', 'Age']"
   ]
  },
  {
   "cell_type": "code",
   "execution_count": 24,
   "id": "cdf02446",
   "metadata": {},
   "outputs": [],
   "source": [
    "female_age = nhanes.loc[nhanes['Gender'] == 'female', 'Age']"
   ]
  },
  {
   "cell_type": "code",
   "execution_count": 25,
   "id": "8b701d5f",
   "metadata": {},
   "outputs": [
    {
     "data": {
      "text/plain": [
       "Ttest_indResult(statistic=-1.9823822351162845, pvalue=0.04744994276786041)"
      ]
     },
     "execution_count": 25,
     "metadata": {},
     "output_type": "execute_result"
    }
   ],
   "source": [
    "ttest_ind(male_age, female_age)"
   ]
  },
  {
   "cell_type": "markdown",
   "id": "f34a25d9",
   "metadata": {},
   "source": [
    "### Categorical (> 2 levels) vs Numeric"
   ]
  },
  {
   "cell_type": "code",
   "execution_count": 26,
   "id": "f6259458",
   "metadata": {},
   "outputs": [],
   "source": [
    "from scipy.stats import f_oneway as anova"
   ]
  },
  {
   "cell_type": "code",
   "execution_count": 28,
   "id": "5ba42199",
   "metadata": {},
   "outputs": [],
   "source": [
    "white_age = nhanes.loc[nhanes['Race1'] == 'White', 'Age']"
   ]
  },
  {
   "cell_type": "code",
   "execution_count": 29,
   "id": "98d9e753",
   "metadata": {},
   "outputs": [],
   "source": [
    "black_age = nhanes.loc[nhanes['Race1'] == 'Black', 'Age']"
   ]
  },
  {
   "cell_type": "code",
   "execution_count": 30,
   "id": "e43ef7f6",
   "metadata": {},
   "outputs": [],
   "source": [
    "hispanic_age = nhanes.loc[nhanes['Race1'] == 'Hispanic', 'Age']"
   ]
  },
  {
   "cell_type": "code",
   "execution_count": 31,
   "id": "ddd2021c",
   "metadata": {},
   "outputs": [
    {
     "data": {
      "text/plain": [
       "F_onewayResult(statistic=140.65615300201253, pvalue=3.231474697378777e-61)"
      ]
     },
     "execution_count": 31,
     "metadata": {},
     "output_type": "execute_result"
    }
   ],
   "source": [
    "anova(white_age, black_age, hispanic_age)"
   ]
  },
  {
   "cell_type": "code",
   "execution_count": null,
   "id": "33b9066e",
   "metadata": {},
   "outputs": [],
   "source": []
  }
 ],
 "metadata": {
  "kernelspec": {
   "display_name": "Python 3 (ipykernel)",
   "language": "python",
   "name": "python3"
  },
  "language_info": {
   "codemirror_mode": {
    "name": "ipython",
    "version": 3
   },
   "file_extension": ".py",
   "mimetype": "text/x-python",
   "name": "python",
   "nbconvert_exporter": "python",
   "pygments_lexer": "ipython3",
   "version": "3.9.7"
  }
 },
 "nbformat": 4,
 "nbformat_minor": 5
}
