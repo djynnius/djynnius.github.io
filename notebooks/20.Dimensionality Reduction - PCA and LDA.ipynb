{
 "cells": [
  {
   "cell_type": "markdown",
   "id": "62028b91",
   "metadata": {},
   "source": [
    "# Dimensionality Reduction"
   ]
  },
  {
   "cell_type": "code",
   "execution_count": 45,
   "id": "5f2ec53c",
   "metadata": {},
   "outputs": [],
   "source": [
    "import pandas as pd\n",
    "from matplotlib import pyplot as plt\n",
    "import seaborn as sns\n",
    "import cufflinks as cf"
   ]
  },
  {
   "cell_type": "code",
   "execution_count": 46,
   "id": "869ff82b",
   "metadata": {},
   "outputs": [
    {
     "data": {
      "text/html": [
       "        <script type=\"text/javascript\">\n",
       "        window.PlotlyConfig = {MathJaxConfig: 'local'};\n",
       "        if (window.MathJax) {MathJax.Hub.Config({SVG: {font: \"STIX-Web\"}});}\n",
       "        if (typeof require !== 'undefined') {\n",
       "        require.undef(\"plotly\");\n",
       "        requirejs.config({\n",
       "            paths: {\n",
       "                'plotly': ['https://cdn.plot.ly/plotly-2.11.1.min']\n",
       "            }\n",
       "        });\n",
       "        require(['plotly'], function(Plotly) {\n",
       "            window._Plotly = Plotly;\n",
       "        });\n",
       "        }\n",
       "        </script>\n",
       "        "
      ]
     },
     "metadata": {},
     "output_type": "display_data"
    }
   ],
   "source": [
    "cf.go_offline()"
   ]
  },
  {
   "cell_type": "code",
   "execution_count": 2,
   "id": "d6865024",
   "metadata": {},
   "outputs": [],
   "source": [
    "IBM = pd.read_csv(\"datasets/IBM.csv\")"
   ]
  },
  {
   "cell_type": "code",
   "execution_count": 9,
   "id": "7fbf6232",
   "metadata": {},
   "outputs": [
    {
     "name": "stdout",
     "output_type": "stream",
     "text": [
      "1 Age\n",
      "2 Attrition\n",
      "3 BusinessTravel\n",
      "4 DailyRate\n",
      "5 Department\n",
      "6 DistanceFromHome\n",
      "7 Education\n",
      "8 EducationField\n",
      "9 EmployeeCount\n",
      "10 EmployeeNumber\n",
      "11 EnvironmentSatisfaction\n",
      "12 Gender\n",
      "13 HourlyRate\n",
      "14 JobInvolvement\n",
      "15 JobLevel\n",
      "16 JobRole\n",
      "17 JobSatisfaction\n",
      "18 MaritalStatus\n",
      "19 MonthlyIncome\n",
      "20 MonthlyRate\n",
      "21 NumCompaniesWorked\n",
      "22 Over18\n",
      "23 OverTime\n",
      "24 PercentSalaryHike\n",
      "25 PerformanceRating\n",
      "26 RelationshipSatisfaction\n",
      "27 StandardHours\n",
      "28 StockOptionLevel\n",
      "29 TotalWorkingYears\n",
      "30 TrainingTimesLastYear\n",
      "31 WorkLifeBalance\n",
      "32 YearsAtCompany\n",
      "33 YearsInCurrentRole\n",
      "34 YearsSinceLastPromotion\n",
      "35 YearsWithCurrManager\n"
     ]
    }
   ],
   "source": [
    "for i, var in enumerate(IBM.columns):\n",
    "    print(i+1, var)"
   ]
  },
  {
   "cell_type": "markdown",
   "id": "78493461",
   "metadata": {},
   "source": [
    "# Principal Component Analysis (PCA)"
   ]
  },
  {
   "cell_type": "code",
   "execution_count": 10,
   "id": "a94b9a76",
   "metadata": {},
   "outputs": [],
   "source": [
    "features = IBM.drop('Attrition', axis='columns')"
   ]
  },
  {
   "cell_type": "markdown",
   "id": "3d0e726a",
   "metadata": {},
   "source": [
    "### 1. Make sure all variables ae numeric by creating dummy variables"
   ]
  },
  {
   "cell_type": "code",
   "execution_count": 13,
   "id": "82606fda",
   "metadata": {},
   "outputs": [],
   "source": [
    "features_dummies = pd.get_dummies(features, drop_first=True)"
   ]
  },
  {
   "cell_type": "markdown",
   "id": "f95c71a3",
   "metadata": {},
   "source": [
    "### 2. Scale the variables "
   ]
  },
  {
   "cell_type": "code",
   "execution_count": 15,
   "id": "3e50f421",
   "metadata": {},
   "outputs": [],
   "source": [
    "from sklearn.preprocessing import StandardScaler"
   ]
  },
  {
   "cell_type": "code",
   "execution_count": 16,
   "id": "44b971c3",
   "metadata": {},
   "outputs": [],
   "source": [
    "scaler = StandardScaler()"
   ]
  },
  {
   "cell_type": "code",
   "execution_count": 17,
   "id": "5d114e12",
   "metadata": {},
   "outputs": [
    {
     "data": {
      "text/plain": [
       "StandardScaler()"
      ]
     },
     "execution_count": 17,
     "metadata": {},
     "output_type": "execute_result"
    }
   ],
   "source": [
    "scaler.fit(features_dummies)"
   ]
  },
  {
   "cell_type": "code",
   "execution_count": 20,
   "id": "c53a2bc1",
   "metadata": {},
   "outputs": [],
   "source": [
    "features_scaled = pd.DataFrame(scaler.transform(features_dummies))"
   ]
  },
  {
   "cell_type": "markdown",
   "id": "b295fc91",
   "metadata": {},
   "source": [
    "### 3. Create Principal components and determine how many eigenvectors to use for prediction"
   ]
  },
  {
   "cell_type": "code",
   "execution_count": 21,
   "id": "c28bb708",
   "metadata": {},
   "outputs": [],
   "source": [
    "from sklearn.decomposition import PCA"
   ]
  },
  {
   "cell_type": "code",
   "execution_count": 22,
   "id": "8e7448c4",
   "metadata": {},
   "outputs": [],
   "source": [
    "pca = PCA(n_components=None)"
   ]
  },
  {
   "cell_type": "code",
   "execution_count": 23,
   "id": "dc22642b",
   "metadata": {},
   "outputs": [
    {
     "data": {
      "text/plain": [
       "PCA()"
      ]
     },
     "execution_count": 23,
     "metadata": {},
     "output_type": "execute_result"
    }
   ],
   "source": [
    "pca.fit(features_scaled)"
   ]
  },
  {
   "cell_type": "code",
   "execution_count": 30,
   "id": "575efbb6",
   "metadata": {},
   "outputs": [],
   "source": [
    "eigenvectors = pd.DataFrame(pca.explained_variance_ratio_, columns=['eigenvalue'])"
   ]
  },
  {
   "cell_type": "code",
   "execution_count": 38,
   "id": "ac647096",
   "metadata": {},
   "outputs": [
    {
     "data": {
      "image/png": "[encoded data removed]",
      "text/plain": [
       "<Figure size 1152x288 with 1 Axes>"
      ]
     },
     "metadata": {
      "needs_background": "light"
     },
     "output_type": "display_data"
    }
   ],
   "source": [
    "plt.figure(figsize=(16, 4))\n",
    "sns.lineplot(data=eigenvectors, x=eigenvectors.index, y='eigenvalue')\n",
    "plt.show()"
   ]
  },
  {
   "cell_type": "markdown",
   "id": "447f2f6e",
   "metadata": {},
   "source": [
    "### 4. Create Principal components (eigenvectors) for analysis"
   ]
  },
  {
   "cell_type": "code",
   "execution_count": 55,
   "id": "b0f48d58",
   "metadata": {},
   "outputs": [],
   "source": [
    "pca = PCA(n_components=7)\n",
    "pca.fit(features_scaled)\n",
    "features_pc = pca.transform(features_scaled)"
   ]
  },
  {
   "cell_type": "code",
   "execution_count": 56,
   "id": "06f81f07",
   "metadata": {},
   "outputs": [],
   "source": [
    "#features_pc = pd.DataFrame(features_pc, columns=['x','y', 'z'])\n",
    "#features_pc = pd.concat([features_pc, IBM.Attrition], axis='columns')"
   ]
  },
  {
   "cell_type": "code",
   "execution_count": 57,
   "id": "bfa1c278",
   "metadata": {},
   "outputs": [],
   "source": [
    "#features_pc.iplot(x='x', y='y', z='z', kind='scatter3d', categories='Attrition')"
   ]
  },
  {
   "cell_type": "code",
   "execution_count": 60,
   "id": "9cc509bc",
   "metadata": {},
   "outputs": [],
   "source": [
    "features_pc = pd.DataFrame(features_pc)"
   ]
  },
  {
   "cell_type": "markdown",
   "id": "52f0da51",
   "metadata": {},
   "source": [
    "### 5. create our test train split"
   ]
  },
  {
   "cell_type": "code",
   "execution_count": 61,
   "id": "41e3ef1d",
   "metadata": {},
   "outputs": [],
   "source": [
    "from sklearn.model_selection import train_test_split"
   ]
  },
  {
   "cell_type": "code",
   "execution_count": 62,
   "id": "0dbd8a29",
   "metadata": {},
   "outputs": [],
   "source": [
    "feat_train, feat_test, lab_train, lab_test = train_test_split(features_pc, IBM.Attrition, test_size=0.2, random_state=101)"
   ]
  },
  {
   "cell_type": "markdown",
   "id": "a3726125",
   "metadata": {},
   "source": [
    "# Test with multiple Algorithms"
   ]
  },
  {
   "cell_type": "code",
   "execution_count": 64,
   "id": "cd81f8d2",
   "metadata": {},
   "outputs": [],
   "source": [
    "#KNN\n",
    "from sklearn.neighbors import KNeighborsClassifier\n",
    "knn = KNeighborsClassifier(n_neighbors=7)\n",
    "knn.fit(feat_train, lab_train)\n",
    "kpred = knn.predict(feat_test)"
   ]
  },
  {
   "cell_type": "code",
   "execution_count": 65,
   "id": "e8e67ee4",
   "metadata": {},
   "outputs": [],
   "source": [
    "#SVM\n",
    "from sklearn.svm import SVC\n",
    "svc = SVC()\n",
    "svc.fit(feat_train, lab_train)\n",
    "spred = svc.predict(feat_test)"
   ]
  },
  {
   "cell_type": "code",
   "execution_count": 66,
   "id": "7772c4f8",
   "metadata": {},
   "outputs": [],
   "source": [
    "#Decision Tree\n",
    "from sklearn.tree import DecisionTreeClassifier\n",
    "dtc = DecisionTreeClassifier()\n",
    "dtc.fit(feat_train, lab_train)\n",
    "dpred = dtc.predict(feat_test)"
   ]
  },
  {
   "cell_type": "code",
   "execution_count": 69,
   "id": "29591e08",
   "metadata": {},
   "outputs": [],
   "source": [
    "#Random Forest\n",
    "from sklearn.ensemble import RandomForestClassifier\n",
    "rfc = RandomForestClassifier(n_estimators=100)\n",
    "rfc.fit(feat_train, lab_train)\n",
    "rpred = rfc.predict(feat_test)"
   ]
  },
  {
   "cell_type": "markdown",
   "id": "d850aff6",
   "metadata": {},
   "source": [
    "# Evaluate models"
   ]
  },
  {
   "cell_type": "code",
   "execution_count": 70,
   "id": "90ad1976",
   "metadata": {},
   "outputs": [],
   "source": [
    "from sklearn.metrics import classification_report"
   ]
  },
  {
   "cell_type": "code",
   "execution_count": 71,
   "id": "234c8fc5",
   "metadata": {},
   "outputs": [
    {
     "name": "stdout",
     "output_type": "stream",
     "text": [
      "              precision    recall  f1-score   support\n",
      "\n",
      "          No       0.97      0.86      0.91       281\n",
      "         Yes       0.13      0.46      0.21        13\n",
      "\n",
      "    accuracy                           0.84       294\n",
      "   macro avg       0.55      0.66      0.56       294\n",
      "weighted avg       0.93      0.84      0.88       294\n",
      "\n"
     ]
    }
   ],
   "source": [
    "print(classification_report(kpred, lab_test))"
   ]
  },
  {
   "cell_type": "code",
   "execution_count": 72,
   "id": "6307867d",
   "metadata": {},
   "outputs": [
    {
     "name": "stdout",
     "output_type": "stream",
     "text": [
      "              precision    recall  f1-score   support\n",
      "\n",
      "          No       0.99      0.85      0.92       288\n",
      "         Yes       0.07      0.50      0.12         6\n",
      "\n",
      "    accuracy                           0.85       294\n",
      "   macro avg       0.53      0.68      0.52       294\n",
      "weighted avg       0.97      0.85      0.90       294\n",
      "\n"
     ]
    }
   ],
   "source": [
    "print(classification_report(spred, lab_test))"
   ]
  },
  {
   "cell_type": "code",
   "execution_count": 73,
   "id": "d953f94a",
   "metadata": {},
   "outputs": [
    {
     "name": "stdout",
     "output_type": "stream",
     "text": [
      "              precision    recall  f1-score   support\n",
      "\n",
      "          No       0.80      0.85      0.82       233\n",
      "         Yes       0.22      0.16      0.19        61\n",
      "\n",
      "    accuracy                           0.71       294\n",
      "   macro avg       0.51      0.51      0.51       294\n",
      "weighted avg       0.68      0.71      0.69       294\n",
      "\n"
     ]
    }
   ],
   "source": [
    "print(classification_report(dpred, lab_test))"
   ]
  },
  {
   "cell_type": "code",
   "execution_count": 74,
   "id": "993500ba",
   "metadata": {},
   "outputs": [
    {
     "name": "stdout",
     "output_type": "stream",
     "text": [
      "              precision    recall  f1-score   support\n",
      "\n",
      "          No       0.95      0.86      0.90       276\n",
      "         Yes       0.13      0.33      0.19        18\n",
      "\n",
      "    accuracy                           0.83       294\n",
      "   macro avg       0.54      0.60      0.55       294\n",
      "weighted avg       0.90      0.83      0.86       294\n",
      "\n"
     ]
    }
   ],
   "source": [
    "print(classification_report(rpred, lab_test))"
   ]
  },
  {
   "cell_type": "code",
   "execution_count": 110,
   "id": "e3cb0c05",
   "metadata": {},
   "outputs": [],
   "source": [
    "Xtrain, Xtest, ytrain, ytest = train_test_split(features_scaled, IBM.Attrition, test_size=0.2, random_state=101)"
   ]
  },
  {
   "cell_type": "code",
   "execution_count": 111,
   "id": "1f11c725",
   "metadata": {},
   "outputs": [],
   "source": [
    "#KNN\n",
    "from sklearn.neighbors import KNeighborsClassifier\n",
    "knn = KNeighborsClassifier(n_neighbors=7)\n",
    "knn.fit(Xtrain, ytrain)\n",
    "kpred2 = knn.predict(Xtest)"
   ]
  },
  {
   "cell_type": "code",
   "execution_count": 112,
   "id": "116aa367",
   "metadata": {},
   "outputs": [],
   "source": [
    "#SVM\n",
    "from sklearn.svm import SVC\n",
    "svc = SVC()\n",
    "svc.fit(Xtrain, ytrain)\n",
    "spred2 = svc.predict(Xtest)"
   ]
  },
  {
   "cell_type": "code",
   "execution_count": 113,
   "id": "14523413",
   "metadata": {},
   "outputs": [],
   "source": [
    "#Decision Tree\n",
    "from sklearn.tree import DecisionTreeClassifier\n",
    "dtc = DecisionTreeClassifier()\n",
    "dtc.fit(Xtrain, ytrain)\n",
    "dpred2 = dtc.predict(Xtest)"
   ]
  },
  {
   "cell_type": "code",
   "execution_count": 114,
   "id": "d5867dd8",
   "metadata": {},
   "outputs": [],
   "source": [
    "#Random Forest\n",
    "from sklearn.ensemble import RandomForestClassifier\n",
    "rfc = RandomForestClassifier(n_estimators=100)\n",
    "rfc.fit(Xtrain, ytrain)\n",
    "rpred2 = rfc.predict(Xtest)"
   ]
  },
  {
   "cell_type": "code",
   "execution_count": 122,
   "id": "5031d91c",
   "metadata": {},
   "outputs": [
    {
     "name": "stdout",
     "output_type": "stream",
     "text": [
      "              precision    recall  f1-score   support\n",
      "\n",
      "          No       0.99      0.87      0.92       284\n",
      "         Yes       0.16      0.70      0.25        10\n",
      "\n",
      "    accuracy                           0.86       294\n",
      "   macro avg       0.57      0.78      0.59       294\n",
      "weighted avg       0.96      0.86      0.90       294\n",
      "\n"
     ]
    }
   ],
   "source": [
    "print(classification_report(spred2, lab_test))"
   ]
  },
  {
   "cell_type": "code",
   "execution_count": 121,
   "id": "11b4f49f",
   "metadata": {},
   "outputs": [
    {
     "data": {
      "text/plain": [
       "No     83.877551\n",
       "Yes    16.122449\n",
       "Name: Attrition, dtype: float64"
      ]
     },
     "execution_count": 121,
     "metadata": {},
     "output_type": "execute_result"
    }
   ],
   "source": [
    "IBM.Attrition.value_counts()/IBM.Attrition.value_counts().sum()*100"
   ]
  },
  {
   "cell_type": "code",
   "execution_count": null,
   "id": "757b4a4a",
   "metadata": {},
   "outputs": [],
   "source": []
  },
  {
   "cell_type": "code",
   "execution_count": null,
   "id": "f10c0c14",
   "metadata": {},
   "outputs": [],
   "source": []
  },
  {
   "cell_type": "code",
   "execution_count": null,
   "id": "a0a1ba3f",
   "metadata": {},
   "outputs": [],
   "source": []
  },
  {
   "cell_type": "code",
   "execution_count": null,
   "id": "13a77033",
   "metadata": {},
   "outputs": [],
   "source": []
  },
  {
   "cell_type": "code",
   "execution_count": null,
   "id": "43e6679e",
   "metadata": {},
   "outputs": [],
   "source": []
  },
  {
   "cell_type": "code",
   "execution_count": null,
   "id": "d9012b7b",
   "metadata": {},
   "outputs": [],
   "source": []
  },
  {
   "cell_type": "code",
   "execution_count": null,
   "id": "480c312b",
   "metadata": {},
   "outputs": [],
   "source": []
  },
  {
   "cell_type": "code",
   "execution_count": null,
   "id": "5c8f5fec",
   "metadata": {},
   "outputs": [],
   "source": []
  },
  {
   "cell_type": "code",
   "execution_count": null,
   "id": "9ee905e4",
   "metadata": {},
   "outputs": [],
   "source": []
  },
  {
   "cell_type": "code",
   "execution_count": null,
   "id": "e1e91430",
   "metadata": {},
   "outputs": [],
   "source": []
  },
  {
   "cell_type": "code",
   "execution_count": null,
   "id": "cea68675",
   "metadata": {},
   "outputs": [],
   "source": []
  },
  {
   "cell_type": "code",
   "execution_count": null,
   "id": "c0bcc81d",
   "metadata": {},
   "outputs": [],
   "source": []
  },
  {
   "cell_type": "code",
   "execution_count": null,
   "id": "ec1e269f",
   "metadata": {},
   "outputs": [],
   "source": []
  },
  {
   "cell_type": "code",
   "execution_count": 167,
   "id": "767976ee",
   "metadata": {},
   "outputs": [],
   "source": []
  },
  {
   "cell_type": "code",
   "execution_count": null,
   "id": "c0317815",
   "metadata": {},
   "outputs": [],
   "source": []
  },
  {
   "cell_type": "code",
   "execution_count": null,
   "id": "29d5567b",
   "metadata": {},
   "outputs": [],
   "source": []
  },
  {
   "cell_type": "code",
   "execution_count": null,
   "id": "1960a76b",
   "metadata": {},
   "outputs": [],
   "source": []
  },
  {
   "cell_type": "code",
   "execution_count": null,
   "id": "49a9827d",
   "metadata": {},
   "outputs": [],
   "source": []
  }
 ],
 "metadata": {
  "kernelspec": {
   "display_name": "Python 3 (ipykernel)",
   "language": "python",
   "name": "python3"
  },
  "language_info": {
   "codemirror_mode": {
    "name": "ipython",
    "version": 3
   },
   "file_extension": ".py",
   "mimetype": "text/x-python",
   "name": "python",
   "nbconvert_exporter": "python",
   "pygments_lexer": "ipython3",
   "version": "3.9.7"
  }
 },
 "nbformat": 4,
 "nbformat_minor": 5
}
