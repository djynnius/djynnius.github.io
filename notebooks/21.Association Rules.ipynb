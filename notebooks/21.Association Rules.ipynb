{
 "cells": [
  {
   "cell_type": "markdown",
   "id": "2d8aaa66",
   "metadata": {},
   "source": [
    "# Association Rules"
   ]
  },
  {
   "cell_type": "code",
   "execution_count": 180,
   "id": "95470c5d",
   "metadata": {},
   "outputs": [],
   "source": [
    "import pandas as pd\n",
    "from functools import reduce"
   ]
  },
  {
   "cell_type": "code",
   "execution_count": 2,
   "id": "3be046ec",
   "metadata": {},
   "outputs": [],
   "source": [
    "movies = pd.read_csv(\"AssociationRules/movies_viewing.csv\")"
   ]
  },
  {
   "cell_type": "code",
   "execution_count": 5,
   "id": "afdb98aa",
   "metadata": {},
   "outputs": [],
   "source": [
    "#get the userId and movie\n",
    "movies_sub = movies[['userId', 'title']] "
   ]
  },
  {
   "cell_type": "code",
   "execution_count": 47,
   "id": "306bf8d6",
   "metadata": {},
   "outputs": [],
   "source": [
    "users = list(set(movies_sub.userId.values))"
   ]
  },
  {
   "cell_type": "code",
   "execution_count": 156,
   "id": "f4228e87",
   "metadata": {},
   "outputs": [],
   "source": [
    "watchlist = []\n",
    "for user in users[0:100000]:\n",
    "    watchlist.append(','.join(list(set(movies_sub.loc[movies_sub.userId == user].title.values))))"
   ]
  },
  {
   "cell_type": "code",
   "execution_count": 77,
   "id": "15f6b9b0",
   "metadata": {},
   "outputs": [
    {
     "data": {
      "text/html": [
       "<div>\n",
       "<style scoped>\n",
       "    .dataframe tbody tr th:only-of-type {\n",
       "        vertical-align: middle;\n",
       "    }\n",
       "\n",
       "    .dataframe tbody tr th {\n",
       "        vertical-align: top;\n",
       "    }\n",
       "\n",
       "    .dataframe thead th {\n",
       "        text-align: right;\n",
       "    }\n",
       "</style>\n",
       "<table border=\"1\" class=\"dataframe\">\n",
       "  <thead>\n",
       "    <tr style=\"text-align: right;\">\n",
       "      <th></th>\n",
       "      <th>userId</th>\n",
       "      <th>title</th>\n",
       "    </tr>\n",
       "  </thead>\n",
       "  <tbody>\n",
       "    <tr>\n",
       "      <th>0</th>\n",
       "      <td>1</td>\n",
       "      <td>Three Colors: Red</td>\n",
       "    </tr>\n",
       "    <tr>\n",
       "      <th>1</th>\n",
       "      <td>11</td>\n",
       "      <td>Three Colors: Red</td>\n",
       "    </tr>\n",
       "    <tr>\n",
       "      <th>2</th>\n",
       "      <td>22</td>\n",
       "      <td>Three Colors: Red</td>\n",
       "    </tr>\n",
       "    <tr>\n",
       "      <th>3</th>\n",
       "      <td>24</td>\n",
       "      <td>Three Colors: Red</td>\n",
       "    </tr>\n",
       "    <tr>\n",
       "      <th>4</th>\n",
       "      <td>29</td>\n",
       "      <td>Three Colors: Red</td>\n",
       "    </tr>\n",
       "  </tbody>\n",
       "</table>\n",
       "</div>"
      ],
      "text/plain": [
       "   userId              title\n",
       "0       1  Three Colors: Red\n",
       "1      11  Three Colors: Red\n",
       "2      22  Three Colors: Red\n",
       "3      24  Three Colors: Red\n",
       "4      29  Three Colors: Red"
      ]
     },
     "execution_count": 77,
     "metadata": {},
     "output_type": "execute_result"
    }
   ],
   "source": []
  },
  {
   "cell_type": "code",
   "execution_count": 157,
   "id": "85a825d6",
   "metadata": {},
   "outputs": [],
   "source": [
    "#pd.DataFrame(watchlist).to_csv(\"watchlist.csv\")\n",
    "netflix = pd.DataFrame(watchlist)"
   ]
  },
  {
   "cell_type": "code",
   "execution_count": 158,
   "id": "0bc0f1e8",
   "metadata": {},
   "outputs": [
    {
     "data": {
      "text/html": [
       "<div>\n",
       "<style scoped>\n",
       "    .dataframe tbody tr th:only-of-type {\n",
       "        vertical-align: middle;\n",
       "    }\n",
       "\n",
       "    .dataframe tbody tr th {\n",
       "        vertical-align: top;\n",
       "    }\n",
       "\n",
       "    .dataframe thead th {\n",
       "        text-align: right;\n",
       "    }\n",
       "</style>\n",
       "<table border=\"1\" class=\"dataframe\">\n",
       "  <thead>\n",
       "    <tr style=\"text-align: right;\">\n",
       "      <th></th>\n",
       "      <th>0</th>\n",
       "    </tr>\n",
       "  </thead>\n",
       "  <tbody>\n",
       "    <tr>\n",
       "      <th>0</th>\n",
       "      <td>License to Wed,Caesar Must Die,Sleepless in Se...</td>\n",
       "    </tr>\n",
       "    <tr>\n",
       "      <th>1</th>\n",
       "      <td>Monty Python and the Holy Grail,Jarhead,Hero,B...</td>\n",
       "    </tr>\n",
       "    <tr>\n",
       "      <th>2</th>\n",
       "      <td>Monsoon Wedding,Sleepless in Seattle,Reservoir...</td>\n",
       "    </tr>\n",
       "    <tr>\n",
       "      <th>3</th>\n",
       "      <td>The 13th Warrior,Reign Over Me,The Departed,Sh...</td>\n",
       "    </tr>\n",
       "    <tr>\n",
       "      <th>4</th>\n",
       "      <td>Terminator 3: Rise of the Machines,Star Trek I...</td>\n",
       "    </tr>\n",
       "    <tr>\n",
       "      <th>...</th>\n",
       "      <td>...</td>\n",
       "    </tr>\n",
       "    <tr>\n",
       "      <th>99995</th>\n",
       "      <td>The Endless Summer,Clean, Shaven,20,000 League...</td>\n",
       "    </tr>\n",
       "    <tr>\n",
       "      <th>99996</th>\n",
       "      <td>Jacob's Ladder,The 13th Warrior,The Passion of...</td>\n",
       "    </tr>\n",
       "    <tr>\n",
       "      <th>99997</th>\n",
       "      <td>Mrs. Doubtfire,Das Boot,Shaft,M,The Grapes of ...</td>\n",
       "    </tr>\n",
       "    <tr>\n",
       "      <th>99998</th>\n",
       "      <td>Dogville,Monsoon Wedding,The Endless Summer,Co...</td>\n",
       "    </tr>\n",
       "    <tr>\n",
       "      <th>99999</th>\n",
       "      <td>The Passion of Joan of Arc,The Lord of the Rin...</td>\n",
       "    </tr>\n",
       "  </tbody>\n",
       "</table>\n",
       "<p>100000 rows × 1 columns</p>\n",
       "</div>"
      ],
      "text/plain": [
       "                                                       0\n",
       "0      License to Wed,Caesar Must Die,Sleepless in Se...\n",
       "1      Monty Python and the Holy Grail,Jarhead,Hero,B...\n",
       "2      Monsoon Wedding,Sleepless in Seattle,Reservoir...\n",
       "3      The 13th Warrior,Reign Over Me,The Departed,Sh...\n",
       "4      Terminator 3: Rise of the Machines,Star Trek I...\n",
       "...                                                  ...\n",
       "99995  The Endless Summer,Clean, Shaven,20,000 League...\n",
       "99996  Jacob's Ladder,The 13th Warrior,The Passion of...\n",
       "99997  Mrs. Doubtfire,Das Boot,Shaft,M,The Grapes of ...\n",
       "99998  Dogville,Monsoon Wedding,The Endless Summer,Co...\n",
       "99999  The Passion of Joan of Arc,The Lord of the Rin...\n",
       "\n",
       "[100000 rows x 1 columns]"
      ]
     },
     "execution_count": 158,
     "metadata": {},
     "output_type": "execute_result"
    }
   ],
   "source": []
  },
  {
   "cell_type": "markdown",
   "id": "3f95b3de",
   "metadata": {},
   "source": [
    "### Make Pipelines"
   ]
  },
  {
   "cell_type": "code",
   "execution_count": 106,
   "id": "569f4ce3",
   "metadata": {},
   "outputs": [],
   "source": [
    "netflix = pd.read_csv(\"watchlist.csv\", header=None, sep=\"\\t\")"
   ]
  },
  {
   "cell_type": "code",
   "execution_count": 120,
   "id": "393fc96a",
   "metadata": {},
   "outputs": [],
   "source": [
    "netflix = pd.DataFrame(netflix.apply(steve, axis=1))"
   ]
  },
  {
   "cell_type": "code",
   "execution_count": null,
   "id": "10943eb0",
   "metadata": {},
   "outputs": [],
   "source": []
  },
  {
   "cell_type": "code",
   "execution_count": 121,
   "id": "6b788069",
   "metadata": {},
   "outputs": [],
   "source": [
    "def rename_cols(df):\n",
    "    df.rename(columns={0: 'items'}, inplace=True)\n",
    "    return df"
   ]
  },
  {
   "cell_type": "code",
   "execution_count": 122,
   "id": "91ae844d",
   "metadata": {},
   "outputs": [],
   "source": [
    "def cleanItems(df):\n",
    "    def clean_items(x):\n",
    "        items = x['items'].lower() #make all lowercase\n",
    "        items = list(set(items.split(\",\"))) #remove duplicates\n",
    "        items = sorted(items) #sort\n",
    "        items = [item.replace(' ', '-') for item in items]\n",
    "        items = ','.join(items)\n",
    "        return items\n",
    "\n",
    "    df['clean_items'] = df.apply(clean_items, axis=1)\n",
    "    return df"
   ]
  },
  {
   "cell_type": "code",
   "execution_count": 129,
   "id": "d7c928f3",
   "metadata": {},
   "outputs": [],
   "source": [
    "def itemsLength(df):\n",
    "    def length(x):\n",
    "        return len(x['clean_items'].split(\",\"))\n",
    "    df['length'] = df.apply(length, axis=1)\n",
    "    return df"
   ]
  },
  {
   "cell_type": "code",
   "execution_count": 124,
   "id": "d817f06d",
   "metadata": {},
   "outputs": [],
   "source": [
    "def ItemFreq(df):\n",
    "    item_freq = df[['clean_items', 'items']].groupby('clean_items').count()\n",
    "    item_freq = item_freq.reset_index().rename(columns={'items': 'count'})\n",
    "    df = df.merge(item_freq, left_on='clean_items', right_on='clean_items')\n",
    "    return df"
   ]
  },
  {
   "cell_type": "code",
   "execution_count": 168,
   "id": "eb8a7e4a",
   "metadata": {},
   "outputs": [],
   "source": [
    "def calculateSupport(df):\n",
    "    def support(x):\n",
    "        return x['count']/df.shape[0]\n",
    "    df['support'] = df.apply(support, axis=1)\n",
    "    return df"
   ]
  },
  {
   "cell_type": "code",
   "execution_count": 126,
   "id": "b0a6846a",
   "metadata": {},
   "outputs": [],
   "source": [
    "def removeDuplicates(df):\n",
    "    duplicates = df.clean_items.duplicated()\n",
    "    df = df.loc[~duplicates]\n",
    "    return df"
   ]
  },
  {
   "cell_type": "code",
   "execution_count": 127,
   "id": "439e5b28",
   "metadata": {},
   "outputs": [],
   "source": [
    "def recommendItems(df, search):\n",
    "    def recommend(x, search):\n",
    "        search = set([a.lower().replace(' ', '-') for a in search])\n",
    "        basket = set(x['clean_items'].split(\",\"))\n",
    "        return ','.join(list(basket.difference(search))) if search.issubset(basket) else ''\n",
    "    \n",
    "    df['recommended'] = df.apply(recommend, args=(search, ), axis=1)\n",
    "    return df.loc[df['recommended'] != '']"
   ]
  },
  {
   "cell_type": "code",
   "execution_count": 128,
   "id": "7905695f",
   "metadata": {},
   "outputs": [],
   "source": [
    "def recommendedItems(df):\n",
    "    return list(df.recommened.values)"
   ]
  },
  {
   "cell_type": "code",
   "execution_count": null,
   "id": "02edff6b",
   "metadata": {},
   "outputs": [],
   "source": [
    "### Run Pipelines"
   ]
  },
  {
   "cell_type": "code",
   "execution_count": 183,
   "id": "09921c61",
   "metadata": {},
   "outputs": [],
   "source": [
    "collection = netflix.pipe(rename_cols).pipe(cleanItems).pipe(\n",
    "    itemsLength\n",
    ").pipe(ItemFreq).pipe(calculateSupport).pipe(\n",
    "    removeDuplicates\n",
    ").pipe(recommendItems, search=['Rocky II'])"
   ]
  },
  {
   "cell_type": "code",
   "execution_count": 194,
   "id": "411d4e3f",
   "metadata": {},
   "outputs": [],
   "source": [
    "def apriori(df, result_count):\n",
    "    df = [item.split(\",\") for item in df['recommended']] #convert recommended to list\n",
    "    df = reduce(lambda x,y: x+y, df) #merge all lists into a single list\n",
    "    df = pd.DataFrame([{'item': i, 'count':df.count(i)} for i in df]) #count each list item to see how many times it occurs\n",
    "    #dupes = df.duplicated() #identify duplicated\n",
    "    #df = df[~dupes] #remove duplicates\n",
    "    #df = df.sort_values('count', ascending=False)\n",
    "    return df"
   ]
  },
  {
   "cell_type": "code",
   "execution_count": 195,
   "id": "58118a0b",
   "metadata": {},
   "outputs": [
    {
     "data": {
      "text/html": [
       "<div>\n",
       "<style scoped>\n",
       "    .dataframe tbody tr th:only-of-type {\n",
       "        vertical-align: middle;\n",
       "    }\n",
       "\n",
       "    .dataframe tbody tr th {\n",
       "        vertical-align: top;\n",
       "    }\n",
       "\n",
       "    .dataframe thead th {\n",
       "        text-align: right;\n",
       "    }\n",
       "</style>\n",
       "<table border=\"1\" class=\"dataframe\">\n",
       "  <thead>\n",
       "    <tr style=\"text-align: right;\">\n",
       "      <th></th>\n",
       "      <th>item</th>\n",
       "      <th>count</th>\n",
       "    </tr>\n",
       "  </thead>\n",
       "  <tbody>\n",
       "    <tr>\n",
       "      <th>0</th>\n",
       "      <td>human-nature</td>\n",
       "      <td>489</td>\n",
       "    </tr>\n",
       "    <tr>\n",
       "      <th>1</th>\n",
       "      <td>kolya</td>\n",
       "      <td>1222</td>\n",
       "    </tr>\n",
       "    <tr>\n",
       "      <th>2</th>\n",
       "      <td>the-wild-angels</td>\n",
       "      <td>108</td>\n",
       "    </tr>\n",
       "    <tr>\n",
       "      <th>3</th>\n",
       "      <td>run-lola-run</td>\n",
       "      <td>1309</td>\n",
       "    </tr>\n",
       "    <tr>\n",
       "      <th>4</th>\n",
       "      <td>shock</td>\n",
       "      <td>833</td>\n",
       "    </tr>\n",
       "    <tr>\n",
       "      <th>...</th>\n",
       "      <td>...</td>\n",
       "      <td>...</td>\n",
       "    </tr>\n",
       "    <tr>\n",
       "      <th>655532</th>\n",
       "      <td>the-men</td>\n",
       "      <td>704</td>\n",
       "    </tr>\n",
       "    <tr>\n",
       "      <th>655533</th>\n",
       "      <td>onibaba</td>\n",
       "      <td>250</td>\n",
       "    </tr>\n",
       "    <tr>\n",
       "      <th>655534</th>\n",
       "      <td>the-chorus</td>\n",
       "      <td>453</td>\n",
       "    </tr>\n",
       "    <tr>\n",
       "      <th>655535</th>\n",
       "      <td>jungle-fever</td>\n",
       "      <td>399</td>\n",
       "    </tr>\n",
       "    <tr>\n",
       "      <th>655536</th>\n",
       "      <td>me</td>\n",
       "      <td>497</td>\n",
       "    </tr>\n",
       "  </tbody>\n",
       "</table>\n",
       "<p>655537 rows × 2 columns</p>\n",
       "</div>"
      ],
      "text/plain": [
       "                   item  count\n",
       "0          human-nature    489\n",
       "1                 kolya   1222\n",
       "2       the-wild-angels    108\n",
       "3          run-lola-run   1309\n",
       "4                 shock    833\n",
       "...                 ...    ...\n",
       "655532          the-men    704\n",
       "655533          onibaba    250\n",
       "655534       the-chorus    453\n",
       "655535     jungle-fever    399\n",
       "655536               me    497\n",
       "\n",
       "[655537 rows x 2 columns]"
      ]
     },
     "execution_count": 195,
     "metadata": {},
     "output_type": "execute_result"
    }
   ],
   "source": [
    "collection.pipe(apriori, 10)"
   ]
  },
  {
   "cell_type": "code",
   "execution_count": null,
   "id": "c6f73634",
   "metadata": {},
   "outputs": [],
   "source": []
  },
  {
   "cell_type": "markdown",
   "id": "996dbfb2",
   "metadata": {},
   "source": [
    "### Alternatives to getting unique values"
   ]
  },
  {
   "cell_type": "code",
   "execution_count": 20,
   "id": "a5e918e4",
   "metadata": {},
   "outputs": [],
   "source": [
    "foo = pd.DataFrame(dict(key=['a', 'a', 'b', 'a', 'c', 'b', 'a', 'a'], score=[1, 2, 12, 12, 14, 12, 3, 0]))"
   ]
  },
  {
   "cell_type": "code",
   "execution_count": 35,
   "id": "a9af2c36",
   "metadata": {},
   "outputs": [],
   "source": [
    "duplicates = foo.key.duplicated()"
   ]
  },
  {
   "cell_type": "code",
   "execution_count": 39,
   "id": "4600bc24",
   "metadata": {},
   "outputs": [
    {
     "data": {
      "text/plain": [
       "array(['a', 'b', 'c'], dtype=object)"
      ]
     },
     "execution_count": 39,
     "metadata": {},
     "output_type": "execute_result"
    }
   ],
   "source": [
    "foo.loc[~duplicates].key.valuesfoo"
   ]
  },
  {
   "cell_type": "code",
   "execution_count": 50,
   "id": "c0f39c87",
   "metadata": {},
   "outputs": [],
   "source": [
    "abc = list(set(foo.key.values))"
   ]
  },
  {
   "cell_type": "code",
   "execution_count": 75,
   "id": "7eb0b0db",
   "metadata": {},
   "outputs": [],
   "source": [
    "empty = []\n",
    "for l in abc:\n",
    "    empty.append(set(foo.loc[foo.key == l].score.values))"
   ]
  },
  {
   "cell_type": "code",
   "execution_count": 76,
   "id": "c837bcf8",
   "metadata": {},
   "outputs": [
    {
     "data": {
      "text/plain": [
       "[{12}, {0, 1, 2, 3, 12}, {14}]"
      ]
     },
     "execution_count": 76,
     "metadata": {},
     "output_type": "execute_result"
    }
   ],
   "source": [
    "empty"
   ]
  },
  {
   "cell_type": "code",
   "execution_count": null,
   "id": "4c223d2b",
   "metadata": {},
   "outputs": [],
   "source": []
  }
 ],
 "metadata": {
  "kernelspec": {
   "display_name": "Python 3 (ipykernel)",
   "language": "python",
   "name": "python3"
  },
  "language_info": {
   "codemirror_mode": {
    "name": "ipython",
    "version": 3
   },
   "file_extension": ".py",
   "mimetype": "text/x-python",
   "name": "python",
   "nbconvert_exporter": "python",
   "pygments_lexer": "ipython3",
   "version": "3.9.7"
  }
 },
 "nbformat": 4,
 "nbformat_minor": 5
}
