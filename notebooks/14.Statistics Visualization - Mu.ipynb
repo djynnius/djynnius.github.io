{
 "cells": [
  {
   "cell_type": "markdown",
   "id": "03537bdd",
   "metadata": {},
   "source": [
    "# Statistics Visualization"
   ]
  },
  {
   "cell_type": "code",
   "execution_count": 2,
   "id": "5b1ddae9",
   "metadata": {},
   "outputs": [],
   "source": [
    "import pandas as pd\n",
    "from matplotlib import pyplot as plt #New module introduced\n",
    "import seaborn as sns #New module introduced"
   ]
  },
  {
   "cell_type": "code",
   "execution_count": 58,
   "id": "9a0bab61",
   "metadata": {},
   "outputs": [],
   "source": [
    "#nhanes = pd.read_csv(\"nhanes.csv\")"
   ]
  },
  {
   "cell_type": "code",
   "execution_count": 59,
   "id": "1704fb1a",
   "metadata": {},
   "outputs": [],
   "source": [
    "#nhanes.info()"
   ]
  },
  {
   "cell_type": "markdown",
   "id": "8d0b74e1",
   "metadata": {},
   "source": [
    "##### Histogram"
   ]
  },
  {
   "cell_type": "code",
   "execution_count": 60,
   "id": "0829a77f",
   "metadata": {},
   "outputs": [],
   "source": [
    "#sns.histplot(x='Age', data=nhanes)\n",
    "#plt.show()"
   ]
  },
  {
   "cell_type": "code",
   "execution_count": 61,
   "id": "197f281f",
   "metadata": {},
   "outputs": [],
   "source": [
    "#sns.histplot(x='BPDiaAve', data=nhanes)\n",
    "#plt.show()"
   ]
  },
  {
   "cell_type": "markdown",
   "id": "f8f501a2",
   "metadata": {},
   "source": [
    "##### Boxplots"
   ]
  },
  {
   "cell_type": "code",
   "execution_count": 62,
   "id": "f15e0f54",
   "metadata": {},
   "outputs": [],
   "source": [
    "#sns.boxplot(x='Age', data=nhanes)\n",
    "#plt.show()"
   ]
  },
  {
   "cell_type": "markdown",
   "id": "5ac08775",
   "metadata": {},
   "source": [
    "### Categorical"
   ]
  },
  {
   "cell_type": "markdown",
   "id": "8b894f85",
   "metadata": {},
   "source": [
    "##### Barplot (countplot)"
   ]
  },
  {
   "cell_type": "code",
   "execution_count": 63,
   "id": "c674908b",
   "metadata": {},
   "outputs": [],
   "source": [
    "#sns.countplot(x='Race1', data=nhanes)\n",
    "#plt.show()"
   ]
  },
  {
   "cell_type": "markdown",
   "id": "e950ef5e",
   "metadata": {},
   "source": [
    "## Bivariate"
   ]
  },
  {
   "cell_type": "markdown",
   "id": "eeb6657b",
   "metadata": {},
   "source": [
    "##### Scatterplots (numeric vs numeric) - graphic representation of correlation"
   ]
  },
  {
   "cell_type": "code",
   "execution_count": 64,
   "id": "2d52f99b",
   "metadata": {},
   "outputs": [],
   "source": [
    "#sns.scatterplot(x='BMI', y='Weight', data=nhanes)\n",
    "#plt.show()"
   ]
  },
  {
   "cell_type": "markdown",
   "id": "421667ee",
   "metadata": {},
   "source": [
    "##### Grouped countplots"
   ]
  },
  {
   "cell_type": "code",
   "execution_count": 65,
   "id": "b41f8253",
   "metadata": {},
   "outputs": [],
   "source": [
    "#sns.countplot(x='Race1', hue='Gender', data=nhanes)\n",
    "#plt.show()"
   ]
  },
  {
   "cell_type": "markdown",
   "id": "59ac7955",
   "metadata": {},
   "source": [
    "##### Grouped Boxplots "
   ]
  },
  {
   "cell_type": "code",
   "execution_count": 66,
   "id": "9c64da20",
   "metadata": {},
   "outputs": [],
   "source": [
    "#sns.boxplot(x='Age', y='Race1', data=nhanes)\n",
    "#plt.show()"
   ]
  },
  {
   "cell_type": "markdown",
   "id": "5609abff",
   "metadata": {},
   "source": [
    "### Styling plots"
   ]
  },
  {
   "cell_type": "code",
   "execution_count": 67,
   "id": "b462c220",
   "metadata": {},
   "outputs": [],
   "source": [
    "#plt.figure(figsize=(10, 10)) #should come first\n",
    "#sns.boxplot(x='Age', y='Race1', data=nhanes)\n",
    "#plt.xlabel('Age (in years)')\n",
    "#plt.ylabel('Racial groups')\n",
    "#plt.title('Distribution of Age by Race')\n",
    "#plt.show()"
   ]
  }
 ],
 "metadata": {
  "kernelspec": {
   "display_name": "Python 3 (ipykernel)",
   "language": "python",
   "name": "python3"
  },
  "language_info": {
   "codemirror_mode": {
    "name": "ipython",
    "version": 3
   },
   "file_extension": ".py",
   "mimetype": "text/x-python",
   "name": "python",
   "nbconvert_exporter": "python",
   "pygments_lexer": "ipython3",
   "version": "3.9.7"
  }
 },
 "nbformat": 4,
 "nbformat_minor": 5
}
