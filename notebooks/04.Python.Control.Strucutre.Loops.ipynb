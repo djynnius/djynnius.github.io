{
 "cells": [
  {
   "cell_type": "markdown",
   "id": "1a94df64",
   "metadata": {},
   "source": [
    "## While Loops"
   ]
  },
  {
   "cell_type": "code",
   "execution_count": 194,
   "id": "b4b3973b",
   "metadata": {},
   "outputs": [],
   "source": [
    "i = 1\n",
    "while i <= 10:\n",
    "    print(i) \n",
    "    i += 1  "
   ]
  },
  {
   "cell_type": "markdown",
   "id": "9769cf24",
   "metadata": {},
   "source": [
    "## Iterables  "
   ]
  },
  {
   "cell_type": "code",
   "execution_count": 195,
   "id": "af6fb2f3",
   "metadata": {},
   "outputs": [],
   "source": [
    "#Collections including Sets  \n",
    "#Sets \n",
    "levels = {'low', 'medium', 'high'}\n",
    "#notice you cannot index Sets unlike tuples, lists and dictionaries (using keys)\n"
   ]
  },
  {
   "cell_type": "code",
   "execution_count": null,
   "id": "0c7cb14f",
   "metadata": {},
   "outputs": [],
   "source": [
    "#len function lets you kno how many items are in an iterable even if you cant index it\n",
    "len(levels)"
   ]
  },
  {
   "cell_type": "code",
   "execution_count": 135,
   "id": "c1347bee",
   "metadata": {},
   "outputs": [],
   "source": [
    "#Range function\n",
    "#nums = range(10)\n",
    "#nums = range(10, 23)\n",
    "nums = range(10, 20, 2)\n",
    "#nums = range(10, 20,2)\n",
    "#nums"
   ]
  },
  {
   "cell_type": "code",
   "execution_count": 196,
   "id": "dcf0b976",
   "metadata": {},
   "outputs": [],
   "source": [
    "len(nums)"
   ]
  },
  {
   "cell_type": "markdown",
   "id": "a63d6224",
   "metadata": {},
   "source": [
    "## For loops"
   ]
  },
  {
   "cell_type": "code",
   "execution_count": 197,
   "id": "150c0a77",
   "metadata": {},
   "outputs": [],
   "source": [
    "box = ['red m&m', 'blue m&m', 'yellow m&m', 'red m&m', 'yellow m&m', 'red m&m','yellow m&m' , 'red m&m','green m&m' , 'red m&m', 'blue m&m', 'green m&m']\n",
    "\n",
    "for chocolate in box:\n",
    "    print(chocolate)"
   ]
  },
  {
   "cell_type": "markdown",
   "id": "abbc5813",
   "metadata": {},
   "source": [
    "## For loops enumerated"
   ]
  },
  {
   "cell_type": "code",
   "execution_count": null,
   "id": "9428187c",
   "metadata": {},
   "outputs": [],
   "source": [
    "## For loops showing indexes - The enumerate() function   \n",
    "\n",
    "for chocolate in box:\n",
    "    print(chocolate)\n",
    "\n",
    "for chocolate in enumerate(box):\n",
    "    #returns a tuple\n",
    "    print(chocolate)\n",
    "\n",
    "for i, chocolate in enumerate(box):\n",
    "    print(i)\n",
    "\n",
    "for i, chocolate in enumerate(box):\n",
    "    print(chocolate)\n",
    "\n",
    "for i, chocolate in enumerate(box):\n",
    "    print(i, chocolate)"
   ]
  },
  {
   "cell_type": "markdown",
   "id": "1be54f06",
   "metadata": {},
   "source": [
    "## For loops for dictionaries"
   ]
  },
  {
   "cell_type": "code",
   "execution_count": null,
   "id": "f4170144",
   "metadata": {},
   "outputs": [],
   "source": [
    "details  = {'name': 'Trevor Donald', 'location': 'Eldorado', 'age': 32}\n",
    "\n",
    "\n",
    "print(details['age'])\n",
    "\n",
    "for info in details:\n",
    "    print(info, details[info])\n",
    "\n",
    "\n",
    "for key, value in details.items():\n",
    "    print(key)\n",
    "    print(value)\n",
    "    print(f\"His {key} is {value}\")\n"
   ]
  },
  {
   "cell_type": "markdown",
   "id": "c3a6a4a0",
   "metadata": {},
   "source": [
    "## Combining Logic and Loops"
   ]
  },
  {
   "cell_type": "code",
   "execution_count": 178,
   "id": "b8c70926",
   "metadata": {},
   "outputs": [],
   "source": [
    "team  = [\n",
    " {'name': 'JJ Okocha', 'number': 10, 'position': 'midfield'}, \n",
    " {'name': 'Garba Lawal', 'number': 12, 'position': 'midfield'}, \n",
    " {'name': 'Ruben Agboola', 'number': 5, 'position': 'defence'}, \n",
    " {'name': 'Rashidi Yekini', 'number': 9, 'position': 'attack'}, \n",
    " {'name': 'Peter Rufai', 'number': 1, 'position': 'goalkeeper'}, \n",
    " {'name': 'Onazi', 'number': 4, 'position': 'midfield'}, \n",
    " {'name': 'Troost Ekong', 'number': 5, 'position': 'defence'}, \n",
    " {'name': 'Sunday Oliseh', 'number': 15, 'position': 'midfield'}, \n",
    " {'name': 'Samson Siasia', 'number': 8, 'position': 'attack'}, \n",
    " {'name': 'Daniel Amokachi', 'number': 14, 'position': 'attack'}, \n",
    " {'name': 'John Utaka', 'number': 8, 'position': 'attack'}, \n",
    " {'name': 'Celestine Babayaro', 'number': 3, 'position': 'defence'}, \n",
    " {'name': 'Manga Mohammed', 'number': 22, 'position': 'midfield'}, \n",
    " {'name': 'Augustine Eguavoen', 'number': 2, 'position': 'defence'}, \n",
    " {'name': 'Leon Balogun', 'number': 6, 'position': 'defence'}, \n",
    " {'name': 'Finidi George', 'number': 7, 'position': 'midfield'}, \n",
    " {'name': 'Emmanuel Amunike', 'number': 11, 'position': 'midfield'}, \n",
    "] "
   ]
  },
  {
   "cell_type": "code",
   "execution_count": null,
   "id": "60cd4daa",
   "metadata": {
    "scrolled": true
   },
   "outputs": [],
   "source": [
    "for player in team:\n",
    "    print(player)"
   ]
  },
  {
   "cell_type": "code",
   "execution_count": null,
   "id": "9a8683fc",
   "metadata": {},
   "outputs": [],
   "source": [
    "for player in team:\n",
    "    print(player['name'])"
   ]
  },
  {
   "cell_type": "code",
   "execution_count": null,
   "id": "b58ab548",
   "metadata": {},
   "outputs": [],
   "source": [
    "for player in team:\n",
    "    if player['position'] == 'midfield': #try changing to attack or defence or goalkeeper\n",
    "        print(player['name'])"
   ]
  },
  {
   "cell_type": "code",
   "execution_count": null,
   "id": "97e93794",
   "metadata": {},
   "outputs": [],
   "source": [
    "for player in team:\n",
    "    if player['number'] < 10: \n",
    "        print(player['name'], player['number'])"
   ]
  }
 ],
 "metadata": {
  "kernelspec": {
   "display_name": "Python 3 (ipykernel)",
   "language": "python",
   "name": "python3"
  },
  "language_info": {
   "codemirror_mode": {
    "name": "ipython",
    "version": 3
   },
   "file_extension": ".py",
   "mimetype": "text/x-python",
   "name": "python",
   "nbconvert_exporter": "python",
   "pygments_lexer": "ipython3",
   "version": "3.9.7"
  }
 },
 "nbformat": 4,
 "nbformat_minor": 5
}
