{
 "cells": [
  {
   "cell_type": "markdown",
   "id": "44b473ea",
   "metadata": {},
   "source": [
    "## Set some variables we will use"
   ]
  },
  {
   "cell_type": "code",
   "execution_count": 165,
   "id": "7591f6e3",
   "metadata": {},
   "outputs": [],
   "source": [
    "fruits = ['mango', 'apple', 'orange']\n",
    "days = ('monday', 'tuesday', 'wednesday', 'thursday', 'friday', 'saturday', 'sunday')\n",
    "scores = [75, 77, 77, 82, 91, 90, 90, 83]"
   ]
  },
  {
   "cell_type": "markdown",
   "id": "e9e1d37b",
   "metadata": {},
   "source": [
    "## Functions we have already seen"
   ]
  },
  {
   "cell_type": "code",
   "execution_count": 347,
   "id": "b2bd516e",
   "metadata": {},
   "outputs": [],
   "source": [
    "#print(45.3)  \n",
    "#type('Something')\n",
    "#type(12)\n",
    "#type(12.5)\n",
    "#type(True)\n",
    "\n",
    "#len(scores)  \n",
    "#enumerate()  \n",
    "#range() "
   ]
  },
  {
   "cell_type": "code",
   "execution_count": 349,
   "id": "572a8ec4",
   "metadata": {},
   "outputs": [],
   "source": [
    "for i,fruit in enumerate(fruits):\n",
    "    print(i, fruit)"
   ]
  },
  {
   "cell_type": "code",
   "execution_count": 350,
   "id": "87ffb1af",
   "metadata": {},
   "outputs": [],
   "source": [
    "numbers = range(3, 15)\n",
    "for n in numbers:\n",
    "    print(n)"
   ]
  },
  {
   "cell_type": "markdown",
   "id": "96cbf8ee",
   "metadata": {},
   "source": [
    "## Inbuilt functions  "
   ]
  },
  {
   "cell_type": "code",
   "execution_count": 351,
   "id": "a6ca76ac",
   "metadata": {},
   "outputs": [],
   "source": [
    "#Type casting  \n",
    "\n",
    "#int('12') + 5\n",
    "\n",
    "#float('12.5')\n",
    "#str(5) + str(5)\n",
    "\n",
    "\n",
    "#int('12')  \n",
    "#str(True)\n",
    "\n",
    "#list(days)  \n",
    "\n",
    "#{'name': 'harry', 'lastname': 'potter'}\n",
    "#dict(name='Harry', lastname='porter')  "
   ]
  },
  {
   "cell_type": "code",
   "execution_count": 231,
   "id": "5260013f",
   "metadata": {},
   "outputs": [
    {
     "data": {
      "text/plain": [
       "3.14"
      ]
     },
     "execution_count": 231,
     "metadata": {},
     "output_type": "execute_result"
    }
   ],
   "source": [
    "#Mathematical  \n",
    "\n",
    "#min(scores)  \n",
    "#max(scores)  \n",
    "#sum(scores)  \n",
    "#round(22/7, 3) \n"
   ]
  },
  {
   "cell_type": "code",
   "execution_count": 352,
   "id": "e7556592",
   "metadata": {},
   "outputs": [],
   "source": [
    "#String  \n",
    "#min('hello')  \n",
    "#max('hello')  \n",
    "#len('hello world')"
   ]
  },
  {
   "cell_type": "code",
   "execution_count": 354,
   "id": "c3d3db30",
   "metadata": {},
   "outputs": [],
   "source": [
    "#useful functions  \n",
    "\n",
    "#help(round)\n",
    "#dir(round)\n"
   ]
  },
  {
   "cell_type": "code",
   "execution_count": 355,
   "id": "eba900c3",
   "metadata": {},
   "outputs": [],
   "source": [
    "#Some functions we will consder in the future  \n",
    "\n",
    "#sorted(scores) \n",
    "#reversed(scores)  \n",
    "#filter()  \n",
    "#map()  \n",
    "\n"
   ]
  },
  {
   "cell_type": "markdown",
   "id": "13f5b03d",
   "metadata": {},
   "source": [
    "## User-defined functions "
   ]
  },
  {
   "cell_type": "code",
   "execution_count": 356,
   "id": "cd883de5",
   "metadata": {},
   "outputs": [],
   "source": [
    "#understanding print and return\n",
    "\n",
    "def talknoaction():\n",
    "    print('I will give u 50million') \n",
    "\n",
    "def actionnotalk():\n",
    "    return \"50million\"\n",
    "\n",
    "def talkandaction():\n",
    "    print(\"I will give you 50million\")\n",
    "    return \"50million\"\n",
    "\n",
    "def deciever():\n",
    "    print(\"I will give you 50million\")\n",
    "    return \"10million\""
   ]
  },
  {
   "cell_type": "code",
   "execution_count": 358,
   "id": "cd0047db",
   "metadata": {},
   "outputs": [],
   "source": [
    "a = talknoaction()"
   ]
  },
  {
   "cell_type": "code",
   "execution_count": 359,
   "id": "f74806db",
   "metadata": {},
   "outputs": [],
   "source": [
    "b = actionnotalk()"
   ]
  },
  {
   "cell_type": "code",
   "execution_count": null,
   "id": "0c41b4f0",
   "metadata": {},
   "outputs": [],
   "source": [
    "c = talkandaction()"
   ]
  },
  {
   "cell_type": "code",
   "execution_count": null,
   "id": "4306193a",
   "metadata": {},
   "outputs": [],
   "source": [
    "d = deciever()"
   ]
  },
  {
   "cell_type": "code",
   "execution_count": 360,
   "id": "dc64b9db",
   "metadata": {},
   "outputs": [],
   "source": [
    "print(a)\n",
    "print(b)\n",
    "print(c)\n",
    "print(d)"
   ]
  },
  {
   "cell_type": "code",
   "execution_count": 303,
   "id": "fe66aca0",
   "metadata": {},
   "outputs": [],
   "source": [
    "#No arguments \n",
    "def first_function():\n",
    "    return \"Hello world\"  \n"
   ]
  },
  {
   "cell_type": "code",
   "execution_count": 361,
   "id": "717daa94",
   "metadata": {},
   "outputs": [],
   "source": [
    "#first_function()"
   ]
  },
  {
   "cell_type": "code",
   "execution_count": 362,
   "id": "4c6a7a08",
   "metadata": {},
   "outputs": [],
   "source": [
    "#one argument \n",
    "def second_function(arg):\n",
    "    return f\"Hello {arg.capitalize()}\" "
   ]
  },
  {
   "cell_type": "code",
   "execution_count": 363,
   "id": "6405b9d9",
   "metadata": {},
   "outputs": [],
   "source": [
    "#second_function(\"friend\")"
   ]
  },
  {
   "cell_type": "code",
   "execution_count": 364,
   "id": "da418801",
   "metadata": {},
   "outputs": [],
   "source": [
    "def third_function(arg1, arg2):\n",
    "    return arg1 + arg2 "
   ]
  },
  {
   "cell_type": "code",
   "execution_count": 365,
   "id": "1703dc3b",
   "metadata": {},
   "outputs": [],
   "source": [
    "#third_function(1, 23)"
   ]
  },
  {
   "cell_type": "code",
   "execution_count": 332,
   "id": "188cc3b3",
   "metadata": {},
   "outputs": [],
   "source": [
    "def forth_function(*args):\n",
    "    print(args)\n",
    "    return len(args)"
   ]
  },
  {
   "cell_type": "code",
   "execution_count": 336,
   "id": "af1ee0c1",
   "metadata": {},
   "outputs": [],
   "source": [
    "def summation(*number):\n",
    "    return sum(number)"
   ]
  },
  {
   "cell_type": "code",
   "execution_count": 366,
   "id": "6bc52ed8",
   "metadata": {},
   "outputs": [],
   "source": [
    "summation(1, 1, 4, 12, 56)"
   ]
  },
  {
   "cell_type": "code",
   "execution_count": null,
   "id": "1557ec8d",
   "metadata": {},
   "outputs": [],
   "source": [
    "forth_function(1, 5)"
   ]
  },
  {
   "cell_type": "code",
   "execution_count": null,
   "id": "7c365d7a",
   "metadata": {},
   "outputs": [],
   "source": [
    "forth_function(1, 5, 7)"
   ]
  },
  {
   "cell_type": "code",
   "execution_count": 342,
   "id": "e240e886",
   "metadata": {},
   "outputs": [],
   "source": [
    "#dictionary as argument\n",
    "def fifth_function(**args):\n",
    "    print(args)\n",
    "    return len(args)"
   ]
  },
  {
   "cell_type": "code",
   "execution_count": 367,
   "id": "13fdf57e",
   "metadata": {},
   "outputs": [],
   "source": [
    "fifth_function(age=12, name='Donald', location='Denmark')"
   ]
  },
  {
   "cell_type": "code",
   "execution_count": null,
   "id": "fc81b1cf",
   "metadata": {},
   "outputs": [],
   "source": []
  },
  {
   "cell_type": "markdown",
   "id": "f564508b",
   "metadata": {},
   "source": [
    "## Homework\n",
    "- write conversion functions \n",
    "    1. convert temperatures from celsius to farenhit\n",
    "    2. convert weights from Kg to lb\n",
    "    3. convert distances from Km to miles\n",
    "    4. print out the results from for loops"
   ]
  },
  {
   "cell_type": "code",
   "execution_count": null,
   "id": "2be5eb30",
   "metadata": {},
   "outputs": [],
   "source": [
    "#variables \n",
    "\n",
    "temperatures = [36.6, 37,3, 38,1, 37.1, 39.2]\n",
    "weights = [74, 76.3, 79.2, 83.1, 79.0]\n",
    "distances = [12.3, 18.1, 5.2]"
   ]
  }
 ],
 "metadata": {
  "kernelspec": {
   "display_name": "Python 3 (ipykernel)",
   "language": "python",
   "name": "python3"
  },
  "language_info": {
   "codemirror_mode": {
    "name": "ipython",
    "version": 3
   },
   "file_extension": ".py",
   "mimetype": "text/x-python",
   "name": "python",
   "nbconvert_exporter": "python",
   "pygments_lexer": "ipython3",
   "version": "3.9.7"
  }
 },
 "nbformat": 4,
 "nbformat_minor": 5
}
