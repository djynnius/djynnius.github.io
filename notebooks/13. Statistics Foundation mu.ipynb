{
 "cells": [
  {
   "cell_type": "markdown",
   "id": "a1341075",
   "metadata": {},
   "source": [
    "# Statistics"
   ]
  },
  {
   "cell_type": "code",
   "execution_count": 1,
   "id": "b145ff2c",
   "metadata": {},
   "outputs": [],
   "source": [
    "import pandas as pd"
   ]
  },
  {
   "cell_type": "code",
   "execution_count": 2,
   "id": "fe40d990",
   "metadata": {},
   "outputs": [
    {
     "name": "stderr",
     "output_type": "stream",
     "text": [
      "/var/folders/fp/dx68ktm14f9cqfl3v_hz71_c0000gp/T/ipykernel_63850/4139413026.py:2: DtypeWarning: Columns (6,20,52,53) have mixed types. Specify dtype option on import or set low_memory=False.\n",
      "  nhanes = pd.read_csv(\"nhanes.csv\")\n"
     ]
    }
   ],
   "source": [
    "diseases = pd.read_csv(\"meningitis_dataset.csv\")\n",
    "nhanes = pd.read_csv(\"nhanes.csv\")"
   ]
  },
  {
   "cell_type": "code",
   "execution_count": 3,
   "id": "b1c984d9",
   "metadata": {},
   "outputs": [
    {
     "name": "stdout",
     "output_type": "stream",
     "text": [
      "<class 'pandas.core.frame.DataFrame'>\n",
      "RangeIndex: 284484 entries, 0 to 284483\n",
      "Data columns (total 40 columns):\n",
      " #   Column                      Non-Null Count   Dtype \n",
      "---  ------                      --------------   ----- \n",
      " 0   id                          284484 non-null  int64 \n",
      " 1   surname                     284484 non-null  object\n",
      " 2   firstname                   284484 non-null  object\n",
      " 3   middlename                  284484 non-null  object\n",
      " 4   gender                      284484 non-null  object\n",
      " 5   gender_male                 284484 non-null  int64 \n",
      " 6   gender_female               284484 non-null  int64 \n",
      " 7   state                       284484 non-null  object\n",
      " 8   settlement                  284484 non-null  object\n",
      " 9   rural_settlement            284484 non-null  int64 \n",
      " 10  urban_settlement            284484 non-null  int64 \n",
      " 11  report_date                 284484 non-null  object\n",
      " 12  report_year                 284484 non-null  int64 \n",
      " 13  age                         284484 non-null  int64 \n",
      " 14  age_str                     284484 non-null  object\n",
      " 15  date_of_birth               284484 non-null  object\n",
      " 16  child_group                 284484 non-null  int64 \n",
      " 17  adult_group                 284484 non-null  int64 \n",
      " 18  disease                     284484 non-null  object\n",
      " 19  cholera                     284484 non-null  int64 \n",
      " 20  diarrhoea                   284484 non-null  int64 \n",
      " 21  measles                     284484 non-null  int64 \n",
      " 22  viral_haemmorrhaphic_fever  284484 non-null  int64 \n",
      " 23  meningitis                  284484 non-null  int64 \n",
      " 24  ebola                       284484 non-null  int64 \n",
      " 25  marburg_virus               284484 non-null  int64 \n",
      " 26  yellow_fever                284484 non-null  int64 \n",
      " 27  rubella_mars                284484 non-null  int64 \n",
      " 28  malaria                     284484 non-null  int64 \n",
      " 29  serotype                    284484 non-null  object\n",
      " 30  NmA                         284484 non-null  int64 \n",
      " 31  NmC                         284484 non-null  int64 \n",
      " 32  NmW                         284484 non-null  int64 \n",
      " 33  health_status               284484 non-null  object\n",
      " 34  alive                       284484 non-null  int64 \n",
      " 35  dead                        284484 non-null  int64 \n",
      " 36  report_outcome              284484 non-null  object\n",
      " 37  unconfirmed                 284484 non-null  int64 \n",
      " 38  confirmed                   284484 non-null  int64 \n",
      " 39  null_serotype               284484 non-null  int64 \n",
      "dtypes: int64(27), object(13)\n",
      "memory usage: 86.8+ MB\n"
     ]
    }
   ],
   "source": [
    "diseases.info()"
   ]
  },
  {
   "cell_type": "code",
   "execution_count": 4,
   "id": "536958ed",
   "metadata": {},
   "outputs": [
    {
     "name": "stdout",
     "output_type": "stream",
     "text": [
      "<class 'pandas.core.frame.DataFrame'>\n",
      "RangeIndex: 20293 entries, 0 to 20292\n",
      "Data columns (total 78 columns):\n",
      " #   Column            Non-Null Count  Dtype  \n",
      "---  ------            --------------  -----  \n",
      " 0   ID                20293 non-null  int64  \n",
      " 1   SurveyYr          20293 non-null  object \n",
      " 2   Gender            20293 non-null  object \n",
      " 3   Age               20293 non-null  int64  \n",
      " 4   AgeMonths         10738 non-null  float64\n",
      " 5   Race1             20293 non-null  object \n",
      " 6   Race3             9756 non-null   object \n",
      " 7   Education         11758 non-null  object \n",
      " 8   MaritalStatus     11767 non-null  object \n",
      " 9   HHIncome          18217 non-null  object \n",
      " 10  HHIncomeMid       18217 non-null  float64\n",
      " 11  Poverty           18457 non-null  float64\n",
      " 12  HomeRooms         20148 non-null  float64\n",
      " 13  HomeOwn           20156 non-null  object \n",
      " 14  Work              13060 non-null  object \n",
      " 15  Weight            19405 non-null  float64\n",
      " 16  Length            2285 non-null   float64\n",
      " 17  HeadCirc          474 non-null    float64\n",
      " 18  Height            18035 non-null  float64\n",
      " 19  BMI               18014 non-null  float64\n",
      " 20  BMICatUnder20yrs  3355 non-null   object \n",
      " 21  BMI_WHO           17947 non-null  object \n",
      " 22  Pulse             14896 non-null  float64\n",
      " 23  BPSysAve          14867 non-null  float64\n",
      " 24  BPDiaAve          14867 non-null  float64\n",
      " 25  BPSys1            14285 non-null  float64\n",
      " 26  BPDia1            14285 non-null  float64\n",
      " 27  BPSys2            14481 non-null  float64\n",
      " 28  BPDia2            14481 non-null  float64\n",
      " 29  BPSys3            14505 non-null  float64\n",
      " 30  BPDia3            14505 non-null  float64\n",
      " 31  Testosterone      6826 non-null   float64\n",
      " 32  DirectChol        14835 non-null  float64\n",
      " 33  TotChol           14834 non-null  float64\n",
      " 34  UrineVol1         16083 non-null  float64\n",
      " 35  UrineFlow1        14690 non-null  float64\n",
      " 36  UrineVol2         2708 non-null   float64\n",
      " 37  UrineFlow2        2697 non-null   float64\n",
      " 38  Diabetes          19460 non-null  object \n",
      " 39  DiabetesAge       1437 non-null   float64\n",
      " 40  HealthGen         12449 non-null  object \n",
      " 41  DaysPhysHlthBad   12431 non-null  float64\n",
      " 42  DaysMentHlthBad   12426 non-null  float64\n",
      " 43  LittleInterest    10508 non-null  object \n",
      " 44  Depressed         10514 non-null  object \n",
      " 45  nPregnancies      4202 non-null   float64\n",
      " 46  nBabies           3939 non-null   float64\n",
      " 47  Age1stBaby        3158 non-null   float64\n",
      " 48  SleepHrsNight     13032 non-null  float64\n",
      " 49  SleepTrouble      13058 non-null  object \n",
      " 50  PhysActive        14278 non-null  object \n",
      " 51  PhysActiveDays    7375 non-null   float64\n",
      " 52  TVHrsDay          9065 non-null   object \n",
      " 53  CompHrsDay        9074 non-null   object \n",
      " 54  TVHrsDayChild     2228 non-null   float64\n",
      " 55  CompHrsDayChild   2228 non-null   float64\n",
      " 56  Alcohol12PlusYr   10303 non-null  object \n",
      " 57  AlcoholDay        6993 non-null   float64\n",
      " 58  AlcoholYear       8831 non-null   float64\n",
      " 59  SmokeNow          5233 non-null   object \n",
      " 60  Smoke100          11771 non-null  object \n",
      " 61  SmokeAge          5049 non-null   float64\n",
      " 62  Marijuana         7072 non-null   object \n",
      " 63  AgeFirstMarij     3714 non-null   float64\n",
      " 64  RegularMarij      3712 non-null   object \n",
      " 65  AgeRegMarij       1820 non-null   float64\n",
      " 66  HardDrugs         8641 non-null   object \n",
      " 67  SexEver           8638 non-null   object \n",
      " 68  SexAge            8136 non-null   float64\n",
      " 69  SexNumPartnLife   8532 non-null   float64\n",
      " 70  SexNumPartYear    7040 non-null   float64\n",
      " 71  SameSex           8636 non-null   object \n",
      " 72  SexOrientation    6847 non-null   object \n",
      " 73  WTINT2YR          20293 non-null  float64\n",
      " 74  WTMEC2YR          20293 non-null  float64\n",
      " 75  SDMVPSU           20293 non-null  int64  \n",
      " 76  SDMVSTRA          20293 non-null  int64  \n",
      " 77  PregnantNow       2613 non-null   object \n",
      "dtypes: float64(45), int64(4), object(29)\n",
      "memory usage: 12.1+ MB\n"
     ]
    }
   ],
   "source": [
    "nhanes.info()"
   ]
  },
  {
   "cell_type": "markdown",
   "id": "e0390be4",
   "metadata": {},
   "source": [
    "## Univariate Analysis"
   ]
  },
  {
   "cell_type": "markdown",
   "id": "d21e5bef",
   "metadata": {},
   "source": [
    "### Univariate analysis for Numeric Data"
   ]
  },
  {
   "cell_type": "code",
   "execution_count": 16,
   "id": "d9605136",
   "metadata": {},
   "outputs": [
    {
     "name": "stdout",
     "output_type": "stream",
     "text": [
      "0\n",
      "34.73239619802871\n",
      "34.0\n",
      "78\n",
      "14.0\n",
      "54.0\n",
      "78\n",
      "40.0\n",
      "22.240912425438857\n",
      "0.00     0.0\n",
      "0.25    14.0\n",
      "0.50    34.0\n",
      "0.75    54.0\n",
      "1.00    78.0\n",
      "Name: age, dtype: float64\n"
     ]
    }
   ],
   "source": [
    "dmin = diseases['age'].min()\n",
    "print(dmin)\n",
    "dmean = diseases['age'].mean()\n",
    "print(dmean)\n",
    "dmedian = diseases['age'].median()\n",
    "print(dmedian)\n",
    "dmax = diseases['age'].max()\n",
    "print(dmax)\n",
    "dQ1 = diseases['age'].quantile(0.25)\n",
    "print(dQ1)\n",
    "dQ3 = diseases['age'].quantile(0.75)\n",
    "print(dQ3)\n",
    "drange = dmax - dmin\n",
    "print(drange)\n",
    "dIQR = dQ3 - dQ1\n",
    "print(dIQR)\n",
    "dSD = diseases['age'].std()\n",
    "print(dSD)\n",
    "five_number_summary = diseases['age'].quantile([0, 0.25, 0.5, 0.75, 1])\n",
    "print(five_number_summary)\n"
   ]
  },
  {
   "cell_type": "code",
   "execution_count": 19,
   "id": "d35f970d",
   "metadata": {},
   "outputs": [
    {
     "data": {
      "text/plain": [
       "count    284484.000000\n",
       "mean         34.732396\n",
       "std          22.240912\n",
       "min           0.000000\n",
       "25%          14.000000\n",
       "50%          34.000000\n",
       "75%          54.000000\n",
       "max          78.000000\n",
       "Name: age, dtype: float64"
      ]
     },
     "execution_count": 19,
     "metadata": {},
     "output_type": "execute_result"
    }
   ],
   "source": [
    "diseases['age'].describe()"
   ]
  },
  {
   "cell_type": "code",
   "execution_count": 126,
   "id": "dcb9a43a",
   "metadata": {},
   "outputs": [],
   "source": [
    "#Build function"
   ]
  },
  {
   "cell_type": "code",
   "execution_count": 204,
   "id": "6fb9d399",
   "metadata": {},
   "outputs": [],
   "source": [
    "#uninum(diseases, 'age')"
   ]
  },
  {
   "cell_type": "code",
   "execution_count": 205,
   "id": "8b177955",
   "metadata": {},
   "outputs": [],
   "source": [
    "#uninum(nhanes, 'Age')"
   ]
  },
  {
   "cell_type": "markdown",
   "id": "5c5d08b8",
   "metadata": {},
   "source": [
    "### Univariate Analysis for Categorical Data "
   ]
  },
  {
   "cell_type": "code",
   "execution_count": 34,
   "id": "cd205797",
   "metadata": {},
   "outputs": [
    {
     "data": {
      "text/plain": [
       "count     284484\n",
       "unique         2\n",
       "top       Female\n",
       "freq      147272\n",
       "Name: gender, dtype: object"
      ]
     },
     "execution_count": 34,
     "metadata": {},
     "output_type": "execute_result"
    }
   ],
   "source": [
    "frequencies = diseases['gender'].value_counts()\n",
    "#frequencies\n",
    "\n",
    "proportions = frequencies/frequencies.sum()\n",
    "#proportions\n",
    "\n",
    "percentages = proportions*100\n",
    "percentages\n",
    "\n",
    "#gender = pd.DataFrame(gender)\n",
    "#gender['prop'] = gender['gender']/sum(gender['gender'])\n",
    "#gender['percent'] = gender['prop']*100"
   ]
  },
  {
   "cell_type": "code",
   "execution_count": 96,
   "id": "47d9219e",
   "metadata": {},
   "outputs": [],
   "source": [
    "#define function"
   ]
  },
  {
   "cell_type": "code",
   "execution_count": 207,
   "id": "f71638a1",
   "metadata": {},
   "outputs": [],
   "source": [
    "#unicat(diseases, 'gender')"
   ]
  },
  {
   "cell_type": "code",
   "execution_count": 208,
   "id": "5b26bdc0",
   "metadata": {},
   "outputs": [],
   "source": [
    "#unicat(nhanes, 'Race1')"
   ]
  },
  {
   "cell_type": "markdown",
   "id": "0deadafe",
   "metadata": {},
   "source": [
    "## Bivariate Analysis"
   ]
  },
  {
   "cell_type": "markdown",
   "id": "e9a1eed3",
   "metadata": {},
   "source": [
    "### Categorical vs Categorical "
   ]
  },
  {
   "cell_type": "code",
   "execution_count": 40,
   "id": "9dd30846",
   "metadata": {},
   "outputs": [
    {
     "data": {
      "text/html": [
       "<div>\n",
       "<style scoped>\n",
       "    .dataframe tbody tr th:only-of-type {\n",
       "        vertical-align: middle;\n",
       "    }\n",
       "\n",
       "    .dataframe tbody tr th {\n",
       "        vertical-align: top;\n",
       "    }\n",
       "\n",
       "    .dataframe thead th {\n",
       "        text-align: right;\n",
       "    }\n",
       "</style>\n",
       "<table border=\"1\" class=\"dataframe\">\n",
       "  <thead>\n",
       "    <tr style=\"text-align: right;\">\n",
       "      <th>state</th>\n",
       "      <th>Abia</th>\n",
       "      <th>Adamawa</th>\n",
       "      <th>Akwa Ibom</th>\n",
       "      <th>Anambra</th>\n",
       "      <th>Bauchi</th>\n",
       "      <th>Bayelsa</th>\n",
       "      <th>Benue</th>\n",
       "      <th>Borno</th>\n",
       "      <th>Cross River</th>\n",
       "      <th>Delta</th>\n",
       "      <th>...</th>\n",
       "      <th>Ogun</th>\n",
       "      <th>Ondo</th>\n",
       "      <th>Osun</th>\n",
       "      <th>Oyo</th>\n",
       "      <th>Plateau</th>\n",
       "      <th>Rivers</th>\n",
       "      <th>Sokoto</th>\n",
       "      <th>Taraba</th>\n",
       "      <th>Yobe</th>\n",
       "      <th>Zamfara</th>\n",
       "    </tr>\n",
       "    <tr>\n",
       "      <th>gender</th>\n",
       "      <th></th>\n",
       "      <th></th>\n",
       "      <th></th>\n",
       "      <th></th>\n",
       "      <th></th>\n",
       "      <th></th>\n",
       "      <th></th>\n",
       "      <th></th>\n",
       "      <th></th>\n",
       "      <th></th>\n",
       "      <th></th>\n",
       "      <th></th>\n",
       "      <th></th>\n",
       "      <th></th>\n",
       "      <th></th>\n",
       "      <th></th>\n",
       "      <th></th>\n",
       "      <th></th>\n",
       "      <th></th>\n",
       "      <th></th>\n",
       "      <th></th>\n",
       "    </tr>\n",
       "  </thead>\n",
       "  <tbody>\n",
       "    <tr>\n",
       "      <th>Female</th>\n",
       "      <td>3992</td>\n",
       "      <td>3916</td>\n",
       "      <td>3963</td>\n",
       "      <td>4026</td>\n",
       "      <td>3930</td>\n",
       "      <td>4030</td>\n",
       "      <td>4065</td>\n",
       "      <td>3934</td>\n",
       "      <td>3912</td>\n",
       "      <td>3911</td>\n",
       "      <td>...</td>\n",
       "      <td>3952</td>\n",
       "      <td>4131</td>\n",
       "      <td>4063</td>\n",
       "      <td>4044</td>\n",
       "      <td>3887</td>\n",
       "      <td>3925</td>\n",
       "      <td>4003</td>\n",
       "      <td>3963</td>\n",
       "      <td>4060</td>\n",
       "      <td>3905</td>\n",
       "    </tr>\n",
       "    <tr>\n",
       "      <th>Male</th>\n",
       "      <td>3705</td>\n",
       "      <td>3772</td>\n",
       "      <td>3658</td>\n",
       "      <td>3684</td>\n",
       "      <td>3735</td>\n",
       "      <td>3767</td>\n",
       "      <td>3711</td>\n",
       "      <td>3630</td>\n",
       "      <td>3612</td>\n",
       "      <td>3767</td>\n",
       "      <td>...</td>\n",
       "      <td>3709</td>\n",
       "      <td>3704</td>\n",
       "      <td>3663</td>\n",
       "      <td>3680</td>\n",
       "      <td>3658</td>\n",
       "      <td>3717</td>\n",
       "      <td>3688</td>\n",
       "      <td>3597</td>\n",
       "      <td>3700</td>\n",
       "      <td>3727</td>\n",
       "    </tr>\n",
       "  </tbody>\n",
       "</table>\n",
       "<p>2 rows × 37 columns</p>\n",
       "</div>"
      ],
      "text/plain": [
       "state   Abia  Adamawa  Akwa Ibom  Anambra  Bauchi  Bayelsa  Benue  Borno  \\\n",
       "gender                                                                     \n",
       "Female  3992     3916       3963     4026    3930     4030   4065   3934   \n",
       "Male    3705     3772       3658     3684    3735     3767   3711   3630   \n",
       "\n",
       "state   Cross River  Delta  ...  Ogun  Ondo  Osun   Oyo  Plateau  Rivers  \\\n",
       "gender                      ...                                            \n",
       "Female         3912   3911  ...  3952  4131  4063  4044     3887    3925   \n",
       "Male           3612   3767  ...  3709  3704  3663  3680     3658    3717   \n",
       "\n",
       "state   Sokoto  Taraba  Yobe  Zamfara  \n",
       "gender                                 \n",
       "Female    4003    3963  4060     3905  \n",
       "Male      3688    3597  3700     3727  \n",
       "\n",
       "[2 rows x 37 columns]"
      ]
     },
     "execution_count": 40,
     "metadata": {},
     "output_type": "execute_result"
    }
   ],
   "source": [
    "crosstable = pd.crosstab(diseases['gender'], diseases['state'])\n",
    "crosstable"
   ]
  },
  {
   "cell_type": "code",
   "execution_count": 36,
   "id": "292b27d7",
   "metadata": {},
   "outputs": [
    {
     "data": {
      "text/plain": [
       "284484"
      ]
     },
     "execution_count": 36,
     "metadata": {},
     "output_type": "execute_result"
    }
   ],
   "source": [
    "tablesum = crosstable.sum().sum()\n",
    "tablesum"
   ]
  },
  {
   "cell_type": "code",
   "execution_count": 37,
   "id": "36f05fe0",
   "metadata": {},
   "outputs": [
    {
     "data": {
      "text/html": [
       "<div>\n",
       "<style scoped>\n",
       "    .dataframe tbody tr th:only-of-type {\n",
       "        vertical-align: middle;\n",
       "    }\n",
       "\n",
       "    .dataframe tbody tr th {\n",
       "        vertical-align: top;\n",
       "    }\n",
       "\n",
       "    .dataframe thead th {\n",
       "        text-align: right;\n",
       "    }\n",
       "</style>\n",
       "<table border=\"1\" class=\"dataframe\">\n",
       "  <thead>\n",
       "    <tr style=\"text-align: right;\">\n",
       "      <th>settlement</th>\n",
       "      <th>Rural</th>\n",
       "      <th>Urban</th>\n",
       "    </tr>\n",
       "    <tr>\n",
       "      <th>gender</th>\n",
       "      <th></th>\n",
       "      <th></th>\n",
       "    </tr>\n",
       "  </thead>\n",
       "  <tbody>\n",
       "    <tr>\n",
       "      <th>Female</th>\n",
       "      <td>0.259656</td>\n",
       "      <td>0.258025</td>\n",
       "    </tr>\n",
       "    <tr>\n",
       "      <th>Male</th>\n",
       "      <td>0.241472</td>\n",
       "      <td>0.240847</td>\n",
       "    </tr>\n",
       "  </tbody>\n",
       "</table>\n",
       "</div>"
      ],
      "text/plain": [
       "settlement     Rural     Urban\n",
       "gender                        \n",
       "Female      0.259656  0.258025\n",
       "Male        0.241472  0.240847"
      ]
     },
     "execution_count": 37,
     "metadata": {},
     "output_type": "execute_result"
    }
   ],
   "source": [
    "proptable = crosstable/tablesum\n",
    "proptable"
   ]
  },
  {
   "cell_type": "code",
   "execution_count": 38,
   "id": "a0832d05",
   "metadata": {},
   "outputs": [
    {
     "data": {
      "text/html": [
       "<div>\n",
       "<style scoped>\n",
       "    .dataframe tbody tr th:only-of-type {\n",
       "        vertical-align: middle;\n",
       "    }\n",
       "\n",
       "    .dataframe tbody tr th {\n",
       "        vertical-align: top;\n",
       "    }\n",
       "\n",
       "    .dataframe thead th {\n",
       "        text-align: right;\n",
       "    }\n",
       "</style>\n",
       "<table border=\"1\" class=\"dataframe\">\n",
       "  <thead>\n",
       "    <tr style=\"text-align: right;\">\n",
       "      <th>settlement</th>\n",
       "      <th>Rural</th>\n",
       "      <th>Urban</th>\n",
       "    </tr>\n",
       "    <tr>\n",
       "      <th>gender</th>\n",
       "      <th></th>\n",
       "      <th></th>\n",
       "    </tr>\n",
       "  </thead>\n",
       "  <tbody>\n",
       "    <tr>\n",
       "      <th>Female</th>\n",
       "      <td>25.965608</td>\n",
       "      <td>25.802506</td>\n",
       "    </tr>\n",
       "    <tr>\n",
       "      <th>Male</th>\n",
       "      <td>24.147228</td>\n",
       "      <td>24.084659</td>\n",
       "    </tr>\n",
       "  </tbody>\n",
       "</table>\n",
       "</div>"
      ],
      "text/plain": [
       "settlement      Rural      Urban\n",
       "gender                          \n",
       "Female      25.965608  25.802506\n",
       "Male        24.147228  24.084659"
      ]
     },
     "execution_count": 38,
     "metadata": {},
     "output_type": "execute_result"
    }
   ],
   "source": [
    "percentable = proptable*100\n",
    "percentable"
   ]
  },
  {
   "cell_type": "code",
   "execution_count": 180,
   "id": "d0d1b583",
   "metadata": {},
   "outputs": [],
   "source": [
    "#define function"
   ]
  },
  {
   "cell_type": "code",
   "execution_count": 213,
   "id": "37b2245d",
   "metadata": {},
   "outputs": [],
   "source": [
    "#summary = bicat('Gender', 'Race1', nhanes)"
   ]
  },
  {
   "cell_type": "code",
   "execution_count": 214,
   "id": "bab96e76",
   "metadata": {},
   "outputs": [],
   "source": [
    "#summary['frequencies']"
   ]
  },
  {
   "cell_type": "code",
   "execution_count": 215,
   "id": "7e864efd",
   "metadata": {},
   "outputs": [],
   "source": [
    "#summary['proportions']"
   ]
  },
  {
   "cell_type": "code",
   "execution_count": 216,
   "id": "13205186",
   "metadata": {},
   "outputs": [],
   "source": [
    "#summary['percentages']"
   ]
  },
  {
   "cell_type": "markdown",
   "id": "b9022ed0",
   "metadata": {},
   "source": [
    "### Categorical vs Numeric"
   ]
  },
  {
   "cell_type": "code",
   "execution_count": 41,
   "id": "b79f8de7",
   "metadata": {},
   "outputs": [
    {
     "data": {
      "text/html": [
       "<div>\n",
       "<style scoped>\n",
       "    .dataframe tbody tr th:only-of-type {\n",
       "        vertical-align: middle;\n",
       "    }\n",
       "\n",
       "    .dataframe tbody tr th {\n",
       "        vertical-align: top;\n",
       "    }\n",
       "\n",
       "    .dataframe thead th {\n",
       "        text-align: right;\n",
       "    }\n",
       "</style>\n",
       "<table border=\"1\" class=\"dataframe\">\n",
       "  <thead>\n",
       "    <tr style=\"text-align: right;\">\n",
       "      <th></th>\n",
       "      <th></th>\n",
       "      <th>age</th>\n",
       "    </tr>\n",
       "    <tr>\n",
       "      <th>gender</th>\n",
       "      <th></th>\n",
       "      <th></th>\n",
       "    </tr>\n",
       "  </thead>\n",
       "  <tbody>\n",
       "    <tr>\n",
       "      <th rowspan=\"5\" valign=\"top\">Female</th>\n",
       "      <th>0.00</th>\n",
       "      <td>0.0</td>\n",
       "    </tr>\n",
       "    <tr>\n",
       "      <th>0.25</th>\n",
       "      <td>14.0</td>\n",
       "    </tr>\n",
       "    <tr>\n",
       "      <th>0.50</th>\n",
       "      <td>34.0</td>\n",
       "    </tr>\n",
       "    <tr>\n",
       "      <th>0.75</th>\n",
       "      <td>54.0</td>\n",
       "    </tr>\n",
       "    <tr>\n",
       "      <th>1.00</th>\n",
       "      <td>78.0</td>\n",
       "    </tr>\n",
       "    <tr>\n",
       "      <th rowspan=\"5\" valign=\"top\">Male</th>\n",
       "      <th>0.00</th>\n",
       "      <td>0.0</td>\n",
       "    </tr>\n",
       "    <tr>\n",
       "      <th>0.25</th>\n",
       "      <td>14.0</td>\n",
       "    </tr>\n",
       "    <tr>\n",
       "      <th>0.50</th>\n",
       "      <td>34.0</td>\n",
       "    </tr>\n",
       "    <tr>\n",
       "      <th>0.75</th>\n",
       "      <td>54.0</td>\n",
       "    </tr>\n",
       "    <tr>\n",
       "      <th>1.00</th>\n",
       "      <td>78.0</td>\n",
       "    </tr>\n",
       "  </tbody>\n",
       "</table>\n",
       "</div>"
      ],
      "text/plain": [
       "              age\n",
       "gender           \n",
       "Female 0.00   0.0\n",
       "       0.25  14.0\n",
       "       0.50  34.0\n",
       "       0.75  54.0\n",
       "       1.00  78.0\n",
       "Male   0.00   0.0\n",
       "       0.25  14.0\n",
       "       0.50  34.0\n",
       "       0.75  54.0\n",
       "       1.00  78.0"
      ]
     },
     "execution_count": 41,
     "metadata": {},
     "output_type": "execute_result"
    }
   ],
   "source": [
    "diseases[['age', 'gender']].groupby('gender').quantile([0, 0.25, 0.5, 0.75, 1])"
   ]
  },
  {
   "cell_type": "code",
   "execution_count": 218,
   "id": "987551ef",
   "metadata": {},
   "outputs": [],
   "source": [
    "#diseases[['age', 'gender']].groupby('gender').mean()"
   ]
  },
  {
   "cell_type": "code",
   "execution_count": 219,
   "id": "deb10e64",
   "metadata": {},
   "outputs": [],
   "source": [
    "#diseases[['age', 'gender']].groupby('gender').std()"
   ]
  },
  {
   "cell_type": "markdown",
   "id": "e8d4d5ce",
   "metadata": {},
   "source": [
    "### Numeric vs Numeric"
   ]
  },
  {
   "cell_type": "code",
   "execution_count": 39,
   "id": "c8228129",
   "metadata": {},
   "outputs": [
    {
     "data": {
      "text/html": [
       "<div>\n",
       "<style scoped>\n",
       "    .dataframe tbody tr th:only-of-type {\n",
       "        vertical-align: middle;\n",
       "    }\n",
       "\n",
       "    .dataframe tbody tr th {\n",
       "        vertical-align: top;\n",
       "    }\n",
       "\n",
       "    .dataframe thead th {\n",
       "        text-align: right;\n",
       "    }\n",
       "</style>\n",
       "<table border=\"1\" class=\"dataframe\">\n",
       "  <thead>\n",
       "    <tr style=\"text-align: right;\">\n",
       "      <th></th>\n",
       "      <th>Age</th>\n",
       "      <th>Weight</th>\n",
       "    </tr>\n",
       "  </thead>\n",
       "  <tbody>\n",
       "    <tr>\n",
       "      <th>Age</th>\n",
       "      <td>1.000000</td>\n",
       "      <td>0.626415</td>\n",
       "    </tr>\n",
       "    <tr>\n",
       "      <th>Weight</th>\n",
       "      <td>0.626415</td>\n",
       "      <td>1.000000</td>\n",
       "    </tr>\n",
       "  </tbody>\n",
       "</table>\n",
       "</div>"
      ],
      "text/plain": [
       "             Age    Weight\n",
       "Age     1.000000  0.626415\n",
       "Weight  0.626415  1.000000"
      ]
     },
     "execution_count": 39,
     "metadata": {},
     "output_type": "execute_result"
    }
   ],
   "source": [
    "nhanes[['Age', 'Weight']].corr()"
   ]
  },
  {
   "cell_type": "code",
   "execution_count": null,
   "id": "79809c03",
   "metadata": {},
   "outputs": [],
   "source": []
  }
 ],
 "metadata": {
  "kernelspec": {
   "display_name": "Python 3 (ipykernel)",
   "language": "python",
   "name": "python3"
  },
  "language_info": {
   "codemirror_mode": {
    "name": "ipython",
    "version": 3
   },
   "file_extension": ".py",
   "mimetype": "text/x-python",
   "name": "python",
   "nbconvert_exporter": "python",
   "pygments_lexer": "ipython3",
   "version": "3.9.7"
  }
 },
 "nbformat": 4,
 "nbformat_minor": 5
}
