{
 "cells": [
  {
   "cell_type": "markdown",
   "id": "02d11d44",
   "metadata": {},
   "source": [
    "# Multiple models - scaled"
   ]
  },
  {
   "cell_type": "code",
   "execution_count": 42,
   "id": "1575e32a",
   "metadata": {},
   "outputs": [],
   "source": [
    "import numpy as np\n",
    "import pandas as pd\n",
    "\n",
    "from matplotlib import pyplot as plt \n",
    "import seaborn as sns\n",
    "\n",
    "import cufflinks as cf"
   ]
  },
  {
   "cell_type": "code",
   "execution_count": 43,
   "id": "02e43594",
   "metadata": {},
   "outputs": [],
   "source": [
    "#cf.go_offline()"
   ]
  },
  {
   "cell_type": "code",
   "execution_count": 47,
   "id": "ee1e7eb0",
   "metadata": {},
   "outputs": [],
   "source": [
    "titanic = sns.load_dataset('titanic')"
   ]
  },
  {
   "cell_type": "code",
   "execution_count": 49,
   "id": "d69dfb9f",
   "metadata": {},
   "outputs": [],
   "source": [
    "#titanic.isnull().sum()"
   ]
  },
  {
   "cell_type": "code",
   "execution_count": 50,
   "id": "e122f72b",
   "metadata": {},
   "outputs": [],
   "source": [
    "titanic.drop(columns=['deck'], inplace=True)\n",
    "titanic.age = titanic.age.fillna(titanic.age.mean())\n",
    "titanic.dropna(inplace=True)"
   ]
  },
  {
   "cell_type": "code",
   "execution_count": 51,
   "id": "43513662",
   "metadata": {},
   "outputs": [],
   "source": [
    "unlabelled  = titanic.drop(['survived', 'alive'], axis=1)"
   ]
  },
  {
   "cell_type": "code",
   "execution_count": 52,
   "id": "f6c6e881",
   "metadata": {},
   "outputs": [],
   "source": [
    "unlabelled = pd.get_dummies(unlabelled, drop_first=True)"
   ]
  },
  {
   "cell_type": "code",
   "execution_count": 53,
   "id": "3c6edb64",
   "metadata": {},
   "outputs": [],
   "source": [
    "from sklearn.preprocessing import StandardScaler"
   ]
  },
  {
   "cell_type": "code",
   "execution_count": 54,
   "id": "6b385f7d",
   "metadata": {},
   "outputs": [],
   "source": [
    "scaler = StandardScaler()"
   ]
  },
  {
   "cell_type": "code",
   "execution_count": 55,
   "id": "69b75a2f",
   "metadata": {},
   "outputs": [],
   "source": [
    "scaled = scaler.fit(unlabelled)"
   ]
  },
  {
   "cell_type": "code",
   "execution_count": 56,
   "id": "2da980a9",
   "metadata": {},
   "outputs": [],
   "source": [
    "scaled = scaler.transform(unlabelled)"
   ]
  },
  {
   "cell_type": "code",
   "execution_count": 57,
   "id": "d5cd2e6c",
   "metadata": {},
   "outputs": [],
   "source": [
    "xscaled = pd.DataFrame(scaled)"
   ]
  },
  {
   "cell_type": "code",
   "execution_count": 59,
   "id": "226f439d",
   "metadata": {},
   "outputs": [],
   "source": [
    "xscaled"
   ]
  },
  {
   "cell_type": "code",
   "execution_count": 60,
   "id": "42331637",
   "metadata": {},
   "outputs": [],
   "source": [
    "from sklearn.model_selection import train_test_split"
   ]
  },
  {
   "cell_type": "code",
   "execution_count": 61,
   "id": "e5bf3c66",
   "metadata": {},
   "outputs": [],
   "source": [
    "feat_train, feat_test, lab_train, lab_test = train_test_split(xscaled, titanic.survived, test_size=0.2, random_state=101)"
   ]
  },
  {
   "cell_type": "code",
   "execution_count": 62,
   "id": "adda8c71",
   "metadata": {},
   "outputs": [],
   "source": [
    "from sklearn.neighbors import KNeighborsClassifier\n",
    "from sklearn.tree import DecisionTreeClassifier\n",
    "from sklearn.svm import SVC\n",
    "from sklearn.ensemble import RandomForestClassifier\n",
    "from sklearn.linear_model import LogisticRegression\n",
    "from xgboost import XGBClassifier"
   ]
  },
  {
   "cell_type": "code",
   "execution_count": 63,
   "id": "030ba7c2",
   "metadata": {},
   "outputs": [],
   "source": [
    "knn = KNeighborsClassifier(n_neighbors=7)\n",
    "knn.fit(feat_train, lab_train)\n",
    "kpred = knn.predict(feat_test)"
   ]
  },
  {
   "cell_type": "code",
   "execution_count": 64,
   "id": "addd7608",
   "metadata": {},
   "outputs": [],
   "source": [
    "dtc = DecisionTreeClassifier()\n",
    "dtc.fit(feat_train, lab_train)\n",
    "dpred = dtc.predict(feat_test)"
   ]
  },
  {
   "cell_type": "code",
   "execution_count": 65,
   "id": "7bade3bc",
   "metadata": {},
   "outputs": [],
   "source": [
    "svc = SVC()\n",
    "svc.fit(feat_train, lab_train)\n",
    "spred = svc.predict(feat_test)"
   ]
  },
  {
   "cell_type": "code",
   "execution_count": 66,
   "id": "3e1509d0",
   "metadata": {},
   "outputs": [],
   "source": [
    "rfc = RandomForestClassifier(n_estimators=500)\n",
    "rfc.fit(feat_train, lab_train)\n",
    "rpred = rfc.predict(feat_test)"
   ]
  },
  {
   "cell_type": "code",
   "execution_count": 67,
   "id": "5f1f5524",
   "metadata": {},
   "outputs": [],
   "source": [
    "logit = LogisticRegression()\n",
    "logit.fit(feat_train, lab_train)\n",
    "lpred = logit.predict(feat_test)"
   ]
  },
  {
   "cell_type": "code",
   "execution_count": 68,
   "id": "9b39b27e",
   "metadata": {},
   "outputs": [],
   "source": [
    "xgb = XGBClassifier()\n",
    "xgb.fit(feat_train, lab_train)\n",
    "xpred = xgb.predict(feat_test)"
   ]
  },
  {
   "cell_type": "code",
   "execution_count": 69,
   "id": "25f0ba04",
   "metadata": {},
   "outputs": [],
   "source": [
    "from sklearn.metrics import classification_report"
   ]
  },
  {
   "cell_type": "code",
   "execution_count": 71,
   "id": "11f0a0eb",
   "metadata": {},
   "outputs": [],
   "source": [
    "print(classification_report(kpred, lab_test))"
   ]
  },
  {
   "cell_type": "code",
   "execution_count": 73,
   "id": "4bc49085",
   "metadata": {},
   "outputs": [],
   "source": [
    "print(classification_report(spred, lab_test))"
   ]
  },
  {
   "cell_type": "code",
   "execution_count": 75,
   "id": "3f9883f8",
   "metadata": {},
   "outputs": [],
   "source": [
    "print(classification_report(dpred, lab_test))"
   ]
  },
  {
   "cell_type": "code",
   "execution_count": 77,
   "id": "8fca6927",
   "metadata": {},
   "outputs": [],
   "source": [
    "print(classification_report(rpred, lab_test))"
   ]
  },
  {
   "cell_type": "code",
   "execution_count": 79,
   "id": "7db4b293",
   "metadata": {},
   "outputs": [],
   "source": [
    "print(classification_report(lpred, lab_test))"
   ]
  },
  {
   "cell_type": "code",
   "execution_count": 81,
   "id": "7af63d2d",
   "metadata": {},
   "outputs": [],
   "source": [
    "print(classification_report(xpred, lab_test))"
   ]
  },
  {
   "cell_type": "markdown",
   "id": "77071967",
   "metadata": {},
   "source": [
    "# Performance\n",
    "1. Support Vector Machine 85%\n",
    "2. Logistic regression - 84%\n",
    "3. K-Nearest Neighbor - 84%\n",
    "4. XGBoot - 83%\n",
    "5. Random Forest - 82%\n",
    "6. Decision tree 76% "
   ]
  }
 ],
 "metadata": {
  "kernelspec": {
   "display_name": "Python 3 (ipykernel)",
   "language": "python",
   "name": "python3"
  },
  "language_info": {
   "codemirror_mode": {
    "name": "ipython",
    "version": 3
   },
   "file_extension": ".py",
   "mimetype": "text/x-python",
   "name": "python",
   "nbconvert_exporter": "python",
   "pygments_lexer": "ipython3",
   "version": "3.9.7"
  }
 },
 "nbformat": 4,
 "nbformat_minor": 5
}
