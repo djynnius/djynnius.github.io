{
 "cells": [
  {
   "cell_type": "markdown",
   "id": "72b1f296",
   "metadata": {},
   "source": [
    "# NumPy"
   ]
  },
  {
   "cell_type": "code",
   "execution_count": null,
   "id": "20d98dd6",
   "metadata": {},
   "outputs": [],
   "source": [
    "import numpy as np "
   ]
  },
  {
   "cell_type": "code",
   "execution_count": null,
   "id": "e2f35187",
   "metadata": {},
   "outputs": [],
   "source": [
    "scalar = np.array(3)\n",
    "vector = np.array([12, 5, 7])\n",
    "matrix = np.array([[3, 1, 2], [7, 5, 8]])\n",
    "\n",
    "#creating a zero nupy array\n",
    "onedim = np.zeros([1])\n",
    "twodim = np.zeros([3, 3])\n",
    "threedim = np.zeros([4, 3, 2])\n",
    "\n",
    "#you can do something similar with ones\n",
    "#most of what we will deal with are matrices (2-dimensional arrays)"
   ]
  },
  {
   "cell_type": "markdown",
   "id": "a47add0d",
   "metadata": {},
   "source": [
    "##### NumPy arithmetic  "
   ]
  },
  {
   "cell_type": "code",
   "execution_count": null,
   "id": "8bf9bf68",
   "metadata": {},
   "outputs": [],
   "source": [
    "a = [1, 2, 3]\n",
    "b = [5, 7, 8]\n",
    "print(a + b)\n",
    "\n",
    "c = np.array(a)\n",
    "d = np.array(b)\n",
    "print(c + d)\n",
    "\n",
    "print(c/2)\n",
    "print(d**3)"
   ]
  },
  {
   "cell_type": "markdown",
   "id": "8cf8c243",
   "metadata": {},
   "source": [
    "##### Numpy slicing  "
   ]
  },
  {
   "cell_type": "code",
   "execution_count": null,
   "id": "38b7f8fd",
   "metadata": {},
   "outputs": [],
   "source": [
    "board = np.random.randint(64, size=[8, 8])\n",
    "board[0, 5]\n",
    "board[:, :]\n",
    "board[0:3, 0:3]\n",
    "board[:, 3]\n",
    "board[3, :]\n"
   ]
  },
  {
   "cell_type": "markdown",
   "id": "8cb58a7b",
   "metadata": {},
   "source": [
    "# Pandas"
   ]
  },
  {
   "cell_type": "code",
   "execution_count": null,
   "id": "21b200ad",
   "metadata": {},
   "outputs": [],
   "source": [
    "import pandas as pd "
   ]
  },
  {
   "cell_type": "markdown",
   "id": "5d46672d",
   "metadata": {},
   "source": [
    "##### Importing data"
   ]
  },
  {
   "cell_type": "code",
   "execution_count": null,
   "id": "c776c9b3",
   "metadata": {},
   "outputs": [],
   "source": [
    "csv_file = pd.read_csv('some_file.csv')\n",
    "web_table = pd.read_html('http://www.website.com') #this returns a colletion of pandas data frames  \n",
    "excel_file = pd.read_excel('excel_file.xlsx', sheet='specify_sheet_else_first')"
   ]
  },
  {
   "cell_type": "markdown",
   "id": "bec81f28",
   "metadata": {},
   "source": [
    "##### Exploring Data"
   ]
  },
  {
   "cell_type": "code",
   "execution_count": null,
   "id": "ba2d6adb",
   "metadata": {},
   "outputs": [],
   "source": [
    "csv_file.info()\n",
    "csv_file.columns\n",
    "csv_file.shape\n",
    "csv_file.head()\n",
    "csv_file.tail()"
   ]
  }
 ],
 "metadata": {
  "kernelspec": {
   "display_name": "Python 3 (ipykernel)",
   "language": "python",
   "name": "python3"
  },
  "language_info": {
   "codemirror_mode": {
    "name": "ipython",
    "version": 3
   },
   "file_extension": ".py",
   "mimetype": "text/x-python",
   "name": "python",
   "nbconvert_exporter": "python",
   "pygments_lexer": "ipython3",
   "version": "3.9.7"
  }
 },
 "nbformat": 4,
 "nbformat_minor": 5
}
