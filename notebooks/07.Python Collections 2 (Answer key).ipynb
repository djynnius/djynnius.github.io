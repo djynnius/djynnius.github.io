{
 "cells": [
  {
   "cell_type": "markdown",
   "id": "7ee207a5",
   "metadata": {},
   "source": [
    "# Python Comprehensions"
   ]
  },
  {
   "cell_type": "code",
   "execution_count": 8,
   "id": "6aa5441a",
   "metadata": {},
   "outputs": [],
   "source": [
    "box = ['red m&m', 'blue m&m', 'yellow m&m', 'green m&m', 'green m&m', 'red m&m', 'green m&m', 'yellow m&m', 'yellow m&m'] \n",
    "scores = (34, 28, 77, 90, 65, 44, 58, 100)\n",
    "firstnames = ['satuski', 'steve', 'barth', 'wande', 'elsie', 'chima', 'dapo', 'dennis', 'wale', 'kelechi', 'quincy', 'biyi', 'fibi', 'longji', 'segun', 'john', 'bakkas', 'bola', 'isaiah', 'sunday']\n",
    "eagles  = [\n",
    " {'name': 'JJ Okocha', 'number': 10, 'position': 'midfield'}, \n",
    " {'name': 'Garba Lawal', 'number': 12, 'position': 'midfield'}, \n",
    " {'name': 'Ruben Agboola', 'number': 5, 'position': 'defence'}, \n",
    " {'name': 'Rashidi Yekini', 'number': 9, 'position': 'attack'}, \n",
    " {'name': 'Peter Rufai', 'number': 1, 'position': 'goalkeper'}, \n",
    " {'name': 'Onazi', 'number': 4, 'position': 'midfield'}, \n",
    " {'name': 'Troost Ekong', 'number': 5, 'position': 'defence'}, \n",
    " {'name': 'Sunday Oliseh', 'number': 15, 'position': 'midfield'}, \n",
    " {'name': 'Samson Siasia', 'number': 8, 'position': 'attack'}, \n",
    " {'name': 'Daniel Amokachi', 'number': 14, 'position': 'attack'}, \n",
    " {'name': 'John Utaka', 'number': 8, 'position': 'attack'}, \n",
    " {'name': 'Celestine Babayaro', 'number': 3, 'position': 'defence'}, \n",
    " {'name': 'Manga Mohammed', 'number': 22, 'position': 'midfield'}, \n",
    " {'name': 'Augustine Eguavoen', 'number': 2, 'position': 'defence'}, \n",
    " {'name': 'Leon Balogun', 'number': 6, 'position': 'defence'}, \n",
    " {'name': 'Finidi George', 'number': 7, 'position': 'midfield'}, \n",
    " {'name': 'Emmanuel Amunike', 'number': 11, 'position': 'midfield'}, \n",
    "]"
   ]
  },
  {
   "cell_type": "markdown",
   "id": "3d47a897",
   "metadata": {},
   "source": [
    "# Homework"
   ]
  },
  {
   "cell_type": "markdown",
   "id": "f8f6e288",
   "metadata": {},
   "source": [
    "##### Q1. Write a regular function using the 'def' named capslock that converts a string to uppercase. After writing test to see if it does what you expect"
   ]
  },
  {
   "cell_type": "code",
   "execution_count": 91,
   "id": "3809c2f9",
   "metadata": {},
   "outputs": [
    {
     "data": {
      "text/plain": [
       "'SOME TEXT'"
      ]
     },
     "execution_count": 91,
     "metadata": {},
     "output_type": "execute_result"
    }
   ],
   "source": [
    "#define a function using the def key word\n",
    "def capslock(text):\n",
    "    return text.upper()\n",
    "\n",
    "capslock(\"some text\")"
   ]
  },
  {
   "cell_type": "markdown",
   "id": "10278457",
   "metadata": {},
   "source": [
    "##### Q2. Rewrite the function above as a lambda."
   ]
  },
  {
   "cell_type": "code",
   "execution_count": 100,
   "id": "6b1b7472",
   "metadata": {},
   "outputs": [
    {
     "data": {
      "text/plain": [
       "'ANOTHER TEXT'"
      ]
     },
     "execution_count": 100,
     "metadata": {},
     "output_type": "execute_result"
    }
   ],
   "source": [
    "#define an anonymous function (lambda function) and then assign it to a variable so it can be called\n",
    "c_lock = lambda text: text.upper()\n",
    "c_lock(\"another text\")"
   ]
  },
  {
   "cell_type": "markdown",
   "id": "e11a4ec1",
   "metadata": {},
   "source": [
    "##### Q3. From the box of M&Ms above, determine how many colors there are"
   ]
  },
  {
   "cell_type": "code",
   "execution_count": 94,
   "id": "8c259c5e",
   "metadata": {},
   "outputs": [
    {
     "data": {
      "text/plain": [
       "['red m&m',\n",
       " 'blue m&m',\n",
       " 'yellow m&m',\n",
       " 'green m&m',\n",
       " 'green m&m',\n",
       " 'red m&m',\n",
       " 'green m&m',\n",
       " 'yellow m&m',\n",
       " 'yellow m&m']"
      ]
     },
     "execution_count": 94,
     "metadata": {},
     "output_type": "execute_result"
    }
   ],
   "source": [
    "#examine the variable\n",
    "box"
   ]
  },
  {
   "cell_type": "code",
   "execution_count": 101,
   "id": "b0a32d2a",
   "metadata": {},
   "outputs": [
    {
     "data": {
      "text/plain": [
       "{'blue m&m', 'green m&m', 'red m&m', 'yellow m&m'}"
      ]
     },
     "execution_count": 101,
     "metadata": {},
     "output_type": "execute_result"
    }
   ],
   "source": [
    "#convert to a set which will ensure no duplicates\n",
    "set(box)"
   ]
  },
  {
   "cell_type": "code",
   "execution_count": 102,
   "id": "fd38090f",
   "metadata": {},
   "outputs": [
    {
     "data": {
      "text/plain": [
       "4"
      ]
     },
     "execution_count": 102,
     "metadata": {},
     "output_type": "execute_result"
    }
   ],
   "source": [
    "#wrap the set in the len function to get a count of the unique m&m colors\n",
    "len(set(box))"
   ]
  },
  {
   "cell_type": "markdown",
   "id": "76004cbc",
   "metadata": {},
   "source": [
    "##### Q4. Determine how many many M&Ms are of each color example 5 red, 4 blue etc"
   ]
  },
  {
   "cell_type": "code",
   "execution_count": 103,
   "id": "cbb09241",
   "metadata": {},
   "outputs": [
    {
     "data": {
      "text/plain": [
       "['red m&m',\n",
       " 'blue m&m',\n",
       " 'yellow m&m',\n",
       " 'green m&m',\n",
       " 'green m&m',\n",
       " 'red m&m',\n",
       " 'green m&m',\n",
       " 'yellow m&m',\n",
       " 'yellow m&m']"
      ]
     },
     "execution_count": 103,
     "metadata": {},
     "output_type": "execute_result"
    }
   ],
   "source": [
    "#explore the variable\n",
    "box"
   ]
  },
  {
   "cell_type": "code",
   "execution_count": 104,
   "id": "13de2c78",
   "metadata": {},
   "outputs": [
    {
     "data": {
      "text/plain": [
       "{'blue m&m', 'green m&m', 'red m&m', 'yellow m&m'}"
      ]
     },
     "execution_count": 104,
     "metadata": {},
     "output_type": "execute_result"
    }
   ],
   "source": [
    "#get unique colors by converting to set\n",
    "colors = set(box)\n",
    "colors"
   ]
  },
  {
   "cell_type": "code",
   "execution_count": 105,
   "id": "2a3c01f2",
   "metadata": {},
   "outputs": [
    {
     "data": {
      "text/plain": [
       "['blue m&m', 'yellow m&m', 'red m&m', 'green m&m']"
      ]
     },
     "execution_count": 105,
     "metadata": {},
     "output_type": "execute_result"
    }
   ],
   "source": [
    "#build a comprehension\n",
    "[color for color in colors]"
   ]
  },
  {
   "cell_type": "code",
   "execution_count": 106,
   "id": "a33873b2",
   "metadata": {},
   "outputs": [
    {
     "data": {
      "text/plain": [
       "[1, 3, 2, 3]"
      ]
     },
     "execution_count": 106,
     "metadata": {},
     "output_type": "execute_result"
    }
   ],
   "source": [
    "#use the count method on box to map and find the count of each color\n",
    "[box.count(color) for color in colors]"
   ]
  },
  {
   "cell_type": "code",
   "execution_count": 109,
   "id": "ddefcfba",
   "metadata": {},
   "outputs": [
    {
     "data": {
      "text/plain": [
       "[(1, 'blue m&m'), (3, 'yellow m&m'), (2, 'red m&m'), (3, 'green m&m')]"
      ]
     },
     "execution_count": 109,
     "metadata": {},
     "output_type": "execute_result"
    }
   ],
   "source": [
    "#lets build a tuple that contains the color and the count\n",
    "[(box.count(color), color) for color in colors]"
   ]
  },
  {
   "cell_type": "code",
   "execution_count": 111,
   "id": "3b1f735f",
   "metadata": {},
   "outputs": [
    {
     "data": {
      "text/plain": [
       "[(1, ['blue', 'm&m']),\n",
       " (3, ['yellow', 'm&m']),\n",
       " (2, ['red', 'm&m']),\n",
       " (3, ['green', 'm&m'])]"
      ]
     },
     "execution_count": 111,
     "metadata": {},
     "output_type": "execute_result"
    }
   ],
   "source": [
    "#lets split the color so we can extract only the color\n",
    "[(box.count(color), color.split()) for color in colors]"
   ]
  },
  {
   "cell_type": "code",
   "execution_count": 112,
   "id": "e60e3729",
   "metadata": {},
   "outputs": [
    {
     "data": {
      "text/plain": [
       "[(1, 'blue'), (3, 'yellow'), (2, 'red'), (3, 'green')]"
      ]
     },
     "execution_count": 112,
     "metadata": {},
     "output_type": "execute_result"
    }
   ],
   "source": [
    "#Lets pull out the index\n",
    "[(box.count(color), color.split()[0]) for color in colors]"
   ]
  },
  {
   "cell_type": "code",
   "execution_count": 113,
   "id": "5a08007c",
   "metadata": {},
   "outputs": [
    {
     "data": {
      "text/plain": [
       "[(1, 'Blue'), (3, 'Yellow'), (2, 'Red'), (3, 'Green')]"
      ]
     },
     "execution_count": 113,
     "metadata": {},
     "output_type": "execute_result"
    }
   ],
   "source": [
    "#Finally lets capitalize the colors\n",
    "[(box.count(color), color.split()[0].capitalize()) for color in colors]"
   ]
  },
  {
   "cell_type": "markdown",
   "id": "d8218706",
   "metadata": {},
   "source": [
    "# -----------------------------------------------------------"
   ]
  },
  {
   "cell_type": "code",
   "execution_count": 114,
   "id": "b0757001",
   "metadata": {},
   "outputs": [],
   "source": [
    "revenue = [\n",
    "    {'state': 'Lagos', 'igr': 267232774438.06, 'region': 'South West'},\n",
    "    {'state': 'FCT', 'igr': 69072879664.43, 'region': 'North Central'},\n",
    "    {'state': 'Rivers', 'igr': 57324672372.03, 'region': 'South South'},\n",
    "    {'state': 'Ogun', 'igr': 54823454372.03, 'region': 'South West'},\n",
    "    {'state': 'Delta', 'igr': 41934182750.80, 'region': 'South South'},\n",
    "    {'state': 'Kaduna', 'igr': 26429424219.47, 'region': 'North West'},\n",
    "    {'state': 'Oyo', 'igr': 25191713445.75, 'region': 'South West'},\n",
    "    {'state': 'Akwa Ibom', 'igr': 18094550401.76, 'region': 'South South'},\n",
    "    {'state': 'Ondo', 'igr': 17908118155.96, 'region': 'South West'},\n",
    "    {'state': 'Edo', 'igr': 17664442655.28, 'region': 'south west'},\n",
    "]"
   ]
  },
  {
   "cell_type": "markdown",
   "id": "f346ff02",
   "metadata": {},
   "source": [
    "##### Q5. From the revenue variable above, determine what would be collected by the Federal Government of Nigeria if they decided to collect 10% of the IGR of the South Western states in Nigeria listed in the top 10 earners in the first half of 2021. Hint use comprehension, with map, filter and reduce. (answer =N=36,515,606,041.18)"
   ]
  },
  {
   "cell_type": "code",
   "execution_count": 116,
   "id": "872ab1bf",
   "metadata": {},
   "outputs": [
    {
     "data": {
      "text/plain": [
       "[{'state': 'Lagos', 'igr': 267232774438.06, 'region': 'South West'},\n",
       " {'state': 'FCT', 'igr': 69072879664.43, 'region': 'North Central'},\n",
       " {'state': 'Rivers', 'igr': 57324672372.03, 'region': 'South South'},\n",
       " {'state': 'Ogun', 'igr': 54823454372.03, 'region': 'South West'},\n",
       " {'state': 'Delta', 'igr': 41934182750.8, 'region': 'South South'},\n",
       " {'state': 'Kaduna', 'igr': 26429424219.47, 'region': 'North West'},\n",
       " {'state': 'Oyo', 'igr': 25191713445.75, 'region': 'South West'},\n",
       " {'state': 'Akwa Ibom', 'igr': 18094550401.76, 'region': 'South South'},\n",
       " {'state': 'Ondo', 'igr': 17908118155.96, 'region': 'South West'},\n",
       " {'state': 'Edo', 'igr': 17664442655.28, 'region': 'south west'}]"
      ]
     },
     "execution_count": 116,
     "metadata": {},
     "output_type": "execute_result"
    }
   ],
   "source": [
    "#lets explore the revenue variable - we see a list of dictionaries with the keys: state, igr and region\n",
    "revenue"
   ]
  },
  {
   "cell_type": "code",
   "execution_count": 117,
   "id": "7ec84fc7",
   "metadata": {},
   "outputs": [
    {
     "data": {
      "text/plain": [
       "[{'state': 'Lagos', 'igr': 267232774438.06, 'region': 'South West'},\n",
       " {'state': 'FCT', 'igr': 69072879664.43, 'region': 'North Central'},\n",
       " {'state': 'Rivers', 'igr': 57324672372.03, 'region': 'South South'},\n",
       " {'state': 'Ogun', 'igr': 54823454372.03, 'region': 'South West'},\n",
       " {'state': 'Delta', 'igr': 41934182750.8, 'region': 'South South'},\n",
       " {'state': 'Kaduna', 'igr': 26429424219.47, 'region': 'North West'},\n",
       " {'state': 'Oyo', 'igr': 25191713445.75, 'region': 'South West'},\n",
       " {'state': 'Akwa Ibom', 'igr': 18094550401.76, 'region': 'South South'},\n",
       " {'state': 'Ondo', 'igr': 17908118155.96, 'region': 'South West'},\n",
       " {'state': 'Edo', 'igr': 17664442655.28, 'region': 'south west'}]"
      ]
     },
     "execution_count": 117,
     "metadata": {},
     "output_type": "execute_result"
    }
   ],
   "source": [
    "#lets create a comprehension\n",
    "[income for income in revenue]"
   ]
  },
  {
   "cell_type": "markdown",
   "id": "a690c07f",
   "metadata": {},
   "source": [
    "##### filter"
   ]
  },
  {
   "cell_type": "code",
   "execution_count": 118,
   "id": "1329196d",
   "metadata": {},
   "outputs": [
    {
     "data": {
      "text/plain": [
       "[{'state': 'Lagos', 'igr': 267232774438.06, 'region': 'South West'},\n",
       " {'state': 'Ogun', 'igr': 54823454372.03, 'region': 'South West'},\n",
       " {'state': 'Oyo', 'igr': 25191713445.75, 'region': 'South West'},\n",
       " {'state': 'Ondo', 'igr': 17908118155.96, 'region': 'South West'}]"
      ]
     },
     "execution_count": 118,
     "metadata": {},
     "output_type": "execute_result"
    }
   ],
   "source": [
    "#lets filter to find only the south western states\n",
    "[income for income in revenue if income['region'] == 'South West']"
   ]
  },
  {
   "cell_type": "markdown",
   "id": "131486cf",
   "metadata": {},
   "source": [
    "##### map"
   ]
  },
  {
   "cell_type": "code",
   "execution_count": 119,
   "id": "833c6f96",
   "metadata": {},
   "outputs": [
    {
     "data": {
      "text/plain": [
       "[267232774438.06, 54823454372.03, 25191713445.75, 17908118155.96]"
      ]
     },
     "execution_count": 119,
     "metadata": {},
     "output_type": "execute_result"
    }
   ],
   "source": [
    "#Now that we have the South Western states lets get their IGR since thats what we are interested in\n",
    "[income['igr'] for income in revenue if income['region'] == 'South West']"
   ]
  },
  {
   "cell_type": "code",
   "execution_count": 120,
   "id": "42de332b",
   "metadata": {},
   "outputs": [
    {
     "data": {
      "text/plain": [
       "[26723277443.806, 5482345437.203, 2519171344.575, 1790811815.596]"
      ]
     },
     "execution_count": 120,
     "metadata": {},
     "output_type": "execute_result"
    }
   ],
   "source": [
    "#Next lets get 10% of the IGR which is same as 1/10th or 0.1 or divide IGR/10\n",
    "[income['igr']/10 for income in revenue if income['region'] == 'South West']"
   ]
  },
  {
   "cell_type": "markdown",
   "id": "10e745e2",
   "metadata": {},
   "source": [
    "##### reduce"
   ]
  },
  {
   "cell_type": "code",
   "execution_count": 121,
   "id": "253dc2ca",
   "metadata": {},
   "outputs": [
    {
     "data": {
      "text/plain": [
       "36515606041.18"
      ]
     },
     "execution_count": 121,
     "metadata": {},
     "output_type": "execute_result"
    }
   ],
   "source": [
    "#Finally lets get the sum\n",
    "sum([income['igr']/10 for income in revenue if income['region'] == 'South West'])"
   ]
  },
  {
   "cell_type": "markdown",
   "id": "72011257",
   "metadata": {},
   "source": [
    "##### Q6. List the South Western states that among the top 10 earning states in Nigeria in 2021"
   ]
  },
  {
   "cell_type": "code",
   "execution_count": 122,
   "id": "0db6715e",
   "metadata": {},
   "outputs": [
    {
     "data": {
      "text/plain": [
       "[{'state': 'Lagos', 'igr': 267232774438.06, 'region': 'South West'},\n",
       " {'state': 'Ogun', 'igr': 54823454372.03, 'region': 'South West'},\n",
       " {'state': 'Oyo', 'igr': 25191713445.75, 'region': 'South West'},\n",
       " {'state': 'Ondo', 'igr': 17908118155.96, 'region': 'South West'}]"
      ]
     },
     "execution_count": 122,
     "metadata": {},
     "output_type": "execute_result"
    }
   ],
   "source": [
    "#lets filter to find only the south western states\n",
    "[income for income in revenue if income['region'] == 'South West']"
   ]
  },
  {
   "cell_type": "code",
   "execution_count": 124,
   "id": "6302b93b",
   "metadata": {},
   "outputs": [
    {
     "data": {
      "text/plain": [
       "['Lagos', 'Ogun', 'Oyo', 'Ondo']"
      ]
     },
     "execution_count": 124,
     "metadata": {},
     "output_type": "execute_result"
    }
   ],
   "source": [
    "#Finally lets map to get the state names\n",
    "[income['state'] for income in revenue if income['region'] == 'South West']"
   ]
  },
  {
   "cell_type": "markdown",
   "id": "164a6918",
   "metadata": {},
   "source": [
    "##### Q7. Compare what the top 2 earners (Lagos and FCT) generate to the next 8 states. Do the next 8 states earn as much or more than the top 2?"
   ]
  },
  {
   "cell_type": "code",
   "execution_count": 89,
   "id": "dc809385",
   "metadata": {},
   "outputs": [],
   "source": [
    "top2 = sum([state['igr'] for state in revenue if state['state'] in ['Lagos', 'FCT']])\n",
    "next8 = sum([state['igr'] for state in revenue if state['state'] not in ['Lagos', 'FCT']])"
   ]
  },
  {
   "cell_type": "code",
   "execution_count": 90,
   "id": "7b67c98a",
   "metadata": {},
   "outputs": [
    {
     "data": {
      "text/plain": [
       "True"
      ]
     },
     "execution_count": 90,
     "metadata": {},
     "output_type": "execute_result"
    }
   ],
   "source": [
    "top2 > next8"
   ]
  }
 ],
 "metadata": {
  "kernelspec": {
   "display_name": "Python 3 (ipykernel)",
   "language": "python",
   "name": "python3"
  },
  "language_info": {
   "codemirror_mode": {
    "name": "ipython",
    "version": 3
   },
   "file_extension": ".py",
   "mimetype": "text/x-python",
   "name": "python",
   "nbconvert_exporter": "python",
   "pygments_lexer": "ipython3",
   "version": "3.9.7"
  }
 },
 "nbformat": 4,
 "nbformat_minor": 5
}
