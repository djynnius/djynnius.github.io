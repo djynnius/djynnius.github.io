{
 "cells": [
  {
   "cell_type": "markdown",
   "id": "323ade7f",
   "metadata": {},
   "source": [
    "# Python Collections (1)"
   ]
  },
  {
   "cell_type": "markdown",
   "id": "73dab029",
   "metadata": {},
   "source": [
    "## Lets set a few variables"
   ]
  },
  {
   "cell_type": "code",
   "execution_count": 51,
   "id": "2f602012",
   "metadata": {},
   "outputs": [],
   "source": [
    "fruits = ['orange', 'apple', 'guava', 'banana', 'mango', 'grapes', 'cashews'] \n",
    "player = {'name': 'Oliseh', 'position': 'midfield', 'team': 'super eagles'}\n",
    "team_94 = {'okocha', 'nwanu', 'oliseh', 'amuneke', 'iroha'} \n",
    "team_98 = {'garba', 'oliseh', 'ogbeche', 'ikpeba', 'okocha', 'taribo'}\n",
    "story = \"As I was going to St. Ives, I met a man with seven wives\"\n",
    "date = '31/5/2022' \n",
    "olympics = ('united states of america', 'china', 'japan')"
   ]
  },
  {
   "cell_type": "markdown",
   "id": "61777ccb",
   "metadata": {},
   "source": [
    "### Indexing"
   ]
  },
  {
   "cell_type": "code",
   "execution_count": 52,
   "id": "51caa2ee",
   "metadata": {},
   "outputs": [],
   "source": [
    "print(fruits[0])\n",
    "#print(fruits[-1])\n",
    "#print(fruits[-2])\n",
    "\n",
    "#print(story[5])\n",
    "#print(story[12])\n",
    "#print(player['name'])"
   ]
  },
  {
   "cell_type": "markdown",
   "id": "5ca2f46d",
   "metadata": {},
   "source": [
    "### Slicing"
   ]
  },
  {
   "cell_type": "code",
   "execution_count": 53,
   "id": "9d5138df",
   "metadata": {},
   "outputs": [],
   "source": [
    "print(fruits[1:4])\n",
    "#print(fruits[2:5])\n",
    "#print(fruits[-4:-1])\n",
    "#print(fruits[-5:-2])\n",
    "#print(story[5:14])\n",
    "#print(story[-28:-16])"
   ]
  },
  {
   "cell_type": "markdown",
   "id": "2a73e7bf",
   "metadata": {},
   "source": [
    "### Updating"
   ]
  },
  {
   "cell_type": "code",
   "execution_count": 55,
   "id": "6d9bda0c",
   "metadata": {},
   "outputs": [],
   "source": [
    "fruits[1] = 'water melon'\n",
    "#print(fruits)\n",
    "#fruits[-1] = 'cashew'\n",
    "#print(fruits)\n",
    "#player['team'] = 'ajax'\n",
    "#print(player)\n",
    "\n",
    "#fruits[1:4] = ['tomatoes', 'onions', 'pepper', 'coconut']\n",
    "#print(fruits)"
   ]
  },
  {
   "cell_type": "markdown",
   "id": "1c3584b3",
   "metadata": {},
   "source": [
    "### Deleting"
   ]
  },
  {
   "cell_type": "code",
   "execution_count": 56,
   "id": "98d47a3e",
   "metadata": {},
   "outputs": [],
   "source": [
    "del fruits[3] \n",
    "#print(fruits) \n",
    "\n",
    "#del fruits[2:4]\n",
    "#print(fruits)\n",
    "\n",
    "#del player['name']\n",
    "#print(player)"
   ]
  },
  {
   "cell_type": "markdown",
   "id": "135bf3df",
   "metadata": {},
   "source": [
    "## Split and join "
   ]
  },
  {
   "cell_type": "code",
   "execution_count": 57,
   "id": "25e04875",
   "metadata": {},
   "outputs": [],
   "source": [
    "word_salad = story.split()\n",
    "#print(word_salad)\n",
    "scattered_date = date.split('/')\n",
    "#print(scattered_date[0])\n",
    "#print(scattered_date[1])\n",
    "#print(scattered_date[2])\n",
    "\n",
    "day = scattered_date[0]\n",
    "month = scattered_date[1]\n",
    "year = scattered_date[2]"
   ]
  },
  {
   "cell_type": "code",
   "execution_count": 58,
   "id": "fb910b8c",
   "metadata": {},
   "outputs": [],
   "source": [
    "merge_date = '-'.join(scattered_date)\n",
    "#print(merge_date)\n",
    "fruit_salad = ', '.join(fruits)\n",
    "#print(fruit_salad)"
   ]
  },
  {
   "cell_type": "markdown",
   "id": "4cd0b057",
   "metadata": {},
   "source": [
    "## Methods  "
   ]
  },
  {
   "cell_type": "markdown",
   "id": "06d9c92b",
   "metadata": {},
   "source": [
    "### List Methods "
   ]
  },
  {
   "cell_type": "code",
   "execution_count": 59,
   "id": "c9eb48ee",
   "metadata": {},
   "outputs": [],
   "source": [
    "#reset fruits\n",
    "fruits = ['orange', 'apple', 'guava', 'banana', 'mango', 'grapes', 'cashews'] \n",
    "#print(fruits)\n",
    "\n",
    "#fruits.sort()\n",
    "#print(fruits)\n",
    "\n",
    "#plants = fruits\n",
    "#vegitables = fruits.copy()\n",
    "#print(fruits)\n",
    "#print(plants)\n",
    "#print(vegitables)\n",
    "\n",
    "#fruits[-1] = 'pear' \n",
    "#print(fruits)\n",
    "#print(plants)\n",
    "#print(vegitables)\n",
    "\n",
    "#print(fruits.index('mango'))\n",
    "\n",
    "#fruits.insert(3, 'almonds')\n",
    "\n",
    "#print(fruits)\n",
    "\n",
    "#x = fruits.pop()\n",
    "#print(x)\n",
    "#print(fruits)\n",
    "\n",
    "#y = fruits.pop(3)\n",
    "#print(y)\n",
    "#print(fruits)"
   ]
  },
  {
   "cell_type": "markdown",
   "id": "712a826f",
   "metadata": {},
   "source": [
    "### Set Methods "
   ]
  },
  {
   "cell_type": "code",
   "execution_count": 60,
   "id": "c87dee05",
   "metadata": {},
   "outputs": [],
   "source": [
    "print(team_94)\n",
    "print(team_98)\n",
    "\n",
    "#team_94.add('ruffai')\n",
    "#print(team_94)\n",
    "#team_98.add('babayaro')\n",
    "#print(team_98)\n",
    "\n",
    "#print(team_94)\n",
    "#print(team_98)\n",
    "\n",
    "#print(team_94.union(team_98))\n",
    "#print(team_94.intersection(team_98))\n",
    "#print(team_94.difference(team_98))\n",
    "#print(team_98.difference(team_94))"
   ]
  },
  {
   "cell_type": "markdown",
   "id": "bc379132",
   "metadata": {},
   "source": [
    "### Dictionary methods"
   ]
  },
  {
   "cell_type": "code",
   "execution_count": 61,
   "id": "b406cce2",
   "metadata": {},
   "outputs": [],
   "source": [
    "#reset player\n",
    "player = {'name': 'Oliseh', 'position': 'midfield', 'team': 'super eagles'}\n",
    "print(player)\n",
    "\n",
    "#print(player.keys())\n",
    "#print(player.values())"
   ]
  },
  {
   "cell_type": "markdown",
   "id": "576e7219",
   "metadata": {},
   "source": [
    "## Unpacking tuples, lists, and sets "
   ]
  },
  {
   "cell_type": "code",
   "execution_count": 62,
   "id": "7074f7c2",
   "metadata": {},
   "outputs": [],
   "source": [
    "first, second, third = olympics\n",
    "#print(first)\n",
    "#print(second)\n",
    "#print(third)"
   ]
  },
  {
   "cell_type": "markdown",
   "id": "f2f7f32d",
   "metadata": {},
   "source": [
    "## Loops"
   ]
  },
  {
   "cell_type": "code",
   "execution_count": 63,
   "id": "c5519233",
   "metadata": {},
   "outputs": [],
   "source": [
    "for fruit in fruits:\n",
    "    print(fruit)"
   ]
  },
  {
   "cell_type": "markdown",
   "id": "fc30e65c",
   "metadata": {},
   "source": [
    "# Homework"
   ]
  },
  {
   "cell_type": "markdown",
   "id": "7eea5ae7",
   "metadata": {},
   "source": [
    "### 1. From the list of scores, sort them from lowest to highest then create a slices of those that got A grade (70-100) and count how many people passed"
   ]
  },
  {
   "cell_type": "code",
   "execution_count": 68,
   "id": "8bc4c359",
   "metadata": {},
   "outputs": [],
   "source": [
    "scores = [42, 76, 52, 57, 53, 52.5, 81, 97, 96.5, 44, 71, 55, 54, 50, 66, 65, 57, 82]"
   ]
  },
  {
   "cell_type": "markdown",
   "id": "ff63d826",
   "metadata": {},
   "source": [
    "### 2. The examiner found there was a mistake with the highest score and want you to update it to 99.5 Go ahead and make the update"
   ]
  },
  {
   "cell_type": "markdown",
   "id": "d299ab1b",
   "metadata": {},
   "source": [
    "### 3. You have a data set with a date formated as YYYY-mm-dd but you were told that the British institute wants its dates formated as dd/mm/YYYY. Fix the problem for the date below"
   ]
  },
  {
   "cell_type": "code",
   "execution_count": 70,
   "id": "23913af5",
   "metadata": {},
   "outputs": [],
   "source": [
    "old_date = '2022-07-18'"
   ]
  },
  {
   "cell_type": "markdown",
   "id": "d40edd65",
   "metadata": {},
   "source": [
    "### 4. You received a tuple of civil servants who have been promoted in the last 5 years and you are asked to produce a list of people who have been promoted with no duplicates and names in alphabetical order"
   ]
  },
  {
   "cell_type": "code",
   "execution_count": 71,
   "id": "0253f802",
   "metadata": {},
   "outputs": [],
   "source": [
    "civil_servants = (\n",
    "    'Chioma Abdul', \n",
    "    'Ronke Usman',\n",
    "    'Tavershima Ekong', \n",
    "    'Ifunanya Pam', \n",
    "    'Chioma Abdul', \n",
    "    'Rukevwe Idowu', \n",
    "    'Belema Idris', \n",
    "    'Danaldi Toborie', \n",
    "    'Akpan Ogbonna',\n",
    "    'Zainab Dede', \n",
    "    'Chinonso Olajide',\n",
    "    'Ronke Usman', \n",
    "    'Bamidele Agba', \n",
    "    'Ifunanya Pam', \n",
    "    'Chioma Dede', \n",
    "    'Chioma Abdul', \n",
    "    'Ogunmola Irabor'\n",
    ")"
   ]
  },
  {
   "cell_type": "code",
   "execution_count": null,
   "id": "b99d4dc3",
   "metadata": {},
   "outputs": [],
   "source": []
  }
 ],
 "metadata": {
  "kernelspec": {
   "display_name": "Python 3 (ipykernel)",
   "language": "python",
   "name": "python3"
  },
  "language_info": {
   "codemirror_mode": {
    "name": "ipython",
    "version": 3
   },
   "file_extension": ".py",
   "mimetype": "text/x-python",
   "name": "python",
   "nbconvert_exporter": "python",
   "pygments_lexer": "ipython3",
   "version": "3.9.7"
  }
 },
 "nbformat": 4,
 "nbformat_minor": 5
}
