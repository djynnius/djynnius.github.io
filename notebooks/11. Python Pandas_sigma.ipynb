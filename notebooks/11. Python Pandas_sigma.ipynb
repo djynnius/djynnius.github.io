{
 "cells": [
  {
   "cell_type": "markdown",
   "id": "99cf677a",
   "metadata": {},
   "source": [
    "# Pandas, Data Cleaning "
   ]
  },
  {
   "cell_type": "code",
   "execution_count": 1,
   "id": "04811776",
   "metadata": {},
   "outputs": [],
   "source": [
    "import pandas as pd  "
   ]
  },
  {
   "cell_type": "markdown",
   "id": "063a99c8",
   "metadata": {},
   "source": [
    "##### Import Dataset"
   ]
  },
  {
   "cell_type": "code",
   "execution_count": 5,
   "id": "bc655005",
   "metadata": {},
   "outputs": [],
   "source": [
    "meningitis = pd.read_csv(\"meningitis_dataset.csv\")  "
   ]
  },
  {
   "cell_type": "markdown",
   "id": "5fc05f10",
   "metadata": {},
   "source": [
    "##### Exoplore basic information about dataset"
   ]
  },
  {
   "cell_type": "code",
   "execution_count": 128,
   "id": "b8ab36af",
   "metadata": {},
   "outputs": [],
   "source": [
    "#meningitis.info()\n",
    "#meningitis.shape\n",
    "#meningitis.columns"
   ]
  },
  {
   "cell_type": "markdown",
   "id": "f2a2e7b6",
   "metadata": {},
   "source": [
    "##### Variable Indexing"
   ]
  },
  {
   "cell_type": "code",
   "execution_count": 16,
   "id": "803a6034",
   "metadata": {},
   "outputs": [],
   "source": [
    "#meningitis[['surname', 'firstname', 'middlename']] \n",
    "#meningitis[['middlename']]\n",
    "#meningitis['middlename'] \n",
    "#meningitis.middlename"
   ]
  },
  {
   "cell_type": "code",
   "execution_count": 27,
   "id": "0b9f04ad",
   "metadata": {},
   "outputs": [],
   "source": [
    "#Direct indexing\n",
    "#meningitis[['surname', 'firstname', 'middlename']] #this is a mini dataframe\n",
    "#meningitis['surname'][1] \n",
    "#meningitis.surname[2]"
   ]
  },
  {
   "cell_type": "markdown",
   "id": "5185ffc8",
   "metadata": {},
   "source": [
    "# Indexed Locations (iloc)"
   ]
  },
  {
   "cell_type": "code",
   "execution_count": 30,
   "id": "aff5ded3",
   "metadata": {},
   "outputs": [],
   "source": [
    "#meningitis.iloc[2, 3]\n",
    "#meningitis.iloc[1:3, 4:12]"
   ]
  },
  {
   "cell_type": "markdown",
   "id": "1445c43d",
   "metadata": {},
   "source": [
    "# Locations (loc)"
   ]
  },
  {
   "cell_type": "code",
   "execution_count": 40,
   "id": "2942e42a",
   "metadata": {},
   "outputs": [],
   "source": [
    "#meningitis.loc[0:3, ['surname', 'firstname', 'middlename']]\n",
    "#meningitis.loc[1:7, ['surname']]\n",
    "#meningitis.loc[5:10, 'surname']"
   ]
  },
  {
   "cell_type": "markdown",
   "id": "678fd3c7",
   "metadata": {},
   "source": [
    "# Selecting COlumns"
   ]
  },
  {
   "cell_type": "markdown",
   "id": "5969485c",
   "metadata": {},
   "source": [
    "```SQL\n",
    "SELECT * \n",
    "FROM meningitis \n",
    "```"
   ]
  },
  {
   "cell_type": "code",
   "execution_count": 42,
   "id": "a70179ba",
   "metadata": {},
   "outputs": [],
   "source": [
    "#meningitis"
   ]
  },
  {
   "cell_type": "markdown",
   "id": "62678f76",
   "metadata": {},
   "source": [
    "```SQL\n",
    "SELECT \n",
    "    surname \n",
    "    ,firstname \n",
    "FROM meningitis \n",
    "```"
   ]
  },
  {
   "cell_type": "code",
   "execution_count": 44,
   "id": "4d79f4c9",
   "metadata": {},
   "outputs": [],
   "source": [
    "#meningitis[['surname', 'firstname']]"
   ]
  },
  {
   "cell_type": "markdown",
   "id": "f96492c0",
   "metadata": {},
   "source": [
    "```SQL\n",
    "SELECT \n",
    "    firstname \n",
    "    ,surname AS lastname \n",
    "FROM meningitis \n",
    "```"
   ]
  },
  {
   "cell_type": "code",
   "execution_count": 46,
   "id": "a59b3f5f",
   "metadata": {},
   "outputs": [],
   "source": [
    "#meningitis[['firstname', 'surname']].rename(columns={'surname': 'lastname'})"
   ]
  },
  {
   "cell_type": "markdown",
   "id": "2233d0e1",
   "metadata": {},
   "source": [
    "```SQL\n",
    "SELECT * \n",
    "FROM meningitis \n",
    "WHERE state = 'Lagos'\n",
    "```"
   ]
  },
  {
   "cell_type": "code",
   "execution_count": 48,
   "id": "c80c833f",
   "metadata": {},
   "outputs": [],
   "source": [
    "#meningitis.loc[dataset['state'] == 'Lagos']"
   ]
  },
  {
   "cell_type": "markdown",
   "id": "14f30030",
   "metadata": {},
   "source": [
    "```SQL\n",
    "SELECT \n",
    "    firstname \n",
    "    ,surname \n",
    "    ,state  \n",
    "FROM mennigitis \n",
    "WHERE state = 'Lagos'\n",
    "```"
   ]
  },
  {
   "cell_type": "code",
   "execution_count": 50,
   "id": "1405a8b9",
   "metadata": {},
   "outputs": [],
   "source": [
    "#meningitis.loc[meningitis['state'] == 'Lagos', ['firstname', 'surname', 'state']]"
   ]
  },
  {
   "cell_type": "markdown",
   "id": "7c4c2362",
   "metadata": {},
   "source": [
    "```SQL\n",
    "SELECT * \n",
    "FROM meningitis \n",
    "WHERE state IN ('Lagos', 'Kano', 'Rivers')\n",
    "```"
   ]
  },
  {
   "cell_type": "code",
   "execution_count": 53,
   "id": "13c07dc2",
   "metadata": {},
   "outputs": [],
   "source": [
    "#meningitis.loc[meningitis['state'].isin(['Lagos', 'Kano', 'Rivers'])]"
   ]
  },
  {
   "cell_type": "markdown",
   "id": "efb41f87",
   "metadata": {},
   "source": [
    "```SQL\n",
    "SELECT * \n",
    "FROM meningitis \n",
    "WHERE firstname LIKE '%ola%' \n",
    "```"
   ]
  },
  {
   "cell_type": "code",
   "execution_count": 64,
   "id": "2424f787",
   "metadata": {},
   "outputs": [],
   "source": [
    "#meningitis.loc[dataset['firstname'].str.contains('ola')]"
   ]
  },
  {
   "cell_type": "markdown",
   "id": "de170be4",
   "metadata": {},
   "source": [
    "```SQL\n",
    "SELECT * \n",
    "FROM meningitis \n",
    "WHERE state = 'Lagos' AND settlement = 'Urban'\n",
    "```"
   ]
  },
  {
   "cell_type": "code",
   "execution_count": 66,
   "id": "377f1e1a",
   "metadata": {},
   "outputs": [],
   "source": [
    "#meningitis.loc[(meningitis['state']=='Lagos') & (dataset['settlement']=='Urban')]"
   ]
  },
  {
   "cell_type": "markdown",
   "id": "15dbb41c",
   "metadata": {},
   "source": [
    "```SQL\n",
    "SELECT * \n",
    "FROM meningitis \n",
    "ORDER BY firstname\n",
    "```"
   ]
  },
  {
   "cell_type": "code",
   "execution_count": 68,
   "id": "6fd2f1bb",
   "metadata": {},
   "outputs": [],
   "source": [
    "#meningitis.sort_values('firstname')"
   ]
  },
  {
   "cell_type": "markdown",
   "id": "1e6c5076",
   "metadata": {},
   "source": [
    "```SQL\n",
    "SELECT * \n",
    "FROM meningitis \n",
    "ORDER BY firstname DESC  \n",
    "```"
   ]
  },
  {
   "cell_type": "code",
   "execution_count": 70,
   "id": "0839e552",
   "metadata": {},
   "outputs": [],
   "source": [
    "#meningitis.sort_values('firstname', ascending=False)"
   ]
  },
  {
   "cell_type": "markdown",
   "id": "a80ca4ad",
   "metadata": {},
   "source": [
    "```SQL\n",
    "SELECT * \n",
    "FROM meningitis \n",
    "ORDER BY surname, middlename  \n",
    "```"
   ]
  },
  {
   "cell_type": "code",
   "execution_count": 123,
   "id": "05a0f0e9",
   "metadata": {},
   "outputs": [],
   "source": [
    "#meningitis.sort_values(['surname', 'middlename'])\n",
    "#meningitis.sort_values(['surname', 'middlename'], ascending=[True, False])"
   ]
  },
  {
   "cell_type": "markdown",
   "id": "88bbc933",
   "metadata": {},
   "source": [
    "```SQL\n",
    "SELECT \n",
    "    firstname \n",
    "    ,'All' AS zone \n",
    "FROM meningitis  \n",
    "```"
   ]
  },
  {
   "cell_type": "code",
   "execution_count": 83,
   "id": "dae7ee5b",
   "metadata": {},
   "outputs": [],
   "source": [
    "meningitis['zone'] = 'All'\n",
    "#meningitis"
   ]
  },
  {
   "cell_type": "markdown",
   "id": "46534f23",
   "metadata": {},
   "source": [
    "```SQL\n",
    "SELECT \n",
    "    firstname \n",
    "    ,age+age AS double_age \n",
    "FROM meningitis  \n",
    "```"
   ]
  },
  {
   "cell_type": "code",
   "execution_count": 126,
   "id": "213e5a7e",
   "metadata": {},
   "outputs": [],
   "source": [
    "#meningitis['double_age'] = meningitis.loc[:, 'age'] + meningitis.loc[:, 'age']\n",
    "#meningitis['fullname'] = meningitis.loc[:, 'firstname'] +\" \"+ meningitis.loc[:, 'surname']\n",
    "#meningitis"
   ]
  },
  {
   "cell_type": "markdown",
   "id": "1bec2f2b",
   "metadata": {},
   "source": [
    "```SQL\n",
    "SELECT \n",
    "    firstname\n",
    "    ,CASE state\n",
    "        WHEN 'Lagos' THEN 'SW' \n",
    "        WHEN 'Kano' THEN 'NW' \n",
    "        ELSE 'Unset'\n",
    "    END AS zone  \n",
    "FROM mennigitis  \n",
    "```"
   ]
  },
  {
   "cell_type": "code",
   "execution_count": 127,
   "id": "1073edad",
   "metadata": {},
   "outputs": [],
   "source": [
    "#meningitis['zone'] = 'Unset'\n",
    "#meningitis.loc[meningitis['state'] == 'Lagos', 'zone'] = 'SW'\n",
    "#meningitis.loc[meningitis['state'] == 'Kano', 'zone'] = 'NW'\n",
    "#meningitis"
   ]
  },
  {
   "cell_type": "markdown",
   "id": "9b2b9355",
   "metadata": {},
   "source": [
    "# Merging Datasets"
   ]
  },
  {
   "cell_type": "code",
   "execution_count": 109,
   "id": "260ea91e",
   "metadata": {},
   "outputs": [],
   "source": [
    "#lets make the datasets\n",
    "bio = meningitis.loc[0:10, ['id', 'firstname', 'surname', 'gender', 'state', 'age']]"
   ]
  },
  {
   "cell_type": "code",
   "execution_count": 110,
   "id": "ef1d7aaa",
   "metadata": {},
   "outputs": [],
   "source": [
    "diseases = meningitis.loc[0:10, ['id', 'cholera', 'diarrhoea', 'measles', 'ebola']]"
   ]
  },
  {
   "cell_type": "code",
   "execution_count": 115,
   "id": "cbb9db5b",
   "metadata": {},
   "outputs": [],
   "source": [
    "Lagos = meningitis.loc[meningitis['state'] == 'Lagos', ['id', 'firstname', 'surname', 'gender', 'state']][0:10]\n"
   ]
  },
  {
   "cell_type": "code",
   "execution_count": 116,
   "id": "256d6de4",
   "metadata": {},
   "outputs": [],
   "source": [
    "Kano = meningitis.loc[meningitis['state'] == 'Kano', ['id', 'firstname', 'surname', 'gender', 'state']][0:10]\n"
   ]
  },
  {
   "cell_type": "markdown",
   "id": "b58c5471",
   "metadata": {},
   "source": [
    "## Merging (joining) - Horizontal merge"
   ]
  },
  {
   "cell_type": "markdown",
   "id": "e3ef35f2",
   "metadata": {},
   "source": [
    "```SQL\n",
    "SELECT * \n",
    "FROM bio AS b \n",
    "    LEFT JOIN diseases AS d ON b.id=d.id\n",
    "```"
   ]
  },
  {
   "cell_type": "code",
   "execution_count": 136,
   "id": "90217f05",
   "metadata": {},
   "outputs": [],
   "source": [
    "#bio.merge(diseases, left_on='id', right_on='id')\n",
    "#merged = bio.merge(diseases, left_on='id', right_on='id')"
   ]
  },
  {
   "cell_type": "markdown",
   "id": "961ac81e",
   "metadata": {},
   "source": [
    "## Merging (Uniting) - Vertical"
   ]
  },
  {
   "cell_type": "markdown",
   "id": "2391ba61",
   "metadata": {},
   "source": [
    "```SQL\n",
    "SELECT * \n",
    "FROM Lagos \n",
    "UNION\n",
    "SELECT * \n",
    "FROM Kano\n",
    "```"
   ]
  },
  {
   "cell_type": "code",
   "execution_count": 137,
   "id": "18460a2a",
   "metadata": {},
   "outputs": [],
   "source": [
    "#pd.concat([Lagos, Kano])\n",
    "#united = pd.concat([Lagos, Kano])"
   ]
  },
  {
   "cell_type": "code",
   "execution_count": 138,
   "id": "9fa0cce3",
   "metadata": {},
   "outputs": [],
   "source": [
    "#Save to CSV\n",
    "merged.to_csv('merged.csv')\n",
    "united.to_csv('united.csv')"
   ]
  },
  {
   "cell_type": "code",
   "execution_count": 141,
   "id": "d322826f",
   "metadata": {},
   "outputs": [],
   "source": [
    "with pd.ExcelWriter('together.xlsx') as writer:\n",
    "      merged.to_excel(writer, sheet_name='merged')\n",
    "      united.to_excel(writer, sheet_name='united')"
   ]
  },
  {
   "cell_type": "markdown",
   "id": "ae631bb3",
   "metadata": {},
   "source": [
    "**You may see the error:**\n",
    "```bash \n",
    "ModuleNotFoundError: No module named 'openpyxl'\n",
    "```\n",
    "\n",
    "**in that case just install th missing module in the anaconda terminal**\n",
    "\n",
    "```bash\n",
    "pip install openpyxl\n",
    "```\n"
   ]
  }
 ],
 "metadata": {
  "kernelspec": {
   "display_name": "Python 3 (ipykernel)",
   "language": "python",
   "name": "python3"
  },
  "language_info": {
   "codemirror_mode": {
    "name": "ipython",
    "version": 3
   },
   "file_extension": ".py",
   "mimetype": "text/x-python",
   "name": "python",
   "nbconvert_exporter": "python",
   "pygments_lexer": "ipython3",
   "version": "3.9.7"
  }
 },
 "nbformat": 4,
 "nbformat_minor": 5
}
